{
 "cells": [
  {
   "cell_type": "markdown",
   "id": "6f4536c5",
   "metadata": {},
   "source": [
    "# Data from NOAA and climod2\n",
    "* https://www.ncdc.noaa.gov/cdo-web/\n",
    "* http://climod2.nrcc.cornell.edu/\n",
    "* Note:\n",
    "    * T: Trace amount- Less than 0.01\" precipitation; less than 0.1\" snowfall; less than 1\" snow depth.\n",
    "    * S: Subsequent- Indicates the observation is missing, but is included in a subsequent value.\n",
    "    * A: Accumulated- Indicates an accumulated value which includes the current day and any immediately preceeding missing days (starting with a day flagged by \"S\").\n",
    "    * M: Missing."
   ]
  },
  {
   "cell_type": "markdown",
   "id": "4a5e32ce",
   "metadata": {},
   "source": [
    "___"
   ]
  },
  {
   "cell_type": "markdown",
   "id": "5cf76e8c",
   "metadata": {},
   "source": [
    "# Importing Libraries and Data"
   ]
  },
  {
   "cell_type": "code",
   "execution_count": 142,
   "id": "e745a2fc",
   "metadata": {},
   "outputs": [],
   "source": [
    "import pandas as pd\n",
    "import numpy as np\n",
    "import matplotlib as plt\n",
    "from matplotlib import pyplot as plt\n",
    "%matplotlib inline\n",
    "import seaborn as sns\n",
    "import os\n",
    "sns.set()"
   ]
  },
  {
   "cell_type": "markdown",
   "id": "50c7f2cf",
   "metadata": {},
   "source": [
    "# Import NOAA data and grab useful columns"
   ]
  },
  {
   "cell_type": "code",
   "execution_count": 143,
   "id": "c183728f",
   "metadata": {},
   "outputs": [],
   "source": [
    "df = pd.read_csv('Bradley_1_8_1942_2_8_2023.csv', skipinitialspace = True)"
   ]
  },
  {
   "cell_type": "code",
   "execution_count": 144,
   "id": "5487ec19",
   "metadata": {},
   "outputs": [],
   "source": [
    "df = df.drop(['STATION'], axis = 1)"
   ]
  },
  {
   "cell_type": "code",
   "execution_count": 145,
   "id": "6e68db32",
   "metadata": {},
   "outputs": [],
   "source": [
    "df = df.drop(['NAME'], axis = 1)"
   ]
  },
  {
   "cell_type": "code",
   "execution_count": 146,
   "id": "4f76058a",
   "metadata": {},
   "outputs": [],
   "source": [
    "df['Year'] = pd.DatetimeIndex(df['DATE']).year\n",
    "df['Month'] = pd.DatetimeIndex(df['DATE']).month\n",
    "df['Day'] = pd.DatetimeIndex(df['DATE']).day"
   ]
  },
  {
   "cell_type": "code",
   "execution_count": 147,
   "id": "697395e5",
   "metadata": {},
   "outputs": [],
   "source": [
    "df = df.sort_values(by=['DATE'])"
   ]
  },
  {
   "cell_type": "code",
   "execution_count": 148,
   "id": "6ac1db5f",
   "metadata": {},
   "outputs": [
    {
     "name": "stdout",
     "output_type": "stream",
     "text": [
      "DATE percent NaN: 0.0\n",
      "ACMH percent NaN: 0.5988958824149935\n",
      "ACSH percent NaN: 0.5987200675129224\n",
      "AWND percent NaN: 0.4979078026653539\n",
      "FMTM percent NaN: 0.6431660747564963\n",
      "FRGT percent NaN: 0.9998593480783431\n",
      "GAHT percent NaN: 0.9998945110587574\n",
      "PGTM percent NaN: 0.5575090544674567\n",
      "PRCP percent NaN: 0.0483842610499666\n",
      "PSUN percent NaN: 0.7560040789057281\n",
      "SNOW percent NaN: 0.12792292274693204\n",
      "SNWD percent NaN: 0.30440592144590173\n",
      "TAVG percent NaN: 0.7311086887724604\n",
      "TMAX percent NaN: 0.04901719469742255\n",
      "TMIN percent NaN: 0.04898203171700834\n",
      "TSUN percent NaN: 0.5607088856851506\n",
      "WDF1 percent NaN: 0.8460916347269595\n",
      "WDF2 percent NaN: 0.6551566510777453\n",
      "WDF5 percent NaN: 0.655754421744787\n",
      "WDFG percent NaN: 0.7296670065754773\n",
      "WDFM percent NaN: 0.7532965294138331\n",
      "WESD percent NaN: 0.9402229332958262\n",
      "WSF1 percent NaN: 0.846021308766131\n",
      "WSF2 percent NaN: 0.6551566510777453\n",
      "WSF5 percent NaN: 0.655754421744787\n",
      "WSFG percent NaN: 0.729456028692992\n",
      "WSFM percent NaN: 0.7532965294138331\n",
      "WT01 percent NaN: 0.6350785892612257\n",
      "WT02 percent NaN: 0.94883786349731\n",
      "WT03 percent NaN: 0.9468687365941137\n",
      "WT04 percent NaN: 0.9746474911213474\n",
      "WT05 percent NaN: 0.997925384155561\n",
      "WT06 percent NaN: 0.9798164492422378\n",
      "WT07 percent NaN: 0.9999648370195858\n",
      "WT08 percent NaN: 0.8146910932170611\n",
      "WT09 percent NaN: 0.9954639755265656\n",
      "WT11 percent NaN: 0.9992615774113014\n",
      "WT12 percent NaN: 0.9999648370195858\n",
      "WT13 percent NaN: 0.9075213615106016\n",
      "WT14 percent NaN: 0.967052287351876\n",
      "WT15 percent NaN: 0.9969759836843771\n",
      "WT16 percent NaN: 0.6768522099933191\n",
      "WT17 percent NaN: 0.9943035971728964\n",
      "WT18 percent NaN: 0.8958824149934949\n",
      "WT19 percent NaN: 0.9971166356060339\n",
      "WT21 percent NaN: 0.9991209254896445\n",
      "WT22 percent NaN: 0.9957101163894652\n",
      "WV01 percent NaN: 0.9998593480783431\n",
      "WV03 percent NaN: 0.9999296740391715\n",
      "Year percent NaN: 0.0\n",
      "Month percent NaN: 0.0\n",
      "Day percent NaN: 0.0\n"
     ]
    }
   ],
   "source": [
    "for col in df.columns:\n",
    "    print(col,'percent NaN:', df[col].isna().sum()/len(df))"
   ]
  },
  {
   "cell_type": "markdown",
   "id": "e4ddc7a0",
   "metadata": {},
   "source": [
    "# Drop\n",
    "* ['ACMH ','ACSH ','AWND','FMTM','FRGT','GAHT','PGTM','PSUN','TSUN','WDF1','WDF2','WDF5','WDFG', 'WDFM','WESD','WSF1','WSF2','WSF5','WDFG','WDFM','WESD','WSF1','WSF2','WSF5','WSFG','WSFM', 'WT01','WT02','WT03','WT04','WT05','WT06','WT07','WT08','WT09', 'WT11','WT12','WT13','WT14','WT15','WT16','WT17','WT18','WT19', 'WT21','WT22','WV01','WV03']"
   ]
  },
  {
   "cell_type": "markdown",
   "id": "1ee18c45",
   "metadata": {},
   "source": [
    "# Keep\n",
    "* DATE,ACMH,ACSH,AWND,FMTM,PGTM,PRCP,SNOW,SNWD,TAVG,TMAX,TMIN,TSUN,WDF1,WDF2,WDF5,WDFG,WDFM,\n",
    "WESD,WSF1,WSF2,WSF5,WSFG,WSFM,WT01,WT08,WT16,Year,Month,Da"
   ]
  },
  {
   "cell_type": "code",
   "execution_count": 149,
   "id": "b914346f",
   "metadata": {},
   "outputs": [],
   "source": [
    "df = df.drop(['ACMH','ACSH','AWND','FMTM','FRGT','GAHT','PGTM','PSUN','TSUN','WDF1',\n",
    "              'WDF2','WDF5','WDFG', 'WDFM','WESD','WSF1','WSF2','WSF5','WDFG','WDFM',\n",
    "              'WESD','WSF1','WSF2','WSF5','WSFG','WSFM', 'WT01','WT02','WT03','WT04',\n",
    "              'WT05','WT06','WT07','WT08','WT09', 'WT11','WT12','WT13','WT14','WT15',\n",
    "              'WT16','WT17','WT18','WT19', 'WT21','WT22','WV01','WV03'], axis = 1).copy()"
   ]
  },
  {
   "cell_type": "code",
   "execution_count": 150,
   "id": "071eea93",
   "metadata": {},
   "outputs": [
    {
     "data": {
      "text/plain": [
       "(28439, 10)"
      ]
     },
     "execution_count": 150,
     "metadata": {},
     "output_type": "execute_result"
    }
   ],
   "source": [
    "df.shape"
   ]
  },
  {
   "cell_type": "code",
   "execution_count": 151,
   "id": "07981592",
   "metadata": {},
   "outputs": [
    {
     "name": "stdout",
     "output_type": "stream",
     "text": [
      "DATE percent NaN: 0.0\n",
      "PRCP percent NaN: 0.0483842610499666\n",
      "SNOW percent NaN: 0.12792292274693204\n",
      "SNWD percent NaN: 0.30440592144590173\n",
      "TAVG percent NaN: 0.7311086887724604\n",
      "TMAX percent NaN: 0.04901719469742255\n",
      "TMIN percent NaN: 0.04898203171700834\n",
      "Year percent NaN: 0.0\n",
      "Month percent NaN: 0.0\n",
      "Day percent NaN: 0.0\n"
     ]
    }
   ],
   "source": [
    "for col in df.columns:\n",
    "    print(col,'percent NaN:', df[col].isna().sum()/len(df))"
   ]
  },
  {
   "cell_type": "code",
   "execution_count": 152,
   "id": "399cfa30",
   "metadata": {},
   "outputs": [],
   "source": [
    "# lowercase all columns\n",
    "df.columns = [x.lower() for x in df.columns]"
   ]
  },
  {
   "cell_type": "markdown",
   "id": "41c65f2d",
   "metadata": {},
   "source": [
    "# End Getting NOAA Data"
   ]
  },
  {
   "cell_type": "markdown",
   "id": "447c14ee",
   "metadata": {},
   "source": [
    "___"
   ]
  },
  {
   "cell_type": "markdown",
   "id": "77bf0b1f",
   "metadata": {},
   "source": [
    "# Import Cornell data and get useful columns"
   ]
  },
  {
   "cell_type": "code",
   "execution_count": 153,
   "id": "a18b746b",
   "metadata": {},
   "outputs": [],
   "source": [
    "df_cornell = pd.read_csv('Bradley_Cornell_1_1_1940_2_13_2023.txt', sep=',', header=0)"
   ]
  },
  {
   "cell_type": "code",
   "execution_count": 154,
   "id": "3ab16c2c",
   "metadata": {},
   "outputs": [],
   "source": [
    "df_cornell.columns = [i.replace(' ','') for i in df_cornell.columns]"
   ]
  },
  {
   "cell_type": "code",
   "execution_count": 155,
   "id": "b5c4ccce",
   "metadata": {},
   "outputs": [],
   "source": [
    "df_cornell = df_cornell.sort_values(by=['Date'])"
   ]
  },
  {
   "cell_type": "code",
   "execution_count": 156,
   "id": "8cb3d0b1",
   "metadata": {},
   "outputs": [
    {
     "data": {
      "text/plain": [
       "Date                       1940-01-01\n",
       "MaxTemperature                      M\n",
       "MaxTemperatureNormal             36.6\n",
       "MaxTemperatureDeparture             M\n",
       "MinTemperature                      M\n",
       "MinTemperatureNormal             20.8\n",
       "MinTemperatureDeparture             M\n",
       "AvgTemperature                      M\n",
       "AvgTemperatureNormal             28.7\n",
       "AvgTemperatureDeparture             M\n",
       "AtObsTemperature                    M\n",
       "Precipitation                       M\n",
       "PrecipitationNormal              0.11\n",
       "PrecipitationDeparture              M\n",
       "Snowfall                            M\n",
       "SnowfallNormal                    0.4\n",
       "SnowfallDeparture                   M\n",
       "SnowDepth                           M\n",
       "HDD                                 M\n",
       "HDDNormal                        36.3\n",
       "HDDDeparture                        M\n",
       "CDD                                 M\n",
       "CDDNormal                         0.0\n",
       "CDDDeparture                        M\n",
       "GDD                                 M\n",
       "Name: 0, dtype: object"
      ]
     },
     "execution_count": 156,
     "metadata": {},
     "output_type": "execute_result"
    }
   ],
   "source": [
    "df_cornell.iloc[0,]"
   ]
  },
  {
   "cell_type": "code",
   "execution_count": 157,
   "id": "8074683f",
   "metadata": {},
   "outputs": [],
   "source": [
    "df_cornell['Year'] = pd.DatetimeIndex(df_cornell['Date']).year\n",
    "df_cornell['Month'] = pd.DatetimeIndex(df_cornell['Date']).month\n",
    "df_cornell['Day'] = pd.DatetimeIndex(df_cornell['Date']).day"
   ]
  },
  {
   "cell_type": "code",
   "execution_count": 158,
   "id": "dde2ae23",
   "metadata": {},
   "outputs": [
    {
     "name": "stdout",
     "output_type": "stream",
     "text": [
      "Date percent NaN: 0.0\n",
      "MaxTemperature percent NaN: 0.0\n",
      "MaxTemperatureNormal percent NaN: 0.0\n",
      "MaxTemperatureDeparture percent NaN: 0.0\n",
      "MinTemperature percent NaN: 0.0\n",
      "MinTemperatureNormal percent NaN: 0.0\n",
      "MinTemperatureDeparture percent NaN: 0.0\n",
      "AvgTemperature percent NaN: 0.0\n",
      "AvgTemperatureNormal percent NaN: 0.0\n",
      "AvgTemperatureDeparture percent NaN: 0.0\n",
      "AtObsTemperature percent NaN: 0.0\n",
      "Precipitation percent NaN: 0.0\n",
      "PrecipitationNormal percent NaN: 0.0\n",
      "PrecipitationDeparture percent NaN: 0.0\n",
      "Snowfall percent NaN: 0.0\n",
      "SnowfallNormal percent NaN: 0.0\n",
      "SnowfallDeparture percent NaN: 0.0\n",
      "SnowDepth percent NaN: 0.0\n",
      "HDD percent NaN: 0.0\n",
      "HDDNormal percent NaN: 0.0\n",
      "HDDDeparture percent NaN: 0.0\n",
      "CDD percent NaN: 0.0\n",
      "CDDNormal percent NaN: 0.0\n",
      "CDDDeparture percent NaN: 0.0\n",
      "GDD percent NaN: 0.0\n",
      "Year percent NaN: 0.0\n",
      "Month percent NaN: 0.0\n",
      "Day percent NaN: 0.0\n"
     ]
    }
   ],
   "source": [
    "for col in df_cornell.columns:\n",
    "    print(col,'percent NaN:', df_cornell[col].isna().sum()/len(df_cornell))"
   ]
  },
  {
   "cell_type": "code",
   "execution_count": 159,
   "id": "3f9c913b",
   "metadata": {},
   "outputs": [
    {
     "data": {
      "text/html": [
       "<div>\n",
       "<style scoped>\n",
       "    .dataframe tbody tr th:only-of-type {\n",
       "        vertical-align: middle;\n",
       "    }\n",
       "\n",
       "    .dataframe tbody tr th {\n",
       "        vertical-align: top;\n",
       "    }\n",
       "\n",
       "    .dataframe thead th {\n",
       "        text-align: right;\n",
       "    }\n",
       "</style>\n",
       "<table border=\"1\" class=\"dataframe\">\n",
       "  <thead>\n",
       "    <tr style=\"text-align: right;\">\n",
       "      <th></th>\n",
       "      <th>Date</th>\n",
       "      <th>MaxTemperature</th>\n",
       "      <th>MaxTemperatureNormal</th>\n",
       "      <th>MaxTemperatureDeparture</th>\n",
       "      <th>MinTemperature</th>\n",
       "      <th>MinTemperatureNormal</th>\n",
       "      <th>MinTemperatureDeparture</th>\n",
       "      <th>AvgTemperature</th>\n",
       "      <th>AvgTemperatureNormal</th>\n",
       "      <th>AvgTemperatureDeparture</th>\n",
       "      <th>...</th>\n",
       "      <th>HDD</th>\n",
       "      <th>HDDNormal</th>\n",
       "      <th>HDDDeparture</th>\n",
       "      <th>CDD</th>\n",
       "      <th>CDDNormal</th>\n",
       "      <th>CDDDeparture</th>\n",
       "      <th>GDD</th>\n",
       "      <th>Year</th>\n",
       "      <th>Month</th>\n",
       "      <th>Day</th>\n",
       "    </tr>\n",
       "  </thead>\n",
       "  <tbody>\n",
       "    <tr>\n",
       "      <th>0</th>\n",
       "      <td>1940-01-01</td>\n",
       "      <td>M</td>\n",
       "      <td>36.6</td>\n",
       "      <td>M</td>\n",
       "      <td>M</td>\n",
       "      <td>20.8</td>\n",
       "      <td>M</td>\n",
       "      <td>M</td>\n",
       "      <td>28.7</td>\n",
       "      <td>M</td>\n",
       "      <td>...</td>\n",
       "      <td>M</td>\n",
       "      <td>36.3</td>\n",
       "      <td>M</td>\n",
       "      <td>M</td>\n",
       "      <td>0.0</td>\n",
       "      <td>M</td>\n",
       "      <td>M</td>\n",
       "      <td>1940</td>\n",
       "      <td>1</td>\n",
       "      <td>1</td>\n",
       "    </tr>\n",
       "  </tbody>\n",
       "</table>\n",
       "<p>1 rows × 28 columns</p>\n",
       "</div>"
      ],
      "text/plain": [
       "         Date MaxTemperature  MaxTemperatureNormal MaxTemperatureDeparture  \\\n",
       "0  1940-01-01              M                  36.6                       M   \n",
       "\n",
       "  MinTemperature  MinTemperatureNormal MinTemperatureDeparture AvgTemperature  \\\n",
       "0              M                  20.8                       M              M   \n",
       "\n",
       "   AvgTemperatureNormal AvgTemperatureDeparture  ... HDD HDDNormal  \\\n",
       "0                  28.7                       M  ...   M      36.3   \n",
       "\n",
       "  HDDDeparture CDD CDDNormal CDDDeparture GDD  Year Month  Day  \n",
       "0            M   M       0.0            M   M  1940     1    1  \n",
       "\n",
       "[1 rows x 28 columns]"
      ]
     },
     "execution_count": 159,
     "metadata": {},
     "output_type": "execute_result"
    }
   ],
   "source": [
    "df_cornell.head(1)"
   ]
  },
  {
   "cell_type": "code",
   "execution_count": 160,
   "id": "c5fdff8d",
   "metadata": {},
   "outputs": [
    {
     "data": {
      "text/plain": [
       "' M'"
      ]
     },
     "execution_count": 160,
     "metadata": {},
     "output_type": "execute_result"
    }
   ],
   "source": [
    "df_cornell.iloc[0,1]"
   ]
  },
  {
   "cell_type": "code",
   "execution_count": 161,
   "id": "d57e3efa",
   "metadata": {},
   "outputs": [
    {
     "name": "stdout",
     "output_type": "stream",
     "text": [
      "Date 0.0\n",
      "MaxTemperature 0.10912384716732543\n",
      "MaxTemperatureNormal 0.0\n",
      "MaxTemperatureDeparture 0.10912384716732543\n",
      "MinTemperature 0.10909090909090909\n",
      "MinTemperatureNormal 0.0\n",
      "MinTemperatureDeparture 0.10909090909090909\n",
      "AvgTemperature 0.10922266139657444\n",
      "AvgTemperatureNormal 0.0\n",
      "AvgTemperatureDeparture 0.10922266139657444\n",
      "AtObsTemperature 1.0\n",
      "Precipitation 0.10843214756258235\n",
      "PrecipitationNormal 0.000691699604743083\n",
      "PrecipitationDeparture 0.10902503293807642\n",
      "Snowfall 0.18158761528326745\n",
      "SnowfallNormal 0.000691699604743083\n",
      "SnowfallDeparture 0.18214756258234518\n",
      "SnowDepth 0.2326086956521739\n",
      "HDD 0.10922266139657444\n",
      "HDDNormal 0.0\n",
      "HDDDeparture 0.10922266139657444\n",
      "CDD 0.10922266139657444\n",
      "CDDNormal 0.0\n",
      "CDDDeparture 0.10922266139657444\n",
      "GDD 0.10922266139657444\n",
      "Year 0.0\n",
      "Month 0.0\n",
      "Day 0.0\n"
     ]
    }
   ],
   "source": [
    "for col in df_cornell.columns:\n",
    "    print(col, len(df_cornell[df_cornell[col].isin([' M'])])/len(df_cornell))"
   ]
  },
  {
   "cell_type": "code",
   "execution_count": 162,
   "id": "908ff2ec",
   "metadata": {},
   "outputs": [
    {
     "name": "stdout",
     "output_type": "stream",
     "text": [
      "Date 0.0\n",
      "MaxTemperature 0.0\n",
      "MaxTemperatureNormal 0.0\n",
      "MaxTemperatureDeparture 0.0\n",
      "MinTemperature 0.0\n",
      "MinTemperatureNormal 0.0\n",
      "MinTemperatureDeparture 0.0\n",
      "AvgTemperature 0.0\n",
      "AvgTemperatureNormal 0.0\n",
      "AvgTemperatureDeparture 0.0\n",
      "AtObsTemperature 0.0\n",
      "Precipitation 0.12262845849802372\n",
      "PrecipitationNormal 0.0\n",
      "PrecipitationDeparture 0.0\n",
      "Snowfall 0.056357048748353095\n",
      "SnowfallNormal 0.0\n",
      "SnowfallDeparture 0.0\n",
      "SnowDepth 0.03593544137022398\n",
      "HDD 0.0\n",
      "HDDNormal 0.0\n",
      "HDDDeparture 0.0\n",
      "CDD 0.0\n",
      "CDDNormal 0.0\n",
      "CDDDeparture 0.0\n",
      "GDD 0.0\n",
      "Year 0.0\n",
      "Month 0.0\n",
      "Day 0.0\n"
     ]
    }
   ],
   "source": [
    "for col in df_cornell.columns:\n",
    "    print(col, len(df_cornell[df_cornell[col].isin([' T'])])/len(df_cornell))"
   ]
  },
  {
   "cell_type": "code",
   "execution_count": 163,
   "id": "92af2f7e",
   "metadata": {},
   "outputs": [
    {
     "name": "stdout",
     "output_type": "stream",
     "text": [
      "Date 0.0\n",
      "MaxTemperature 0.0\n",
      "MaxTemperatureNormal 0.0\n",
      "MaxTemperatureDeparture 0.0\n",
      "MinTemperature 0.0\n",
      "MinTemperatureNormal 0.0\n",
      "MinTemperatureDeparture 0.0\n",
      "AvgTemperature 0.0\n",
      "AvgTemperatureNormal 0.0\n",
      "AvgTemperatureDeparture 0.0\n",
      "AtObsTemperature 0.0\n",
      "Precipitation 0.0\n",
      "PrecipitationNormal 0.0\n",
      "PrecipitationDeparture 0.0\n",
      "Snowfall 0.0\n",
      "SnowfallNormal 0.0\n",
      "SnowfallDeparture 0.0\n",
      "SnowDepth 0.0\n",
      "HDD 0.0\n",
      "HDDNormal 0.0\n",
      "HDDDeparture 0.0\n",
      "CDD 0.0\n",
      "CDDNormal 0.0\n",
      "CDDDeparture 0.0\n",
      "GDD 0.0\n",
      "Year 0.0\n",
      "Month 0.0\n",
      "Day 0.0\n"
     ]
    }
   ],
   "source": [
    "for col in df_cornell.columns:\n",
    "    print(col, len(df_cornell[df_cornell[col].isin([' S'])])/len(df_cornell))"
   ]
  },
  {
   "cell_type": "code",
   "execution_count": 164,
   "id": "b5d24df4",
   "metadata": {},
   "outputs": [
    {
     "name": "stdout",
     "output_type": "stream",
     "text": [
      "Date 0.0\n",
      "MaxTemperature 0.0\n",
      "MaxTemperatureNormal 0.0\n",
      "MaxTemperatureDeparture 0.0\n",
      "MinTemperature 0.0\n",
      "MinTemperatureNormal 0.0\n",
      "MinTemperatureDeparture 0.0\n",
      "AvgTemperature 0.0\n",
      "AvgTemperatureNormal 0.0\n",
      "AvgTemperatureDeparture 0.0\n",
      "AtObsTemperature 0.0\n",
      "Precipitation 0.0\n",
      "PrecipitationNormal 0.0\n",
      "PrecipitationDeparture 0.0\n",
      "Snowfall 0.0\n",
      "SnowfallNormal 0.0\n",
      "SnowfallDeparture 0.0\n",
      "SnowDepth 0.0\n",
      "HDD 0.0\n",
      "HDDNormal 0.0\n",
      "HDDDeparture 0.0\n",
      "CDD 0.0\n",
      "CDDNormal 0.0\n",
      "CDDDeparture 0.0\n",
      "GDD 0.0\n",
      "Year 0.0\n",
      "Month 0.0\n",
      "Day 0.0\n"
     ]
    }
   ],
   "source": [
    "for col in df_cornell.columns:\n",
    "    print(col, len(df_cornell[df_cornell[col].isin([' A'])])/len(df_cornell))"
   ]
  },
  {
   "cell_type": "markdown",
   "id": "cb72bdee",
   "metadata": {},
   "source": [
    "# Keep:\n",
    "* Date, MaxTemperature, MinTemperature, AvgTemperature, AtObsTemperature, Precipitation, Snowfall, SnowDepth,\n",
    "* Year, Month, Day\n",
    "# Drop: \n",
    "* MaxTemperatureNormal, MaxTemperatureDeparture, MinTemperatureNormal, MinTemperatureDeparture, AvgTemperatureNormal\n",
    "* AvgTemperatureDeparture, PrecipitationNormal, PrecipitationDeparture, SnowfallNormal, SnowfallDeparture\n",
    "* HDD, HDDNormal, HDDDeparture, CDD, CDDNormal, CDDDeparture, GDD"
   ]
  },
  {
   "cell_type": "code",
   "execution_count": 165,
   "id": "5fda4a92",
   "metadata": {},
   "outputs": [
    {
     "data": {
      "text/plain": [
       "(30360, 28)"
      ]
     },
     "execution_count": 165,
     "metadata": {},
     "output_type": "execute_result"
    }
   ],
   "source": [
    "df_cornell.shape"
   ]
  },
  {
   "cell_type": "code",
   "execution_count": 166,
   "id": "95219bb4",
   "metadata": {},
   "outputs": [
    {
     "data": {
      "text/plain": [
       "Index(['Date', 'MaxTemperature', 'MaxTemperatureNormal',\n",
       "       'MaxTemperatureDeparture', 'MinTemperature', 'MinTemperatureNormal',\n",
       "       'MinTemperatureDeparture', 'AvgTemperature', 'AvgTemperatureNormal',\n",
       "       'AvgTemperatureDeparture', 'AtObsTemperature', 'Precipitation',\n",
       "       'PrecipitationNormal', 'PrecipitationDeparture', 'Snowfall',\n",
       "       'SnowfallNormal', 'SnowfallDeparture', 'SnowDepth', 'HDD', 'HDDNormal',\n",
       "       'HDDDeparture', 'CDD', 'CDDNormal', 'CDDDeparture', 'GDD', 'Year',\n",
       "       'Month', 'Day'],\n",
       "      dtype='object')"
      ]
     },
     "execution_count": 166,
     "metadata": {},
     "output_type": "execute_result"
    }
   ],
   "source": [
    "df_cornell.columns"
   ]
  },
  {
   "cell_type": "code",
   "execution_count": 167,
   "id": "803db235",
   "metadata": {},
   "outputs": [],
   "source": [
    "df_cornell = df_cornell.drop(['MaxTemperatureNormal','MaxTemperatureDeparture','MinTemperatureNormal',\n",
    "                             'MinTemperatureDeparture','AvgTemperatureNormal','AvgTemperatureDeparture',\n",
    "                             'PrecipitationNormal', 'PrecipitationDeparture','SnowfallNormal', 'SnowfallDeparture',\n",
    "                             'HDD', 'HDDNormal','HDDDeparture', 'CDD', 'CDDNormal', 'CDDDeparture', 'GDD'], axis = 1).copy()"
   ]
  },
  {
   "cell_type": "code",
   "execution_count": 168,
   "id": "ff0651b3",
   "metadata": {},
   "outputs": [
    {
     "data": {
      "text/plain": [
       "(30360, 11)"
      ]
     },
     "execution_count": 168,
     "metadata": {},
     "output_type": "execute_result"
    }
   ],
   "source": [
    "df_cornell.shape"
   ]
  },
  {
   "cell_type": "code",
   "execution_count": 169,
   "id": "cc69c123",
   "metadata": {},
   "outputs": [],
   "source": [
    "# lowercase all columns\n",
    "df_cornell.columns = [x.lower() for x in df_cornell.columns]"
   ]
  },
  {
   "cell_type": "markdown",
   "id": "0bfca56a",
   "metadata": {},
   "source": [
    "# End Getting Cornell Data"
   ]
  },
  {
   "cell_type": "markdown",
   "id": "97b8994a",
   "metadata": {},
   "source": [
    "___"
   ]
  },
  {
   "cell_type": "markdown",
   "id": "cf298ec9",
   "metadata": {},
   "source": [
    "# Check date range and make sure the same"
   ]
  },
  {
   "cell_type": "code",
   "execution_count": 170,
   "id": "fdb9944c",
   "metadata": {},
   "outputs": [
    {
     "data": {
      "text/plain": [
       "'1940-01-01'"
      ]
     },
     "execution_count": 170,
     "metadata": {},
     "output_type": "execute_result"
    }
   ],
   "source": [
    "df_cornell.iloc[0,0]"
   ]
  },
  {
   "cell_type": "code",
   "execution_count": 171,
   "id": "97f6ce19",
   "metadata": {},
   "outputs": [
    {
     "data": {
      "text/plain": [
       "str"
      ]
     },
     "execution_count": 171,
     "metadata": {},
     "output_type": "execute_result"
    }
   ],
   "source": [
    "type(df_cornell.iloc[0,0])"
   ]
  },
  {
   "cell_type": "code",
   "execution_count": 172,
   "id": "d5106bef",
   "metadata": {},
   "outputs": [
    {
     "data": {
      "text/plain": [
       "'1942-01-08'"
      ]
     },
     "execution_count": 172,
     "metadata": {},
     "output_type": "execute_result"
    }
   ],
   "source": [
    "df.iloc[0,0]"
   ]
  },
  {
   "cell_type": "code",
   "execution_count": 173,
   "id": "10a43be5",
   "metadata": {},
   "outputs": [
    {
     "data": {
      "text/plain": [
       "str"
      ]
     },
     "execution_count": 173,
     "metadata": {},
     "output_type": "execute_result"
    }
   ],
   "source": [
    "type(df.iloc[0,0])"
   ]
  },
  {
   "cell_type": "code",
   "execution_count": 174,
   "id": "24609fe9",
   "metadata": {},
   "outputs": [
    {
     "name": "stdout",
     "output_type": "stream",
     "text": [
      "1942-01-08\n",
      "2023-02-08\n",
      "1940-01-01\n",
      "2023-02-13\n"
     ]
    }
   ],
   "source": [
    "print(df.date.min())\n",
    "print(df.date.max())\n",
    "print(df_cornell.date.min())\n",
    "print(df_cornell.date.max())"
   ]
  },
  {
   "cell_type": "code",
   "execution_count": 175,
   "id": "6241cbfa",
   "metadata": {},
   "outputs": [],
   "source": [
    "df = df[(df['date'] >= '1943-01-01') & (df['date'] < '2023-01-01')].copy()"
   ]
  },
  {
   "cell_type": "code",
   "execution_count": 176,
   "id": "b6b7582b",
   "metadata": {},
   "outputs": [],
   "source": [
    "df_cornell = df_cornell[(df_cornell['date'] >= '1943-01-01') & (df_cornell['date'] < '2023-01-01')].copy()"
   ]
  },
  {
   "cell_type": "code",
   "execution_count": 177,
   "id": "85e888f1",
   "metadata": {},
   "outputs": [
    {
     "data": {
      "text/html": [
       "<div>\n",
       "<style scoped>\n",
       "    .dataframe tbody tr th:only-of-type {\n",
       "        vertical-align: middle;\n",
       "    }\n",
       "\n",
       "    .dataframe tbody tr th {\n",
       "        vertical-align: top;\n",
       "    }\n",
       "\n",
       "    .dataframe thead th {\n",
       "        text-align: right;\n",
       "    }\n",
       "</style>\n",
       "<table border=\"1\" class=\"dataframe\">\n",
       "  <thead>\n",
       "    <tr style=\"text-align: right;\">\n",
       "      <th></th>\n",
       "      <th>date</th>\n",
       "      <th>prcp</th>\n",
       "      <th>snow</th>\n",
       "      <th>snwd</th>\n",
       "      <th>tavg</th>\n",
       "      <th>tmax</th>\n",
       "      <th>tmin</th>\n",
       "      <th>year</th>\n",
       "      <th>month</th>\n",
       "      <th>day</th>\n",
       "    </tr>\n",
       "  </thead>\n",
       "  <tbody>\n",
       "    <tr>\n",
       "      <th>356</th>\n",
       "      <td>1943-01-01</td>\n",
       "      <td>NaN</td>\n",
       "      <td>NaN</td>\n",
       "      <td>NaN</td>\n",
       "      <td>30.0</td>\n",
       "      <td>NaN</td>\n",
       "      <td>NaN</td>\n",
       "      <td>1943</td>\n",
       "      <td>1</td>\n",
       "      <td>1</td>\n",
       "    </tr>\n",
       "    <tr>\n",
       "      <th>357</th>\n",
       "      <td>1943-01-02</td>\n",
       "      <td>NaN</td>\n",
       "      <td>NaN</td>\n",
       "      <td>NaN</td>\n",
       "      <td>25.0</td>\n",
       "      <td>NaN</td>\n",
       "      <td>NaN</td>\n",
       "      <td>1943</td>\n",
       "      <td>1</td>\n",
       "      <td>2</td>\n",
       "    </tr>\n",
       "  </tbody>\n",
       "</table>\n",
       "</div>"
      ],
      "text/plain": [
       "           date  prcp  snow  snwd  tavg  tmax  tmin  year  month  day\n",
       "356  1943-01-01   NaN   NaN   NaN  30.0   NaN   NaN  1943      1    1\n",
       "357  1943-01-02   NaN   NaN   NaN  25.0   NaN   NaN  1943      1    2"
      ]
     },
     "execution_count": 177,
     "metadata": {},
     "output_type": "execute_result"
    }
   ],
   "source": [
    "df.head(2)"
   ]
  },
  {
   "cell_type": "code",
   "execution_count": 178,
   "id": "340313db",
   "metadata": {},
   "outputs": [
    {
     "data": {
      "text/html": [
       "<div>\n",
       "<style scoped>\n",
       "    .dataframe tbody tr th:only-of-type {\n",
       "        vertical-align: middle;\n",
       "    }\n",
       "\n",
       "    .dataframe tbody tr th {\n",
       "        vertical-align: top;\n",
       "    }\n",
       "\n",
       "    .dataframe thead th {\n",
       "        text-align: right;\n",
       "    }\n",
       "</style>\n",
       "<table border=\"1\" class=\"dataframe\">\n",
       "  <thead>\n",
       "    <tr style=\"text-align: right;\">\n",
       "      <th></th>\n",
       "      <th>date</th>\n",
       "      <th>maxtemperature</th>\n",
       "      <th>mintemperature</th>\n",
       "      <th>avgtemperature</th>\n",
       "      <th>atobstemperature</th>\n",
       "      <th>precipitation</th>\n",
       "      <th>snowfall</th>\n",
       "      <th>snowdepth</th>\n",
       "      <th>year</th>\n",
       "      <th>month</th>\n",
       "      <th>day</th>\n",
       "    </tr>\n",
       "  </thead>\n",
       "  <tbody>\n",
       "    <tr>\n",
       "      <th>1096</th>\n",
       "      <td>1943-01-01</td>\n",
       "      <td>M</td>\n",
       "      <td>M</td>\n",
       "      <td>M</td>\n",
       "      <td>M</td>\n",
       "      <td>M</td>\n",
       "      <td>M</td>\n",
       "      <td>M</td>\n",
       "      <td>1943</td>\n",
       "      <td>1</td>\n",
       "      <td>1</td>\n",
       "    </tr>\n",
       "    <tr>\n",
       "      <th>1097</th>\n",
       "      <td>1943-01-02</td>\n",
       "      <td>M</td>\n",
       "      <td>M</td>\n",
       "      <td>M</td>\n",
       "      <td>M</td>\n",
       "      <td>M</td>\n",
       "      <td>M</td>\n",
       "      <td>M</td>\n",
       "      <td>1943</td>\n",
       "      <td>1</td>\n",
       "      <td>2</td>\n",
       "    </tr>\n",
       "  </tbody>\n",
       "</table>\n",
       "</div>"
      ],
      "text/plain": [
       "            date maxtemperature mintemperature avgtemperature  \\\n",
       "1096  1943-01-01              M              M              M   \n",
       "1097  1943-01-02              M              M              M   \n",
       "\n",
       "     atobstemperature precipitation snowfall snowdepth  year  month  day  \n",
       "1096                M             M        M         M  1943      1    1  \n",
       "1097                M             M        M         M  1943      1    2  "
      ]
     },
     "execution_count": 178,
     "metadata": {},
     "output_type": "execute_result"
    }
   ],
   "source": [
    "df_cornell.head(2)"
   ]
  },
  {
   "cell_type": "code",
   "execution_count": 179,
   "id": "dfef4fde",
   "metadata": {},
   "outputs": [
    {
     "name": "stdout",
     "output_type": "stream",
     "text": [
      "(28044, 10)\n",
      "(29220, 11)\n"
     ]
    }
   ],
   "source": [
    "print(df.shape)\n",
    "print(df_cornell.shape)"
   ]
  },
  {
   "cell_type": "markdown",
   "id": "91d1389a",
   "metadata": {},
   "source": [
    "### NOAA is missing data or Cornell has duplicate dates"
   ]
  },
  {
   "cell_type": "code",
   "execution_count": 180,
   "id": "229f8adf",
   "metadata": {},
   "outputs": [
    {
     "name": "stdout",
     "output_type": "stream",
     "text": [
      "1949-01-01 1945-10-15\n"
     ]
    }
   ],
   "source": [
    "for noaa, cornell in zip(df.date, df_cornell.date):\n",
    "    if noaa != cornell:\n",
    "        print(noaa, cornell)\n",
    "        break"
   ]
  },
  {
   "cell_type": "code",
   "execution_count": 181,
   "id": "b482db8b",
   "metadata": {},
   "outputs": [
    {
     "name": "stdout",
     "output_type": "stream",
     "text": [
      "28044\n",
      "29220\n"
     ]
    }
   ],
   "source": [
    "print(len(set(df.date)))\n",
    "print(len(set(df_cornell.date)))"
   ]
  },
  {
   "cell_type": "code",
   "execution_count": 182,
   "id": "316f5bbd",
   "metadata": {},
   "outputs": [
    {
     "name": "stdout",
     "output_type": "stream",
     "text": [
      "1176\n",
      "1176\n"
     ]
    }
   ],
   "source": [
    "date_diff = set(df_cornell.date).difference(set(df.date))\n",
    "print(len(date_diff))\n",
    "print(len(set(df_cornell.date))-len(set(df.date)))"
   ]
  },
  {
   "cell_type": "code",
   "execution_count": 183,
   "id": "5a6ddc28",
   "metadata": {},
   "outputs": [
    {
     "data": {
      "text/html": [
       "<div>\n",
       "<style scoped>\n",
       "    .dataframe tbody tr th:only-of-type {\n",
       "        vertical-align: middle;\n",
       "    }\n",
       "\n",
       "    .dataframe tbody tr th {\n",
       "        vertical-align: top;\n",
       "    }\n",
       "\n",
       "    .dataframe thead th {\n",
       "        text-align: right;\n",
       "    }\n",
       "</style>\n",
       "<table border=\"1\" class=\"dataframe\">\n",
       "  <thead>\n",
       "    <tr style=\"text-align: right;\">\n",
       "      <th></th>\n",
       "      <th>date</th>\n",
       "      <th>maxtemperature</th>\n",
       "      <th>mintemperature</th>\n",
       "      <th>avgtemperature</th>\n",
       "      <th>atobstemperature</th>\n",
       "      <th>precipitation</th>\n",
       "      <th>snowfall</th>\n",
       "      <th>snowdepth</th>\n",
       "      <th>year</th>\n",
       "      <th>month</th>\n",
       "      <th>day</th>\n",
       "    </tr>\n",
       "  </thead>\n",
       "  <tbody>\n",
       "    <tr>\n",
       "      <th>2111</th>\n",
       "      <td>1945-10-12</td>\n",
       "      <td>M</td>\n",
       "      <td>M</td>\n",
       "      <td>M</td>\n",
       "      <td>M</td>\n",
       "      <td>M</td>\n",
       "      <td>M</td>\n",
       "      <td>M</td>\n",
       "      <td>1945</td>\n",
       "      <td>10</td>\n",
       "      <td>12</td>\n",
       "    </tr>\n",
       "    <tr>\n",
       "      <th>2112</th>\n",
       "      <td>1945-10-13</td>\n",
       "      <td>M</td>\n",
       "      <td>M</td>\n",
       "      <td>M</td>\n",
       "      <td>M</td>\n",
       "      <td>M</td>\n",
       "      <td>M</td>\n",
       "      <td>M</td>\n",
       "      <td>1945</td>\n",
       "      <td>10</td>\n",
       "      <td>13</td>\n",
       "    </tr>\n",
       "    <tr>\n",
       "      <th>2113</th>\n",
       "      <td>1945-10-14</td>\n",
       "      <td>M</td>\n",
       "      <td>M</td>\n",
       "      <td>M</td>\n",
       "      <td>M</td>\n",
       "      <td>M</td>\n",
       "      <td>M</td>\n",
       "      <td>M</td>\n",
       "      <td>1945</td>\n",
       "      <td>10</td>\n",
       "      <td>14</td>\n",
       "    </tr>\n",
       "    <tr>\n",
       "      <th>2114</th>\n",
       "      <td>1945-10-15</td>\n",
       "      <td>M</td>\n",
       "      <td>M</td>\n",
       "      <td>M</td>\n",
       "      <td>M</td>\n",
       "      <td>M</td>\n",
       "      <td>M</td>\n",
       "      <td>M</td>\n",
       "      <td>1945</td>\n",
       "      <td>10</td>\n",
       "      <td>15</td>\n",
       "    </tr>\n",
       "    <tr>\n",
       "      <th>2115</th>\n",
       "      <td>1945-10-16</td>\n",
       "      <td>M</td>\n",
       "      <td>M</td>\n",
       "      <td>M</td>\n",
       "      <td>M</td>\n",
       "      <td>M</td>\n",
       "      <td>M</td>\n",
       "      <td>M</td>\n",
       "      <td>1945</td>\n",
       "      <td>10</td>\n",
       "      <td>16</td>\n",
       "    </tr>\n",
       "    <tr>\n",
       "      <th>2116</th>\n",
       "      <td>1945-10-17</td>\n",
       "      <td>M</td>\n",
       "      <td>M</td>\n",
       "      <td>M</td>\n",
       "      <td>M</td>\n",
       "      <td>M</td>\n",
       "      <td>M</td>\n",
       "      <td>M</td>\n",
       "      <td>1945</td>\n",
       "      <td>10</td>\n",
       "      <td>17</td>\n",
       "    </tr>\n",
       "    <tr>\n",
       "      <th>2117</th>\n",
       "      <td>1945-10-18</td>\n",
       "      <td>M</td>\n",
       "      <td>M</td>\n",
       "      <td>M</td>\n",
       "      <td>M</td>\n",
       "      <td>M</td>\n",
       "      <td>M</td>\n",
       "      <td>M</td>\n",
       "      <td>1945</td>\n",
       "      <td>10</td>\n",
       "      <td>18</td>\n",
       "    </tr>\n",
       "    <tr>\n",
       "      <th>2118</th>\n",
       "      <td>1945-10-19</td>\n",
       "      <td>M</td>\n",
       "      <td>M</td>\n",
       "      <td>M</td>\n",
       "      <td>M</td>\n",
       "      <td>M</td>\n",
       "      <td>M</td>\n",
       "      <td>M</td>\n",
       "      <td>1945</td>\n",
       "      <td>10</td>\n",
       "      <td>19</td>\n",
       "    </tr>\n",
       "    <tr>\n",
       "      <th>2119</th>\n",
       "      <td>1945-10-20</td>\n",
       "      <td>M</td>\n",
       "      <td>M</td>\n",
       "      <td>M</td>\n",
       "      <td>M</td>\n",
       "      <td>M</td>\n",
       "      <td>M</td>\n",
       "      <td>M</td>\n",
       "      <td>1945</td>\n",
       "      <td>10</td>\n",
       "      <td>20</td>\n",
       "    </tr>\n",
       "    <tr>\n",
       "      <th>2120</th>\n",
       "      <td>1945-10-21</td>\n",
       "      <td>M</td>\n",
       "      <td>M</td>\n",
       "      <td>M</td>\n",
       "      <td>M</td>\n",
       "      <td>M</td>\n",
       "      <td>M</td>\n",
       "      <td>M</td>\n",
       "      <td>1945</td>\n",
       "      <td>10</td>\n",
       "      <td>21</td>\n",
       "    </tr>\n",
       "  </tbody>\n",
       "</table>\n",
       "</div>"
      ],
      "text/plain": [
       "            date maxtemperature mintemperature avgtemperature  \\\n",
       "2111  1945-10-12              M              M              M   \n",
       "2112  1945-10-13              M              M              M   \n",
       "2113  1945-10-14              M              M              M   \n",
       "2114  1945-10-15              M              M              M   \n",
       "2115  1945-10-16              M              M              M   \n",
       "2116  1945-10-17              M              M              M   \n",
       "2117  1945-10-18              M              M              M   \n",
       "2118  1945-10-19              M              M              M   \n",
       "2119  1945-10-20              M              M              M   \n",
       "2120  1945-10-21              M              M              M   \n",
       "\n",
       "     atobstemperature precipitation snowfall snowdepth  year  month  day  \n",
       "2111                M             M        M         M  1945     10   12  \n",
       "2112                M             M        M         M  1945     10   13  \n",
       "2113                M             M        M         M  1945     10   14  \n",
       "2114                M             M        M         M  1945     10   15  \n",
       "2115                M             M        M         M  1945     10   16  \n",
       "2116                M             M        M         M  1945     10   17  \n",
       "2117                M             M        M         M  1945     10   18  \n",
       "2118                M             M        M         M  1945     10   19  \n",
       "2119                M             M        M         M  1945     10   20  \n",
       "2120                M             M        M         M  1945     10   21  "
      ]
     },
     "execution_count": 183,
     "metadata": {},
     "output_type": "execute_result"
    }
   ],
   "source": [
    "df_cornell[(df_cornell['date']>='1945-10-12') & (df_cornell['date']<'1945-10-22')]"
   ]
  },
  {
   "cell_type": "code",
   "execution_count": 188,
   "id": "68cb167d",
   "metadata": {},
   "outputs": [
    {
     "data": {
      "text/html": [
       "<div>\n",
       "<style scoped>\n",
       "    .dataframe tbody tr th:only-of-type {\n",
       "        vertical-align: middle;\n",
       "    }\n",
       "\n",
       "    .dataframe tbody tr th {\n",
       "        vertical-align: top;\n",
       "    }\n",
       "\n",
       "    .dataframe thead th {\n",
       "        text-align: right;\n",
       "    }\n",
       "</style>\n",
       "<table border=\"1\" class=\"dataframe\">\n",
       "  <thead>\n",
       "    <tr style=\"text-align: right;\">\n",
       "      <th></th>\n",
       "      <th>date</th>\n",
       "      <th>prcp</th>\n",
       "      <th>snow</th>\n",
       "      <th>snwd</th>\n",
       "      <th>tavg</th>\n",
       "      <th>tmax</th>\n",
       "      <th>tmin</th>\n",
       "      <th>year</th>\n",
       "      <th>month</th>\n",
       "      <th>day</th>\n",
       "    </tr>\n",
       "  </thead>\n",
       "  <tbody>\n",
       "    <tr>\n",
       "      <th>1371</th>\n",
       "      <td>1945-10-12</td>\n",
       "      <td>NaN</td>\n",
       "      <td>NaN</td>\n",
       "      <td>NaN</td>\n",
       "      <td>49.0</td>\n",
       "      <td>NaN</td>\n",
       "      <td>NaN</td>\n",
       "      <td>1945</td>\n",
       "      <td>10</td>\n",
       "      <td>12</td>\n",
       "    </tr>\n",
       "    <tr>\n",
       "      <th>1372</th>\n",
       "      <td>1945-10-13</td>\n",
       "      <td>NaN</td>\n",
       "      <td>NaN</td>\n",
       "      <td>NaN</td>\n",
       "      <td>53.0</td>\n",
       "      <td>NaN</td>\n",
       "      <td>NaN</td>\n",
       "      <td>1945</td>\n",
       "      <td>10</td>\n",
       "      <td>13</td>\n",
       "    </tr>\n",
       "    <tr>\n",
       "      <th>1373</th>\n",
       "      <td>1945-10-14</td>\n",
       "      <td>NaN</td>\n",
       "      <td>NaN</td>\n",
       "      <td>NaN</td>\n",
       "      <td>48.0</td>\n",
       "      <td>NaN</td>\n",
       "      <td>NaN</td>\n",
       "      <td>1945</td>\n",
       "      <td>10</td>\n",
       "      <td>14</td>\n",
       "    </tr>\n",
       "  </tbody>\n",
       "</table>\n",
       "</div>"
      ],
      "text/plain": [
       "            date  prcp  snow  snwd  tavg  tmax  tmin  year  month  day\n",
       "1371  1945-10-12   NaN   NaN   NaN  49.0   NaN   NaN  1945     10   12\n",
       "1372  1945-10-13   NaN   NaN   NaN  53.0   NaN   NaN  1945     10   13\n",
       "1373  1945-10-14   NaN   NaN   NaN  48.0   NaN   NaN  1945     10   14"
      ]
     },
     "execution_count": 188,
     "metadata": {},
     "output_type": "execute_result"
    }
   ],
   "source": [
    "df[(df['date']>='1945-10-12') & (df['date']<'1947-10-30')]"
   ]
  },
  {
   "cell_type": "code",
   "execution_count": 191,
   "id": "0af7d274",
   "metadata": {},
   "outputs": [
    {
     "name": "stdout",
     "output_type": "stream",
     "text": [
      "{1946, 1947, 1948}\n"
     ]
    }
   ],
   "source": [
    "# looks like some years are missing from NOAA\n",
    "diff_years = set(df_cornell.year).difference(set(df.year))\n",
    "print(diff_years)"
   ]
  },
  {
   "cell_type": "code",
   "execution_count": 205,
   "id": "e5962d8b",
   "metadata": {},
   "outputs": [],
   "source": [
    "cor_46_47_48 = df_cornell[(df_cornell['date'] >= '1946-01-01') & (df_cornell['date'] < '1949-01-01')].copy()"
   ]
  },
  {
   "cell_type": "code",
   "execution_count": 206,
   "id": "dbbb06f2",
   "metadata": {},
   "outputs": [
    {
     "data": {
      "text/html": [
       "<div>\n",
       "<style scoped>\n",
       "    .dataframe tbody tr th:only-of-type {\n",
       "        vertical-align: middle;\n",
       "    }\n",
       "\n",
       "    .dataframe tbody tr th {\n",
       "        vertical-align: top;\n",
       "    }\n",
       "\n",
       "    .dataframe thead th {\n",
       "        text-align: right;\n",
       "    }\n",
       "</style>\n",
       "<table border=\"1\" class=\"dataframe\">\n",
       "  <thead>\n",
       "    <tr style=\"text-align: right;\">\n",
       "      <th></th>\n",
       "      <th>date</th>\n",
       "      <th>maxtemperature</th>\n",
       "      <th>mintemperature</th>\n",
       "      <th>avgtemperature</th>\n",
       "      <th>atobstemperature</th>\n",
       "      <th>precipitation</th>\n",
       "      <th>snowfall</th>\n",
       "      <th>snowdepth</th>\n",
       "      <th>year</th>\n",
       "      <th>month</th>\n",
       "      <th>day</th>\n",
       "    </tr>\n",
       "  </thead>\n",
       "  <tbody>\n",
       "    <tr>\n",
       "      <th>2192</th>\n",
       "      <td>1946-01-01</td>\n",
       "      <td>M</td>\n",
       "      <td>M</td>\n",
       "      <td>M</td>\n",
       "      <td>M</td>\n",
       "      <td>M</td>\n",
       "      <td>M</td>\n",
       "      <td>M</td>\n",
       "      <td>1946</td>\n",
       "      <td>1</td>\n",
       "      <td>1</td>\n",
       "    </tr>\n",
       "    <tr>\n",
       "      <th>2193</th>\n",
       "      <td>1946-01-02</td>\n",
       "      <td>M</td>\n",
       "      <td>M</td>\n",
       "      <td>M</td>\n",
       "      <td>M</td>\n",
       "      <td>M</td>\n",
       "      <td>M</td>\n",
       "      <td>M</td>\n",
       "      <td>1946</td>\n",
       "      <td>1</td>\n",
       "      <td>2</td>\n",
       "    </tr>\n",
       "    <tr>\n",
       "      <th>2194</th>\n",
       "      <td>1946-01-03</td>\n",
       "      <td>M</td>\n",
       "      <td>M</td>\n",
       "      <td>M</td>\n",
       "      <td>M</td>\n",
       "      <td>M</td>\n",
       "      <td>M</td>\n",
       "      <td>M</td>\n",
       "      <td>1946</td>\n",
       "      <td>1</td>\n",
       "      <td>3</td>\n",
       "    </tr>\n",
       "    <tr>\n",
       "      <th>2195</th>\n",
       "      <td>1946-01-04</td>\n",
       "      <td>M</td>\n",
       "      <td>M</td>\n",
       "      <td>M</td>\n",
       "      <td>M</td>\n",
       "      <td>M</td>\n",
       "      <td>M</td>\n",
       "      <td>M</td>\n",
       "      <td>1946</td>\n",
       "      <td>1</td>\n",
       "      <td>4</td>\n",
       "    </tr>\n",
       "    <tr>\n",
       "      <th>2196</th>\n",
       "      <td>1946-01-05</td>\n",
       "      <td>M</td>\n",
       "      <td>M</td>\n",
       "      <td>M</td>\n",
       "      <td>M</td>\n",
       "      <td>M</td>\n",
       "      <td>M</td>\n",
       "      <td>M</td>\n",
       "      <td>1946</td>\n",
       "      <td>1</td>\n",
       "      <td>5</td>\n",
       "    </tr>\n",
       "    <tr>\n",
       "      <th>...</th>\n",
       "      <td>...</td>\n",
       "      <td>...</td>\n",
       "      <td>...</td>\n",
       "      <td>...</td>\n",
       "      <td>...</td>\n",
       "      <td>...</td>\n",
       "      <td>...</td>\n",
       "      <td>...</td>\n",
       "      <td>...</td>\n",
       "      <td>...</td>\n",
       "      <td>...</td>\n",
       "    </tr>\n",
       "    <tr>\n",
       "      <th>3283</th>\n",
       "      <td>1948-12-27</td>\n",
       "      <td>M</td>\n",
       "      <td>M</td>\n",
       "      <td>M</td>\n",
       "      <td>M</td>\n",
       "      <td>M</td>\n",
       "      <td>M</td>\n",
       "      <td>M</td>\n",
       "      <td>1948</td>\n",
       "      <td>12</td>\n",
       "      <td>27</td>\n",
       "    </tr>\n",
       "    <tr>\n",
       "      <th>3284</th>\n",
       "      <td>1948-12-28</td>\n",
       "      <td>M</td>\n",
       "      <td>M</td>\n",
       "      <td>M</td>\n",
       "      <td>M</td>\n",
       "      <td>M</td>\n",
       "      <td>M</td>\n",
       "      <td>M</td>\n",
       "      <td>1948</td>\n",
       "      <td>12</td>\n",
       "      <td>28</td>\n",
       "    </tr>\n",
       "    <tr>\n",
       "      <th>3285</th>\n",
       "      <td>1948-12-29</td>\n",
       "      <td>M</td>\n",
       "      <td>M</td>\n",
       "      <td>M</td>\n",
       "      <td>M</td>\n",
       "      <td>M</td>\n",
       "      <td>M</td>\n",
       "      <td>M</td>\n",
       "      <td>1948</td>\n",
       "      <td>12</td>\n",
       "      <td>29</td>\n",
       "    </tr>\n",
       "    <tr>\n",
       "      <th>3286</th>\n",
       "      <td>1948-12-30</td>\n",
       "      <td>M</td>\n",
       "      <td>M</td>\n",
       "      <td>M</td>\n",
       "      <td>M</td>\n",
       "      <td>M</td>\n",
       "      <td>M</td>\n",
       "      <td>M</td>\n",
       "      <td>1948</td>\n",
       "      <td>12</td>\n",
       "      <td>30</td>\n",
       "    </tr>\n",
       "    <tr>\n",
       "      <th>3287</th>\n",
       "      <td>1948-12-31</td>\n",
       "      <td>M</td>\n",
       "      <td>M</td>\n",
       "      <td>M</td>\n",
       "      <td>M</td>\n",
       "      <td>M</td>\n",
       "      <td>M</td>\n",
       "      <td>M</td>\n",
       "      <td>1948</td>\n",
       "      <td>12</td>\n",
       "      <td>31</td>\n",
       "    </tr>\n",
       "  </tbody>\n",
       "</table>\n",
       "<p>1096 rows × 11 columns</p>\n",
       "</div>"
      ],
      "text/plain": [
       "            date maxtemperature mintemperature avgtemperature  \\\n",
       "2192  1946-01-01              M              M              M   \n",
       "2193  1946-01-02              M              M              M   \n",
       "2194  1946-01-03              M              M              M   \n",
       "2195  1946-01-04              M              M              M   \n",
       "2196  1946-01-05              M              M              M   \n",
       "...          ...            ...            ...            ...   \n",
       "3283  1948-12-27              M              M              M   \n",
       "3284  1948-12-28              M              M              M   \n",
       "3285  1948-12-29              M              M              M   \n",
       "3286  1948-12-30              M              M              M   \n",
       "3287  1948-12-31              M              M              M   \n",
       "\n",
       "     atobstemperature precipitation snowfall snowdepth  year  month  day  \n",
       "2192                M             M        M         M  1946      1    1  \n",
       "2193                M             M        M         M  1946      1    2  \n",
       "2194                M             M        M         M  1946      1    3  \n",
       "2195                M             M        M         M  1946      1    4  \n",
       "2196                M             M        M         M  1946      1    5  \n",
       "...               ...           ...      ...       ...   ...    ...  ...  \n",
       "3283                M             M        M         M  1948     12   27  \n",
       "3284                M             M        M         M  1948     12   28  \n",
       "3285                M             M        M         M  1948     12   29  \n",
       "3286                M             M        M         M  1948     12   30  \n",
       "3287                M             M        M         M  1948     12   31  \n",
       "\n",
       "[1096 rows x 11 columns]"
      ]
     },
     "execution_count": 206,
     "metadata": {},
     "output_type": "execute_result"
    }
   ],
   "source": [
    "cor_46_47_48"
   ]
  },
  {
   "cell_type": "markdown",
   "id": "f26606d4",
   "metadata": {},
   "source": [
    "# Looks like there is a lot of missing value so let's check when actual data comes in"
   ]
  },
  {
   "cell_type": "code",
   "execution_count": 217,
   "id": "63534f96",
   "metadata": {},
   "outputs": [],
   "source": [
    "df_40s_dates = ['1940-01-01','1941-01-01','1942-01-01','1943-01-01','1944-01-01','1945-01-01',\n",
    "               '1946-01-01','1947-01-01','1948-01-01','1949-01-01','1950-01-01']"
   ]
  },
  {
   "cell_type": "code",
   "execution_count": 220,
   "id": "93fdda80",
   "metadata": {},
   "outputs": [
    {
     "data": {
      "text/plain": [
       "['1941-01-01',\n",
       " '1942-01-01',\n",
       " '1943-01-01',\n",
       " '1944-01-01',\n",
       " '1945-01-01',\n",
       " '1946-01-01',\n",
       " '1947-01-01',\n",
       " '1948-01-01',\n",
       " '1949-01-01',\n",
       " '1950-01-01']"
      ]
     },
     "execution_count": 220,
     "metadata": {},
     "output_type": "execute_result"
    }
   ],
   "source": [
    "df_40s_dates[1:]"
   ]
  },
  {
   "cell_type": "code",
   "execution_count": 225,
   "id": "b2126514",
   "metadata": {},
   "outputs": [
    {
     "name": "stdout",
     "output_type": "stream",
     "text": [
      "1940-01-01\n",
      "date percent na:  nan\n",
      "prcp percent na:  nan\n",
      "snow percent na:  nan\n",
      "snwd percent na:  nan\n",
      "tavg percent na:  nan\n",
      "tmax percent na:  nan\n",
      "tmin percent na:  nan\n",
      "year percent na:  nan\n",
      "month percent na:  nan\n",
      "day percent na:  nan\n",
      "1941-01-01\n",
      "date percent na:  nan\n",
      "prcp percent na:  nan\n",
      "snow percent na:  nan\n",
      "snwd percent na:  nan\n",
      "tavg percent na:  nan\n",
      "tmax percent na:  nan\n",
      "tmin percent na:  nan\n",
      "year percent na:  nan\n",
      "month percent na:  nan\n",
      "day percent na:  nan\n",
      "1942-01-01\n",
      "date percent na:  nan\n",
      "prcp percent na:  nan\n",
      "snow percent na:  nan\n",
      "snwd percent na:  nan\n",
      "tavg percent na:  nan\n",
      "tmax percent na:  nan\n",
      "tmin percent na:  nan\n",
      "year percent na:  nan\n",
      "month percent na:  nan\n",
      "day percent na:  nan\n",
      "1943-01-01\n",
      "date percent na:  0.0\n",
      "prcp percent na:  1.0\n",
      "snow percent na:  1.0\n",
      "snwd percent na:  1.0\n",
      "tavg percent na:  0.0\n",
      "tmax percent na:  1.0\n",
      "tmin percent na:  1.0\n",
      "year percent na:  0.0\n",
      "month percent na:  0.0\n",
      "day percent na:  0.0\n",
      "1944-01-01\n",
      "date percent na:  0.0\n",
      "prcp percent na:  1.0\n",
      "snow percent na:  1.0\n",
      "snwd percent na:  1.0\n",
      "tavg percent na:  0.0\n",
      "tmax percent na:  1.0\n",
      "tmin percent na:  1.0\n",
      "year percent na:  0.0\n",
      "month percent na:  0.0\n",
      "day percent na:  0.0\n",
      "1945-01-01\n",
      "date percent na:  0.0\n",
      "prcp percent na:  1.0\n",
      "snow percent na:  1.0\n",
      "snwd percent na:  1.0\n",
      "tavg percent na:  0.0\n",
      "tmax percent na:  1.0\n",
      "tmin percent na:  1.0\n",
      "year percent na:  0.0\n",
      "month percent na:  0.0\n",
      "day percent na:  0.0\n",
      "1946-01-01\n",
      "date percent na:  nan\n",
      "prcp percent na:  nan\n",
      "snow percent na:  nan\n",
      "snwd percent na:  nan\n",
      "tavg percent na:  nan\n",
      "tmax percent na:  nan\n",
      "tmin percent na:  nan\n",
      "year percent na:  nan\n",
      "month percent na:  nan\n",
      "day percent na:  nan\n",
      "1947-01-01\n",
      "date percent na:  nan\n",
      "prcp percent na:  nan\n",
      "snow percent na:  nan\n",
      "snwd percent na:  nan\n",
      "tavg percent na:  nan\n",
      "tmax percent na:  nan\n",
      "tmin percent na:  nan\n",
      "year percent na:  nan\n",
      "month percent na:  nan\n",
      "day percent na:  nan\n",
      "1948-01-01\n",
      "date percent na:  nan\n",
      "prcp percent na:  nan\n",
      "snow percent na:  nan\n",
      "snwd percent na:  nan\n",
      "tavg percent na:  nan\n",
      "tmax percent na:  nan\n",
      "tmin percent na:  nan\n",
      "year percent na:  nan\n",
      "month percent na:  nan\n",
      "day percent na:  nan\n",
      "1949-01-01\n",
      "date percent na:  0.0\n",
      "prcp percent na:  0.0\n",
      "snow percent na:  0.0\n",
      "snwd percent na:  0.0\n",
      "tavg percent na:  1.0\n",
      "tmax percent na:  0.0027397260273972603\n",
      "tmin percent na:  0.0\n",
      "year percent na:  0.0\n",
      "month percent na:  0.0\n",
      "day percent na:  0.0\n"
     ]
    },
    {
     "name": "stderr",
     "output_type": "stream",
     "text": [
      "C:\\Users\\mpica\\AppData\\Local\\Temp/ipykernel_19360/2841932838.py:5: RuntimeWarning: invalid value encountered in longlong_scalars\n",
      "  print(col,'percent na: ',df_40s[col].isna().sum()/len(df_40s))\n"
     ]
    }
   ],
   "source": [
    "for start, end in zip(df_40s_dates[0:-1],df_40s_dates[1:]):\n",
    "    df_40s = df[(df['date'] >= start) & (df['date'] < end)].copy()\n",
    "    print(start)\n",
    "    for col in df_40s.columns:\n",
    "        print(col,'percent na: ',df_40s[col].isna().sum()/len(df_40s))"
   ]
  },
  {
   "cell_type": "code",
   "execution_count": null,
   "id": "5bea72f2",
   "metadata": {},
   "outputs": [],
   "source": [
    "# NOAA\n",
    "* Dropped Data for 1940 to 1942\n",
    "* No data for 1946, 1947, 1948,\n",
    "* 1943:\n",
    "    * prcp percent na:  1.0\n",
    "    * snow percent na:  1.0\n",
    "    * snwd percent na:  1.0\n",
    "    * tmax percent na:  1.0\n",
    "    * tmin percent na:  1.0\n",
    "* 1944\n",
    "    * prcp percent na:  1.0\n",
    "    * snow percent na:  1.0\n",
    "    * snwd percent na:  1.0\n",
    "    * tmax percent na:  1.0\n",
    "    * tmin percent na:  1.0\n",
    "* 1945\n",
    "    * prcp percent na:  1.0\n",
    "    * snow percent na:  1.0\n",
    "    * snwd percent na:  1.0\n",
    "    * tmax percent na:  1.0\n",
    "    * tmin percent na:  1.0\n",
    "* 1949\n",
    "    * tavg percent na:  1.0\n",
    "    * tmax percent na:  0.0027397260273972603"
   ]
  }
 ],
 "metadata": {
  "kernelspec": {
   "display_name": "Python 3 (ipykernel)",
   "language": "python",
   "name": "python3"
  },
  "language_info": {
   "codemirror_mode": {
    "name": "ipython",
    "version": 3
   },
   "file_extension": ".py",
   "mimetype": "text/x-python",
   "name": "python",
   "nbconvert_exporter": "python",
   "pygments_lexer": "ipython3",
   "version": "3.9.7"
  }
 },
 "nbformat": 4,
 "nbformat_minor": 5
}
