{
 "cells": [
  {
   "cell_type": "markdown",
   "id": "6f4536c5",
   "metadata": {},
   "source": [
    "# Data from NOAA and climod2\n",
    "* https://www.ncdc.noaa.gov/cdo-web/\n",
    "* http://climod2.nrcc.cornell.edu/\n",
    "* Note:\n",
    "    * T: Trace amount- Less than 0.01\" precipitation; less than 0.1\" snowfall; less than 1\" snow depth.\n",
    "    * S: Subsequent- Indicates the observation is missing, but is included in a subsequent value.\n",
    "    * A: Accumulated- Indicates an accumulated value which includes the current day and any immediately preceeding missing days (starting with a day flagged by \"S\").\n",
    "    * M: Missing."
   ]
  },
  {
   "cell_type": "markdown",
   "id": "4a5e32ce",
   "metadata": {},
   "source": [
    "___"
   ]
  },
  {
   "cell_type": "markdown",
   "id": "5cf76e8c",
   "metadata": {},
   "source": [
    "# Importing Libraries and Data"
   ]
  },
  {
   "cell_type": "code",
   "execution_count": 255,
   "id": "e745a2fc",
   "metadata": {},
   "outputs": [],
   "source": [
    "import pandas as pd\n",
    "import numpy as np\n",
    "import matplotlib as plt\n",
    "from matplotlib import pyplot as plt\n",
    "%matplotlib inline\n",
    "import seaborn as sns\n",
    "import os\n",
    "sns.set()"
   ]
  },
  {
   "cell_type": "markdown",
   "id": "50c7f2cf",
   "metadata": {},
   "source": [
    "# Import NOAA data and grab useful columns"
   ]
  },
  {
   "cell_type": "code",
   "execution_count": 256,
   "id": "c183728f",
   "metadata": {},
   "outputs": [],
   "source": [
    "df_noaa_1_8_2942_2_8_2023 = pd.read_csv('Bradley_1_8_1942_2_8_2023.csv', skipinitialspace = True)"
   ]
  },
  {
   "cell_type": "code",
   "execution_count": 257,
   "id": "4cb70c06",
   "metadata": {},
   "outputs": [],
   "source": [
    "df_noaa_2023 = pd.read_csv('NOAA_1_1_2023_12_31_2023.csv', skipinitialspace = True)\n",
    "df_noaa_2023 = df_noaa_2023.loc[df_noaa_2023['DATE']> '2023-02-08']"
   ]
  },
  {
   "cell_type": "code",
   "execution_count": 258,
   "id": "5c0af5ef",
   "metadata": {},
   "outputs": [],
   "source": [
    "df = pd.concat([df_noaa_1_8_2942_2_8_2023, df_noaa_2023], ignore_index = True)"
   ]
  },
  {
   "cell_type": "code",
   "execution_count": 259,
   "id": "5487ec19",
   "metadata": {},
   "outputs": [],
   "source": [
    "df = df.drop(['STATION'], axis = 1)"
   ]
  },
  {
   "cell_type": "code",
   "execution_count": 260,
   "id": "6e68db32",
   "metadata": {},
   "outputs": [],
   "source": [
    "df = df.drop(['NAME'], axis = 1)"
   ]
  },
  {
   "cell_type": "code",
   "execution_count": 261,
   "id": "4f76058a",
   "metadata": {},
   "outputs": [],
   "source": [
    "df['Year'] = pd.DatetimeIndex(df['DATE']).year\n",
    "df['Month'] = pd.DatetimeIndex(df['DATE']).month\n",
    "df['Day'] = pd.DatetimeIndex(df['DATE']).day"
   ]
  },
  {
   "cell_type": "code",
   "execution_count": 262,
   "id": "697395e5",
   "metadata": {},
   "outputs": [],
   "source": [
    "df = df.sort_values(by=['DATE'])"
   ]
  },
  {
   "cell_type": "code",
   "execution_count": 263,
   "id": "6ac1db5f",
   "metadata": {},
   "outputs": [
    {
     "name": "stdout",
     "output_type": "stream",
     "text": [
      "DATE percent NaN: 0.0\n",
      "ACMH percent NaN: 0.6034416826003824\n",
      "ACSH percent NaN: 0.6032678602468278\n",
      "AWND percent NaN: 0.4922649052668173\n",
      "FMTM percent NaN: 0.6472101512254476\n",
      "FRGT percent NaN: 0.9998609421171563\n",
      "GAHT percent NaN: 0.9998957065878672\n",
      "PGTM percent NaN: 0.5625239005736138\n",
      "PRCP percent NaN: 0.047835911698244395\n",
      "PSUN percent NaN: 0.758769337736833\n",
      "SNOW percent NaN: 0.1264731444463758\n",
      "SNWD percent NaN: 0.30095602294455065\n",
      "TAVG percent NaN: 0.7228228750217278\n",
      "TMAX percent NaN: 0.0484616721710412\n",
      "TMIN percent NaN: 0.048426907700330264\n",
      "TSUN percent NaN: 0.5656874674083087\n",
      "WDF1 percent NaN: 0.8478359116982443\n",
      "WDF2 percent NaN: 0.6477316182861116\n",
      "WDF5 percent NaN: 0.6483226142881975\n",
      "WDFG percent NaN: 0.7327307491743438\n",
      "WDFM percent NaN: 0.7560924734920911\n",
      "WESD percent NaN: 0.9409003997914132\n",
      "WSF1 percent NaN: 0.8477663827568225\n",
      "WSF2 percent NaN: 0.6477316182861116\n",
      "WSF5 percent NaN: 0.6483226142881975\n",
      "WSFG percent NaN: 0.7325221623500782\n",
      "WSFM percent NaN: 0.7560924734920911\n",
      "WT01 percent NaN: 0.6338953589431601\n",
      "WT02 percent NaN: 0.9486876412306623\n",
      "WT03 percent NaN: 0.9463584216930297\n",
      "WT04 percent NaN: 0.9746914653224404\n",
      "WT05 percent NaN: 0.997914131757344\n",
      "WT06 percent NaN: 0.9799409003997914\n",
      "WT07 percent NaN: 0.9999652355292891\n",
      "WT08 percent NaN: 0.8157830697027638\n",
      "WT09 percent NaN: 0.9955153832782896\n",
      "WT11 percent NaN: 0.9992699461150704\n",
      "WT12 percent NaN: 0.9999652355292891\n",
      "WT13 percent NaN: 0.9085694420302451\n",
      "WT14 percent NaN: 0.9674256909438553\n",
      "WT15 percent NaN: 0.9970102555188597\n",
      "WT16 percent NaN: 0.6805145141665219\n",
      "WT17 percent NaN: 0.9943681557448287\n",
      "WT18 percent NaN: 0.8970624022249262\n",
      "WT19 percent NaN: 0.9971493134017034\n",
      "WT21 percent NaN: 0.9991308882322266\n",
      "WT22 percent NaN: 0.9957587345732661\n",
      "WV01 percent NaN: 0.9998609421171563\n",
      "WV03 percent NaN: 0.9999304710585781\n",
      "Year percent NaN: 0.0\n",
      "Month percent NaN: 0.0\n",
      "Day percent NaN: 0.0\n"
     ]
    }
   ],
   "source": [
    "for col in df.columns:\n",
    "    print(col,'percent NaN:', df[col].isna().sum()/len(df))"
   ]
  },
  {
   "cell_type": "markdown",
   "id": "e4ddc7a0",
   "metadata": {},
   "source": [
    "# Drop\n",
    "* ['ACMH ','ACSH ','AWND','FMTM','FRGT','GAHT','PGTM','PSUN','TSUN','WDF1','WDF2','WDF5','WDFG', 'WDFM','WESD','WSF1','WSF2','WSF5','WDFG','WDFM','WESD','WSF1','WSF2','WSF5','WSFG','WSFM', 'WT01','WT02','WT03','WT04','WT05','WT06','WT07','WT08','WT09', 'WT11','WT12','WT13','WT14','WT15','WT16','WT17','WT18','WT19', 'WT21','WT22','WV01','WV03']"
   ]
  },
  {
   "cell_type": "markdown",
   "id": "1ee18c45",
   "metadata": {},
   "source": [
    "# Keep\n",
    "* DATE,ACMH,ACSH,AWND,FMTM,PGTM,PRCP,SNOW,SNWD,TAVG,TMAX,TMIN,TSUN,WDF1,WDF2,WDF5,WDFG,WDFM,\n",
    "WESD,WSF1,WSF2,WSF5,WSFG,WSFM,WT01,WT08,WT16,Year,Month,Da"
   ]
  },
  {
   "cell_type": "code",
   "execution_count": 264,
   "id": "b914346f",
   "metadata": {},
   "outputs": [],
   "source": [
    "df = df.drop(['ACMH','ACSH','AWND','FMTM','FRGT','GAHT','PGTM','PSUN','TSUN','WDF1',\n",
    "              'WDF2','WDF5','WDFG', 'WDFM','WESD','WSF1','WSF2','WSF5','WDFG','WDFM',\n",
    "              'WESD','WSF1','WSF2','WSF5','WSFG','WSFM', 'WT01','WT02','WT03','WT04',\n",
    "              'WT05','WT06','WT07','WT08','WT09', 'WT11','WT12','WT13','WT14','WT15',\n",
    "              'WT16','WT17','WT18','WT19', 'WT21','WT22','WV01','WV03'], axis = 1).copy()"
   ]
  },
  {
   "cell_type": "code",
   "execution_count": 265,
   "id": "071eea93",
   "metadata": {},
   "outputs": [
    {
     "data": {
      "text/plain": [
       "(28765, 10)"
      ]
     },
     "execution_count": 265,
     "metadata": {},
     "output_type": "execute_result"
    }
   ],
   "source": [
    "df.shape"
   ]
  },
  {
   "cell_type": "code",
   "execution_count": 266,
   "id": "66b8fbd4",
   "metadata": {},
   "outputs": [],
   "source": [
    "# convert noaa columns to float\n",
    "df['PRCP'] = pd.to_numeric(df['PRCP'], errors='coerce')\n",
    "df['SNOW'] = pd.to_numeric(df['SNOW'], errors='coerce')\n",
    "df['SNWD'] = pd.to_numeric(df['SNWD'], errors='coerce')\n",
    "df['TAVG'] = pd.to_numeric(df['TAVG'], errors='coerce')\n",
    "df['TMAX'] = pd.to_numeric(df['TMAX'], errors='coerce')\n",
    "df['TMIN'] = pd.to_numeric(df['TMIN'], errors='coerce')\n",
    "df['Year'] = pd.to_numeric(df['Year'], errors='coerce')\n",
    "df['Month'] = pd.to_numeric(df['Month'], errors='coerce')\n",
    "df['Day'] = pd.to_numeric(df['Day'], errors='coerce')"
   ]
  },
  {
   "cell_type": "markdown",
   "id": "aaffbcd0",
   "metadata": {},
   "source": [
    "### Any missing data in 2023\n",
    "* No so I'll just use NOAA"
   ]
  },
  {
   "cell_type": "code",
   "execution_count": 267,
   "id": "62b56893",
   "metadata": {},
   "outputs": [],
   "source": [
    "df_2023 = df[df['DATE']>= '2023-01-01']"
   ]
  },
  {
   "cell_type": "code",
   "execution_count": 268,
   "id": "e289d995",
   "metadata": {},
   "outputs": [
    {
     "data": {
      "text/html": [
       "<div>\n",
       "<style scoped>\n",
       "    .dataframe tbody tr th:only-of-type {\n",
       "        vertical-align: middle;\n",
       "    }\n",
       "\n",
       "    .dataframe tbody tr th {\n",
       "        vertical-align: top;\n",
       "    }\n",
       "\n",
       "    .dataframe thead th {\n",
       "        text-align: right;\n",
       "    }\n",
       "</style>\n",
       "<table border=\"1\" class=\"dataframe\">\n",
       "  <thead>\n",
       "    <tr style=\"text-align: right;\">\n",
       "      <th></th>\n",
       "      <th>DATE</th>\n",
       "      <th>PRCP</th>\n",
       "      <th>SNOW</th>\n",
       "      <th>SNWD</th>\n",
       "      <th>TAVG</th>\n",
       "      <th>TMAX</th>\n",
       "      <th>TMIN</th>\n",
       "      <th>Year</th>\n",
       "      <th>Month</th>\n",
       "      <th>Day</th>\n",
       "    </tr>\n",
       "  </thead>\n",
       "  <tbody>\n",
       "    <tr>\n",
       "      <th>28400</th>\n",
       "      <td>2023-01-01</td>\n",
       "      <td>0.03</td>\n",
       "      <td>0.0</td>\n",
       "      <td>0.0</td>\n",
       "      <td>47.0</td>\n",
       "      <td>51.0</td>\n",
       "      <td>33.0</td>\n",
       "      <td>2023</td>\n",
       "      <td>1</td>\n",
       "      <td>1</td>\n",
       "    </tr>\n",
       "  </tbody>\n",
       "</table>\n",
       "</div>"
      ],
      "text/plain": [
       "             DATE  PRCP  SNOW  SNWD  TAVG  TMAX  TMIN  Year  Month  Day\n",
       "28400  2023-01-01  0.03   0.0   0.0  47.0  51.0  33.0  2023      1    1"
      ]
     },
     "execution_count": 268,
     "metadata": {},
     "output_type": "execute_result"
    }
   ],
   "source": [
    "df_2023.head(1)"
   ]
  },
  {
   "cell_type": "code",
   "execution_count": 269,
   "id": "ba441ac3",
   "metadata": {},
   "outputs": [
    {
     "name": "stdout",
     "output_type": "stream",
     "text": [
      "(0, 10)\n",
      "(0, 10)\n",
      "(0, 10)\n",
      "(0, 10)\n",
      "(0, 10)\n",
      "(0, 10)\n"
     ]
    }
   ],
   "source": [
    "print(df_2023[df_2023['PRCP'].isna()].shape)\n",
    "print(df_2023[df_2023['SNOW'].isna()].shape)\n",
    "print(df_2023[df_2023['SNWD'].isna()].shape)\n",
    "print(df_2023[df_2023['TAVG'].isna()].shape)\n",
    "print(df_2023[df_2023['TMAX'].isna()].shape)\n",
    "print(df_2023[df_2023['TMIN'].isna()].shape)"
   ]
  },
  {
   "cell_type": "code",
   "execution_count": 270,
   "id": "07981592",
   "metadata": {},
   "outputs": [
    {
     "name": "stdout",
     "output_type": "stream",
     "text": [
      "DATE percent NaN: 0.0\n",
      "PRCP percent NaN: 0.047835911698244395\n",
      "SNOW percent NaN: 0.1264731444463758\n",
      "SNWD percent NaN: 0.30095602294455065\n",
      "TAVG percent NaN: 0.7228228750217278\n",
      "TMAX percent NaN: 0.0484616721710412\n",
      "TMIN percent NaN: 0.048426907700330264\n",
      "Year percent NaN: 0.0\n",
      "Month percent NaN: 0.0\n",
      "Day percent NaN: 0.0\n"
     ]
    }
   ],
   "source": [
    "for col in df.columns:\n",
    "    print(col,'percent NaN:', df[col].isna().sum()/len(df))"
   ]
  },
  {
   "cell_type": "code",
   "execution_count": 271,
   "id": "399cfa30",
   "metadata": {},
   "outputs": [],
   "source": [
    "# lowercase all columns\n",
    "df.columns = [x.lower() for x in df.columns]"
   ]
  },
  {
   "cell_type": "markdown",
   "id": "41c65f2d",
   "metadata": {},
   "source": [
    "# End Getting NOAA Data"
   ]
  },
  {
   "cell_type": "markdown",
   "id": "447c14ee",
   "metadata": {},
   "source": [
    "___"
   ]
  },
  {
   "cell_type": "markdown",
   "id": "77bf0b1f",
   "metadata": {},
   "source": [
    "# Import Cornell data and get useful columns"
   ]
  },
  {
   "cell_type": "markdown",
   "id": "12b2cdee",
   "metadata": {},
   "source": [
    "# NOTE: AvgTemperature is just average of min and max"
   ]
  },
  {
   "cell_type": "code",
   "execution_count": 272,
   "id": "a18b746b",
   "metadata": {},
   "outputs": [],
   "source": [
    "df_cornell = pd.read_csv('Bradley_Cornell_1_1_1940_2_13_2023.txt', sep=',', header=0, skipinitialspace=True)"
   ]
  },
  {
   "cell_type": "code",
   "execution_count": 273,
   "id": "3ab16c2c",
   "metadata": {},
   "outputs": [],
   "source": [
    "df_cornell.columns = [i.replace(' ','') for i in df_cornell.columns]"
   ]
  },
  {
   "cell_type": "code",
   "execution_count": 274,
   "id": "b5c4ccce",
   "metadata": {},
   "outputs": [],
   "source": [
    "df_cornell = df_cornell.sort_values(by=['Date'])"
   ]
  },
  {
   "cell_type": "code",
   "execution_count": 275,
   "id": "8cb3d0b1",
   "metadata": {},
   "outputs": [
    {
     "data": {
      "text/plain": [
       "Date                       1940-01-01\n",
       "MaxTemperature                      M\n",
       "MaxTemperatureNormal             36.6\n",
       "MaxTemperatureDeparture             M\n",
       "MinTemperature                      M\n",
       "MinTemperatureNormal             20.8\n",
       "MinTemperatureDeparture             M\n",
       "AvgTemperature                      M\n",
       "AvgTemperatureNormal             28.7\n",
       "AvgTemperatureDeparture             M\n",
       "AtObsTemperature                    M\n",
       "Precipitation                       M\n",
       "PrecipitationNormal              0.11\n",
       "PrecipitationDeparture              M\n",
       "Snowfall                            M\n",
       "SnowfallNormal                    0.4\n",
       "SnowfallDeparture                   M\n",
       "SnowDepth                           M\n",
       "HDD                                 M\n",
       "HDDNormal                        36.3\n",
       "HDDDeparture                        M\n",
       "CDD                                 M\n",
       "CDDNormal                         0.0\n",
       "CDDDeparture                        M\n",
       "GDD                                 M\n",
       "Name: 0, dtype: object"
      ]
     },
     "execution_count": 275,
     "metadata": {},
     "output_type": "execute_result"
    }
   ],
   "source": [
    "df_cornell.iloc[0,]"
   ]
  },
  {
   "cell_type": "code",
   "execution_count": 276,
   "id": "03f7302c",
   "metadata": {},
   "outputs": [
    {
     "data": {
      "text/plain": [
       "'M'"
      ]
     },
     "execution_count": 276,
     "metadata": {},
     "output_type": "execute_result"
    }
   ],
   "source": [
    "df_cornell.iloc[0,1]"
   ]
  },
  {
   "cell_type": "code",
   "execution_count": 277,
   "id": "8074683f",
   "metadata": {},
   "outputs": [],
   "source": [
    "df_cornell['Year'] = pd.DatetimeIndex(df_cornell['Date']).year\n",
    "df_cornell['Month'] = pd.DatetimeIndex(df_cornell['Date']).month\n",
    "df_cornell['Day'] = pd.DatetimeIndex(df_cornell['Date']).day"
   ]
  },
  {
   "cell_type": "code",
   "execution_count": 278,
   "id": "dde2ae23",
   "metadata": {},
   "outputs": [
    {
     "name": "stdout",
     "output_type": "stream",
     "text": [
      "Date percent NaN: 0.0\n",
      "MaxTemperature percent NaN: 0.0\n",
      "MaxTemperatureNormal percent NaN: 0.0\n",
      "MaxTemperatureDeparture percent NaN: 0.0\n",
      "MinTemperature percent NaN: 0.0\n",
      "MinTemperatureNormal percent NaN: 0.0\n",
      "MinTemperatureDeparture percent NaN: 0.0\n",
      "AvgTemperature percent NaN: 0.0\n",
      "AvgTemperatureNormal percent NaN: 0.0\n",
      "AvgTemperatureDeparture percent NaN: 0.0\n",
      "AtObsTemperature percent NaN: 0.0\n",
      "Precipitation percent NaN: 0.0\n",
      "PrecipitationNormal percent NaN: 0.0\n",
      "PrecipitationDeparture percent NaN: 0.0\n",
      "Snowfall percent NaN: 0.0\n",
      "SnowfallNormal percent NaN: 0.0\n",
      "SnowfallDeparture percent NaN: 0.0\n",
      "SnowDepth percent NaN: 0.0\n",
      "HDD percent NaN: 0.0\n",
      "HDDNormal percent NaN: 0.0\n",
      "HDDDeparture percent NaN: 0.0\n",
      "CDD percent NaN: 0.0\n",
      "CDDNormal percent NaN: 0.0\n",
      "CDDDeparture percent NaN: 0.0\n",
      "GDD percent NaN: 0.0\n",
      "Year percent NaN: 0.0\n",
      "Month percent NaN: 0.0\n",
      "Day percent NaN: 0.0\n"
     ]
    }
   ],
   "source": [
    "for col in df_cornell.columns:\n",
    "    print(col,'percent NaN:', df_cornell[col].isna().sum()/len(df_cornell))"
   ]
  },
  {
   "cell_type": "code",
   "execution_count": 279,
   "id": "3f9c913b",
   "metadata": {},
   "outputs": [
    {
     "data": {
      "text/html": [
       "<div>\n",
       "<style scoped>\n",
       "    .dataframe tbody tr th:only-of-type {\n",
       "        vertical-align: middle;\n",
       "    }\n",
       "\n",
       "    .dataframe tbody tr th {\n",
       "        vertical-align: top;\n",
       "    }\n",
       "\n",
       "    .dataframe thead th {\n",
       "        text-align: right;\n",
       "    }\n",
       "</style>\n",
       "<table border=\"1\" class=\"dataframe\">\n",
       "  <thead>\n",
       "    <tr style=\"text-align: right;\">\n",
       "      <th></th>\n",
       "      <th>Date</th>\n",
       "      <th>MaxTemperature</th>\n",
       "      <th>MaxTemperatureNormal</th>\n",
       "      <th>MaxTemperatureDeparture</th>\n",
       "      <th>MinTemperature</th>\n",
       "      <th>MinTemperatureNormal</th>\n",
       "      <th>MinTemperatureDeparture</th>\n",
       "      <th>AvgTemperature</th>\n",
       "      <th>AvgTemperatureNormal</th>\n",
       "      <th>AvgTemperatureDeparture</th>\n",
       "      <th>...</th>\n",
       "      <th>HDD</th>\n",
       "      <th>HDDNormal</th>\n",
       "      <th>HDDDeparture</th>\n",
       "      <th>CDD</th>\n",
       "      <th>CDDNormal</th>\n",
       "      <th>CDDDeparture</th>\n",
       "      <th>GDD</th>\n",
       "      <th>Year</th>\n",
       "      <th>Month</th>\n",
       "      <th>Day</th>\n",
       "    </tr>\n",
       "  </thead>\n",
       "  <tbody>\n",
       "    <tr>\n",
       "      <th>0</th>\n",
       "      <td>1940-01-01</td>\n",
       "      <td>M</td>\n",
       "      <td>36.6</td>\n",
       "      <td>M</td>\n",
       "      <td>M</td>\n",
       "      <td>20.8</td>\n",
       "      <td>M</td>\n",
       "      <td>M</td>\n",
       "      <td>28.7</td>\n",
       "      <td>M</td>\n",
       "      <td>...</td>\n",
       "      <td>M</td>\n",
       "      <td>36.3</td>\n",
       "      <td>M</td>\n",
       "      <td>M</td>\n",
       "      <td>0.0</td>\n",
       "      <td>M</td>\n",
       "      <td>M</td>\n",
       "      <td>1940</td>\n",
       "      <td>1</td>\n",
       "      <td>1</td>\n",
       "    </tr>\n",
       "  </tbody>\n",
       "</table>\n",
       "<p>1 rows × 28 columns</p>\n",
       "</div>"
      ],
      "text/plain": [
       "         Date MaxTemperature  MaxTemperatureNormal MaxTemperatureDeparture  \\\n",
       "0  1940-01-01              M                  36.6                       M   \n",
       "\n",
       "  MinTemperature  MinTemperatureNormal MinTemperatureDeparture AvgTemperature  \\\n",
       "0              M                  20.8                       M              M   \n",
       "\n",
       "   AvgTemperatureNormal AvgTemperatureDeparture  ... HDD HDDNormal  \\\n",
       "0                  28.7                       M  ...   M      36.3   \n",
       "\n",
       "  HDDDeparture CDD CDDNormal CDDDeparture GDD  Year Month  Day  \n",
       "0            M   M       0.0            M   M  1940     1    1  \n",
       "\n",
       "[1 rows x 28 columns]"
      ]
     },
     "execution_count": 279,
     "metadata": {},
     "output_type": "execute_result"
    }
   ],
   "source": [
    "df_cornell.head(1)"
   ]
  },
  {
   "cell_type": "code",
   "execution_count": 280,
   "id": "ba9dcdab",
   "metadata": {},
   "outputs": [
    {
     "name": "stdout",
     "output_type": "stream",
     "text": [
      "Date 0.0\n",
      "MaxTemperature 0.10912384716732543\n",
      "MaxTemperatureNormal 0.0\n",
      "MaxTemperatureDeparture 0.10912384716732543\n",
      "MinTemperature 0.10909090909090909\n",
      "MinTemperatureNormal 0.0\n",
      "MinTemperatureDeparture 0.10909090909090909\n",
      "AvgTemperature 0.10922266139657444\n",
      "AvgTemperatureNormal 0.0\n",
      "AvgTemperatureDeparture 0.10922266139657444\n",
      "AtObsTemperature 1.0\n",
      "Precipitation 0.10843214756258235\n",
      "PrecipitationNormal 0.000691699604743083\n",
      "PrecipitationDeparture 0.10902503293807642\n",
      "Snowfall 0.18158761528326745\n",
      "SnowfallNormal 0.000691699604743083\n",
      "SnowfallDeparture 0.18214756258234518\n",
      "SnowDepth 0.2326086956521739\n",
      "HDD 0.10922266139657444\n",
      "HDDNormal 0.0\n",
      "HDDDeparture 0.10922266139657444\n",
      "CDD 0.10922266139657444\n",
      "CDDNormal 0.0\n",
      "CDDDeparture 0.10922266139657444\n",
      "GDD 0.10922266139657444\n",
      "Year 0.0\n",
      "Month 0.0\n",
      "Day 0.0\n"
     ]
    }
   ],
   "source": [
    "for col in df_cornell.columns:\n",
    "    print(col, len(df_cornell[df_cornell[col].isin(['M'])])/len(df_cornell))"
   ]
  },
  {
   "cell_type": "code",
   "execution_count": 281,
   "id": "908ff2ec",
   "metadata": {},
   "outputs": [
    {
     "name": "stdout",
     "output_type": "stream",
     "text": [
      "Date 0.0\n",
      "MaxTemperature 0.0\n",
      "MaxTemperatureNormal 0.0\n",
      "MaxTemperatureDeparture 0.0\n",
      "MinTemperature 0.0\n",
      "MinTemperatureNormal 0.0\n",
      "MinTemperatureDeparture 0.0\n",
      "AvgTemperature 0.0\n",
      "AvgTemperatureNormal 0.0\n",
      "AvgTemperatureDeparture 0.0\n",
      "AtObsTemperature 0.0\n",
      "Precipitation 0.12262845849802372\n",
      "PrecipitationNormal 0.0\n",
      "PrecipitationDeparture 0.0\n",
      "Snowfall 0.056357048748353095\n",
      "SnowfallNormal 0.0\n",
      "SnowfallDeparture 0.0\n",
      "SnowDepth 0.03593544137022398\n",
      "HDD 0.0\n",
      "HDDNormal 0.0\n",
      "HDDDeparture 0.0\n",
      "CDD 0.0\n",
      "CDDNormal 0.0\n",
      "CDDDeparture 0.0\n",
      "GDD 0.0\n",
      "Year 0.0\n",
      "Month 0.0\n",
      "Day 0.0\n"
     ]
    }
   ],
   "source": [
    "for col in df_cornell.columns:\n",
    "    print(col, len(df_cornell[df_cornell[col].isin(['T'])])/len(df_cornell))"
   ]
  },
  {
   "cell_type": "code",
   "execution_count": 282,
   "id": "92af2f7e",
   "metadata": {},
   "outputs": [
    {
     "name": "stdout",
     "output_type": "stream",
     "text": [
      "Date 0.0\n",
      "MaxTemperature 0.0\n",
      "MaxTemperatureNormal 0.0\n",
      "MaxTemperatureDeparture 0.0\n",
      "MinTemperature 0.0\n",
      "MinTemperatureNormal 0.0\n",
      "MinTemperatureDeparture 0.0\n",
      "AvgTemperature 0.0\n",
      "AvgTemperatureNormal 0.0\n",
      "AvgTemperatureDeparture 0.0\n",
      "AtObsTemperature 0.0\n",
      "Precipitation 0.0\n",
      "PrecipitationNormal 0.0\n",
      "PrecipitationDeparture 0.0\n",
      "Snowfall 0.0\n",
      "SnowfallNormal 0.0\n",
      "SnowfallDeparture 0.0\n",
      "SnowDepth 0.0\n",
      "HDD 0.0\n",
      "HDDNormal 0.0\n",
      "HDDDeparture 0.0\n",
      "CDD 0.0\n",
      "CDDNormal 0.0\n",
      "CDDDeparture 0.0\n",
      "GDD 0.0\n",
      "Year 0.0\n",
      "Month 0.0\n",
      "Day 0.0\n"
     ]
    }
   ],
   "source": [
    "for col in df_cornell.columns:\n",
    "    print(col, len(df_cornell[df_cornell[col].isin(['S'])])/len(df_cornell))"
   ]
  },
  {
   "cell_type": "code",
   "execution_count": 283,
   "id": "b5d24df4",
   "metadata": {},
   "outputs": [
    {
     "name": "stdout",
     "output_type": "stream",
     "text": [
      "Date 0.0\n",
      "MaxTemperature 0.0\n",
      "MaxTemperatureNormal 0.0\n",
      "MaxTemperatureDeparture 0.0\n",
      "MinTemperature 0.0\n",
      "MinTemperatureNormal 0.0\n",
      "MinTemperatureDeparture 0.0\n",
      "AvgTemperature 0.0\n",
      "AvgTemperatureNormal 0.0\n",
      "AvgTemperatureDeparture 0.0\n",
      "AtObsTemperature 0.0\n",
      "Precipitation 0.0\n",
      "PrecipitationNormal 0.0\n",
      "PrecipitationDeparture 0.0\n",
      "Snowfall 0.0\n",
      "SnowfallNormal 0.0\n",
      "SnowfallDeparture 0.0\n",
      "SnowDepth 0.0\n",
      "HDD 0.0\n",
      "HDDNormal 0.0\n",
      "HDDDeparture 0.0\n",
      "CDD 0.0\n",
      "CDDNormal 0.0\n",
      "CDDDeparture 0.0\n",
      "GDD 0.0\n",
      "Year 0.0\n",
      "Month 0.0\n",
      "Day 0.0\n"
     ]
    }
   ],
   "source": [
    "for col in df_cornell.columns:\n",
    "    print(col, len(df_cornell[df_cornell[col].isin(['A'])])/len(df_cornell))"
   ]
  },
  {
   "cell_type": "markdown",
   "id": "cb72bdee",
   "metadata": {},
   "source": [
    "# Keep:\n",
    "* Date, MaxTemperature, MinTemperature, AvgTemperature, AtObsTemperature, Precipitation, Snowfall, SnowDepth,\n",
    "* Year, Month, Day\n",
    "# Drop: \n",
    "* MaxTemperatureNormal, MaxTemperatureDeparture, MinTemperatureNormal, MinTemperatureDeparture, AvgTemperatureNormal\n",
    "* AvgTemperatureDeparture, PrecipitationNormal, PrecipitationDeparture, SnowfallNormal, SnowfallDeparture\n",
    "* HDD, HDDNormal, HDDDeparture, CDD, CDDNormal, CDDDeparture, GDD"
   ]
  },
  {
   "cell_type": "code",
   "execution_count": 284,
   "id": "5fda4a92",
   "metadata": {},
   "outputs": [
    {
     "data": {
      "text/plain": [
       "(30360, 28)"
      ]
     },
     "execution_count": 284,
     "metadata": {},
     "output_type": "execute_result"
    }
   ],
   "source": [
    "df_cornell.shape"
   ]
  },
  {
   "cell_type": "code",
   "execution_count": 285,
   "id": "95219bb4",
   "metadata": {},
   "outputs": [
    {
     "data": {
      "text/plain": [
       "Index(['Date', 'MaxTemperature', 'MaxTemperatureNormal',\n",
       "       'MaxTemperatureDeparture', 'MinTemperature', 'MinTemperatureNormal',\n",
       "       'MinTemperatureDeparture', 'AvgTemperature', 'AvgTemperatureNormal',\n",
       "       'AvgTemperatureDeparture', 'AtObsTemperature', 'Precipitation',\n",
       "       'PrecipitationNormal', 'PrecipitationDeparture', 'Snowfall',\n",
       "       'SnowfallNormal', 'SnowfallDeparture', 'SnowDepth', 'HDD', 'HDDNormal',\n",
       "       'HDDDeparture', 'CDD', 'CDDNormal', 'CDDDeparture', 'GDD', 'Year',\n",
       "       'Month', 'Day'],\n",
       "      dtype='object')"
      ]
     },
     "execution_count": 285,
     "metadata": {},
     "output_type": "execute_result"
    }
   ],
   "source": [
    "df_cornell.columns"
   ]
  },
  {
   "cell_type": "code",
   "execution_count": 286,
   "id": "803db235",
   "metadata": {},
   "outputs": [],
   "source": [
    "df_cornell = df_cornell.drop(['MaxTemperatureNormal','MaxTemperatureDeparture','MinTemperatureNormal',\n",
    "                             'MinTemperatureDeparture','AvgTemperatureNormal','AvgTemperatureDeparture',\n",
    "                             'PrecipitationNormal', 'PrecipitationDeparture','SnowfallNormal', 'SnowfallDeparture',\n",
    "                             'HDD', 'HDDNormal','HDDDeparture', 'CDD', 'CDDNormal', 'CDDDeparture', 'GDD'], axis = 1).copy()"
   ]
  },
  {
   "cell_type": "code",
   "execution_count": 287,
   "id": "ff0651b3",
   "metadata": {},
   "outputs": [
    {
     "data": {
      "text/plain": [
       "(30360, 11)"
      ]
     },
     "execution_count": 287,
     "metadata": {},
     "output_type": "execute_result"
    }
   ],
   "source": [
    "df_cornell.shape"
   ]
  },
  {
   "cell_type": "code",
   "execution_count": 288,
   "id": "cc69c123",
   "metadata": {},
   "outputs": [],
   "source": [
    "# lowercase all columns\n",
    "df_cornell.columns = [x.lower() for x in df_cornell.columns]"
   ]
  },
  {
   "cell_type": "code",
   "execution_count": 289,
   "id": "e23bfe70",
   "metadata": {},
   "outputs": [],
   "source": [
    "# T: Trace amount- Less than 0.01\" precipitation; less than 0.1\" snowfall; less than 1\" snow depth."
   ]
  },
  {
   "cell_type": "code",
   "execution_count": 290,
   "id": "af7b9475",
   "metadata": {},
   "outputs": [
    {
     "data": {
      "text/plain": [
       "12.262845849802371"
      ]
     },
     "execution_count": 290,
     "metadata": {},
     "output_type": "execute_result"
    }
   ],
   "source": [
    "len(df_cornell[df_cornell['precipitation'] == 'T'])/len(df_cornell)*100"
   ]
  },
  {
   "cell_type": "code",
   "execution_count": 291,
   "id": "b4b7b112",
   "metadata": {},
   "outputs": [],
   "source": [
    "df_cornell['precipitation'] = df_cornell['precipitation'].replace('T',0.009)"
   ]
  },
  {
   "cell_type": "code",
   "execution_count": 292,
   "id": "d8a1cbc6",
   "metadata": {},
   "outputs": [
    {
     "data": {
      "text/plain": [
       "(0, 11)"
      ]
     },
     "execution_count": 292,
     "metadata": {},
     "output_type": "execute_result"
    }
   ],
   "source": [
    "df_cornell[df_cornell['precipitation'] == 'T'].shape"
   ]
  },
  {
   "cell_type": "code",
   "execution_count": 293,
   "id": "dcd0b436",
   "metadata": {},
   "outputs": [
    {
     "data": {
      "text/plain": [
       "5.63570487483531"
      ]
     },
     "execution_count": 293,
     "metadata": {},
     "output_type": "execute_result"
    }
   ],
   "source": [
    "len(df_cornell[df_cornell['snowfall'] == 'T'])/len(df_cornell)*100"
   ]
  },
  {
   "cell_type": "code",
   "execution_count": 294,
   "id": "b7a9d4f0",
   "metadata": {},
   "outputs": [],
   "source": [
    "df_cornell['snowfall'] = df_cornell['snowfall'].replace('T',0.09)"
   ]
  },
  {
   "cell_type": "code",
   "execution_count": 295,
   "id": "17752149",
   "metadata": {},
   "outputs": [
    {
     "data": {
      "text/plain": [
       "(0, 11)"
      ]
     },
     "execution_count": 295,
     "metadata": {},
     "output_type": "execute_result"
    }
   ],
   "source": [
    "df_cornell[df_cornell['snowfall'] == 'T'].shape"
   ]
  },
  {
   "cell_type": "code",
   "execution_count": 296,
   "id": "6d61be27",
   "metadata": {},
   "outputs": [
    {
     "data": {
      "text/plain": [
       "3.5935441370223984"
      ]
     },
     "execution_count": 296,
     "metadata": {},
     "output_type": "execute_result"
    }
   ],
   "source": [
    "len(df_cornell[df_cornell['snowdepth'] == 'T'])/len(df_cornell)*100"
   ]
  },
  {
   "cell_type": "code",
   "execution_count": 297,
   "id": "35f5f576",
   "metadata": {},
   "outputs": [],
   "source": [
    "df_cornell['snowdepth'] = df_cornell['snowdepth'].replace('T',0.09)"
   ]
  },
  {
   "cell_type": "code",
   "execution_count": 298,
   "id": "342ed636",
   "metadata": {},
   "outputs": [
    {
     "data": {
      "text/plain": [
       "(0, 11)"
      ]
     },
     "execution_count": 298,
     "metadata": {},
     "output_type": "execute_result"
    }
   ],
   "source": [
    "df_cornell[df_cornell['snowdepth'] == 'T'].shape"
   ]
  },
  {
   "cell_type": "code",
   "execution_count": 299,
   "id": "24bfc766",
   "metadata": {},
   "outputs": [
    {
     "data": {
      "text/plain": [
       "Index(['date', 'maxtemperature', 'mintemperature', 'avgtemperature',\n",
       "       'atobstemperature', 'precipitation', 'snowfall', 'snowdepth', 'year',\n",
       "       'month', 'day'],\n",
       "      dtype='object')"
      ]
     },
     "execution_count": 299,
     "metadata": {},
     "output_type": "execute_result"
    }
   ],
   "source": [
    "df_cornell.columns"
   ]
  },
  {
   "cell_type": "code",
   "execution_count": 300,
   "id": "38cf6668",
   "metadata": {},
   "outputs": [],
   "source": [
    "# convert cornell columns to float\n",
    "df_cornell['precipitation'] = pd.to_numeric(df_cornell['precipitation'], errors='coerce')\n",
    "df_cornell['snowfall'] = pd.to_numeric(df_cornell['snowfall'], errors='coerce')\n",
    "df_cornell['snowdepth'] = pd.to_numeric(df_cornell['snowdepth'], errors='coerce')\n",
    "df_cornell['avgtemperature'] = pd.to_numeric(df_cornell['avgtemperature'], errors='coerce')\n",
    "df_cornell['maxtemperature'] = pd.to_numeric(df_cornell['maxtemperature'], errors='coerce')\n",
    "df_cornell['mintemperature'] = pd.to_numeric(df_cornell['mintemperature'], errors='coerce')\n",
    "df_cornell['year'] = pd.to_numeric(df_cornell['year'], errors='coerce')\n",
    "df_cornell['month'] = pd.to_numeric(df_cornell['month'], errors='coerce')\n",
    "df_cornell['day'] = pd.to_numeric(df_cornell['day'], errors='coerce')"
   ]
  },
  {
   "cell_type": "markdown",
   "id": "0bfca56a",
   "metadata": {},
   "source": [
    "# End Getting Cornell Data"
   ]
  },
  {
   "cell_type": "markdown",
   "id": "97b8994a",
   "metadata": {},
   "source": [
    "___"
   ]
  },
  {
   "cell_type": "markdown",
   "id": "cf298ec9",
   "metadata": {},
   "source": [
    "# Check date range and make sure the same"
   ]
  },
  {
   "cell_type": "code",
   "execution_count": 301,
   "id": "fdb9944c",
   "metadata": {},
   "outputs": [
    {
     "data": {
      "text/plain": [
       "'1940-01-01'"
      ]
     },
     "execution_count": 301,
     "metadata": {},
     "output_type": "execute_result"
    }
   ],
   "source": [
    "df_cornell.iloc[0,0]"
   ]
  },
  {
   "cell_type": "code",
   "execution_count": 302,
   "id": "97f6ce19",
   "metadata": {},
   "outputs": [
    {
     "data": {
      "text/plain": [
       "str"
      ]
     },
     "execution_count": 302,
     "metadata": {},
     "output_type": "execute_result"
    }
   ],
   "source": [
    "type(df_cornell.iloc[0,0])"
   ]
  },
  {
   "cell_type": "code",
   "execution_count": 303,
   "id": "d5106bef",
   "metadata": {},
   "outputs": [
    {
     "data": {
      "text/plain": [
       "'1942-01-08'"
      ]
     },
     "execution_count": 303,
     "metadata": {},
     "output_type": "execute_result"
    }
   ],
   "source": [
    "df.iloc[0,0]"
   ]
  },
  {
   "cell_type": "code",
   "execution_count": 304,
   "id": "10a43be5",
   "metadata": {},
   "outputs": [
    {
     "data": {
      "text/plain": [
       "str"
      ]
     },
     "execution_count": 304,
     "metadata": {},
     "output_type": "execute_result"
    }
   ],
   "source": [
    "type(df.iloc[0,0])"
   ]
  },
  {
   "cell_type": "code",
   "execution_count": 305,
   "id": "24609fe9",
   "metadata": {},
   "outputs": [
    {
     "name": "stdout",
     "output_type": "stream",
     "text": [
      "1942-01-08\n",
      "2023-12-31\n",
      "1940-01-01\n",
      "2023-02-13\n"
     ]
    }
   ],
   "source": [
    "print(df.date.min())\n",
    "print(df.date.max())\n",
    "print(df_cornell.date.min())\n",
    "print(df_cornell.date.max())"
   ]
  },
  {
   "cell_type": "markdown",
   "id": "3c6a88c0",
   "metadata": {},
   "source": [
    "# Get rid of 2023 data because one df is missing data"
   ]
  },
  {
   "cell_type": "code",
   "execution_count": 306,
   "id": "6241cbfa",
   "metadata": {},
   "outputs": [],
   "source": [
    "df_2023 = df[df['date'] >= '2023-01-01'].copy()\n",
    "df = df[(df['date'] >= '1943-01-01') & (df['date'] < '2023-01-01')].copy()"
   ]
  },
  {
   "cell_type": "code",
   "execution_count": 307,
   "id": "b6b7582b",
   "metadata": {},
   "outputs": [],
   "source": [
    "df_cornell = df_cornell[(df_cornell['date'] >= '1943-01-01') & (df_cornell['date'] < '2023-01-01')].copy()"
   ]
  },
  {
   "cell_type": "code",
   "execution_count": 308,
   "id": "dfef4fde",
   "metadata": {},
   "outputs": [
    {
     "name": "stdout",
     "output_type": "stream",
     "text": [
      "(28044, 10)\n",
      "(29220, 11)\n"
     ]
    }
   ],
   "source": [
    "print(df.shape)\n",
    "print(df_cornell.shape)"
   ]
  },
  {
   "cell_type": "markdown",
   "id": "91d1389a",
   "metadata": {},
   "source": [
    "### NOAA is missing data or Cornell has duplicate dates"
   ]
  },
  {
   "cell_type": "code",
   "execution_count": 309,
   "id": "229f8adf",
   "metadata": {},
   "outputs": [
    {
     "name": "stdout",
     "output_type": "stream",
     "text": [
      "1949-01-01 1945-10-15\n"
     ]
    }
   ],
   "source": [
    "for noaa, cornell in zip(df.date, df_cornell.date):\n",
    "    if noaa != cornell:\n",
    "        print(noaa, cornell)\n",
    "        break"
   ]
  },
  {
   "cell_type": "code",
   "execution_count": 310,
   "id": "b482db8b",
   "metadata": {},
   "outputs": [
    {
     "name": "stdout",
     "output_type": "stream",
     "text": [
      "28044\n",
      "29220\n"
     ]
    }
   ],
   "source": [
    "print(len(set(df.date)))\n",
    "print(len(set(df_cornell.date)))"
   ]
  },
  {
   "cell_type": "code",
   "execution_count": 311,
   "id": "316f5bbd",
   "metadata": {},
   "outputs": [
    {
     "name": "stdout",
     "output_type": "stream",
     "text": [
      "1176\n",
      "1176\n"
     ]
    }
   ],
   "source": [
    "date_diff = set(df_cornell.date).difference(set(df.date))\n",
    "print(len(date_diff))\n",
    "print(len(set(df_cornell.date))-len(set(df.date)))"
   ]
  },
  {
   "cell_type": "code",
   "execution_count": 312,
   "id": "5a6ddc28",
   "metadata": {},
   "outputs": [
    {
     "data": {
      "text/html": [
       "<div>\n",
       "<style scoped>\n",
       "    .dataframe tbody tr th:only-of-type {\n",
       "        vertical-align: middle;\n",
       "    }\n",
       "\n",
       "    .dataframe tbody tr th {\n",
       "        vertical-align: top;\n",
       "    }\n",
       "\n",
       "    .dataframe thead th {\n",
       "        text-align: right;\n",
       "    }\n",
       "</style>\n",
       "<table border=\"1\" class=\"dataframe\">\n",
       "  <thead>\n",
       "    <tr style=\"text-align: right;\">\n",
       "      <th></th>\n",
       "      <th>date</th>\n",
       "      <th>maxtemperature</th>\n",
       "      <th>mintemperature</th>\n",
       "      <th>avgtemperature</th>\n",
       "      <th>atobstemperature</th>\n",
       "      <th>precipitation</th>\n",
       "      <th>snowfall</th>\n",
       "      <th>snowdepth</th>\n",
       "      <th>year</th>\n",
       "      <th>month</th>\n",
       "      <th>day</th>\n",
       "    </tr>\n",
       "  </thead>\n",
       "  <tbody>\n",
       "    <tr>\n",
       "      <th>2111</th>\n",
       "      <td>1945-10-12</td>\n",
       "      <td>NaN</td>\n",
       "      <td>NaN</td>\n",
       "      <td>NaN</td>\n",
       "      <td>M</td>\n",
       "      <td>NaN</td>\n",
       "      <td>NaN</td>\n",
       "      <td>NaN</td>\n",
       "      <td>1945</td>\n",
       "      <td>10</td>\n",
       "      <td>12</td>\n",
       "    </tr>\n",
       "    <tr>\n",
       "      <th>2112</th>\n",
       "      <td>1945-10-13</td>\n",
       "      <td>NaN</td>\n",
       "      <td>NaN</td>\n",
       "      <td>NaN</td>\n",
       "      <td>M</td>\n",
       "      <td>NaN</td>\n",
       "      <td>NaN</td>\n",
       "      <td>NaN</td>\n",
       "      <td>1945</td>\n",
       "      <td>10</td>\n",
       "      <td>13</td>\n",
       "    </tr>\n",
       "    <tr>\n",
       "      <th>2113</th>\n",
       "      <td>1945-10-14</td>\n",
       "      <td>NaN</td>\n",
       "      <td>NaN</td>\n",
       "      <td>NaN</td>\n",
       "      <td>M</td>\n",
       "      <td>NaN</td>\n",
       "      <td>NaN</td>\n",
       "      <td>NaN</td>\n",
       "      <td>1945</td>\n",
       "      <td>10</td>\n",
       "      <td>14</td>\n",
       "    </tr>\n",
       "    <tr>\n",
       "      <th>2114</th>\n",
       "      <td>1945-10-15</td>\n",
       "      <td>NaN</td>\n",
       "      <td>NaN</td>\n",
       "      <td>NaN</td>\n",
       "      <td>M</td>\n",
       "      <td>NaN</td>\n",
       "      <td>NaN</td>\n",
       "      <td>NaN</td>\n",
       "      <td>1945</td>\n",
       "      <td>10</td>\n",
       "      <td>15</td>\n",
       "    </tr>\n",
       "    <tr>\n",
       "      <th>2115</th>\n",
       "      <td>1945-10-16</td>\n",
       "      <td>NaN</td>\n",
       "      <td>NaN</td>\n",
       "      <td>NaN</td>\n",
       "      <td>M</td>\n",
       "      <td>NaN</td>\n",
       "      <td>NaN</td>\n",
       "      <td>NaN</td>\n",
       "      <td>1945</td>\n",
       "      <td>10</td>\n",
       "      <td>16</td>\n",
       "    </tr>\n",
       "    <tr>\n",
       "      <th>2116</th>\n",
       "      <td>1945-10-17</td>\n",
       "      <td>NaN</td>\n",
       "      <td>NaN</td>\n",
       "      <td>NaN</td>\n",
       "      <td>M</td>\n",
       "      <td>NaN</td>\n",
       "      <td>NaN</td>\n",
       "      <td>NaN</td>\n",
       "      <td>1945</td>\n",
       "      <td>10</td>\n",
       "      <td>17</td>\n",
       "    </tr>\n",
       "    <tr>\n",
       "      <th>2117</th>\n",
       "      <td>1945-10-18</td>\n",
       "      <td>NaN</td>\n",
       "      <td>NaN</td>\n",
       "      <td>NaN</td>\n",
       "      <td>M</td>\n",
       "      <td>NaN</td>\n",
       "      <td>NaN</td>\n",
       "      <td>NaN</td>\n",
       "      <td>1945</td>\n",
       "      <td>10</td>\n",
       "      <td>18</td>\n",
       "    </tr>\n",
       "    <tr>\n",
       "      <th>2118</th>\n",
       "      <td>1945-10-19</td>\n",
       "      <td>NaN</td>\n",
       "      <td>NaN</td>\n",
       "      <td>NaN</td>\n",
       "      <td>M</td>\n",
       "      <td>NaN</td>\n",
       "      <td>NaN</td>\n",
       "      <td>NaN</td>\n",
       "      <td>1945</td>\n",
       "      <td>10</td>\n",
       "      <td>19</td>\n",
       "    </tr>\n",
       "    <tr>\n",
       "      <th>2119</th>\n",
       "      <td>1945-10-20</td>\n",
       "      <td>NaN</td>\n",
       "      <td>NaN</td>\n",
       "      <td>NaN</td>\n",
       "      <td>M</td>\n",
       "      <td>NaN</td>\n",
       "      <td>NaN</td>\n",
       "      <td>NaN</td>\n",
       "      <td>1945</td>\n",
       "      <td>10</td>\n",
       "      <td>20</td>\n",
       "    </tr>\n",
       "    <tr>\n",
       "      <th>2120</th>\n",
       "      <td>1945-10-21</td>\n",
       "      <td>NaN</td>\n",
       "      <td>NaN</td>\n",
       "      <td>NaN</td>\n",
       "      <td>M</td>\n",
       "      <td>NaN</td>\n",
       "      <td>NaN</td>\n",
       "      <td>NaN</td>\n",
       "      <td>1945</td>\n",
       "      <td>10</td>\n",
       "      <td>21</td>\n",
       "    </tr>\n",
       "  </tbody>\n",
       "</table>\n",
       "</div>"
      ],
      "text/plain": [
       "            date  maxtemperature  mintemperature  avgtemperature  \\\n",
       "2111  1945-10-12             NaN             NaN             NaN   \n",
       "2112  1945-10-13             NaN             NaN             NaN   \n",
       "2113  1945-10-14             NaN             NaN             NaN   \n",
       "2114  1945-10-15             NaN             NaN             NaN   \n",
       "2115  1945-10-16             NaN             NaN             NaN   \n",
       "2116  1945-10-17             NaN             NaN             NaN   \n",
       "2117  1945-10-18             NaN             NaN             NaN   \n",
       "2118  1945-10-19             NaN             NaN             NaN   \n",
       "2119  1945-10-20             NaN             NaN             NaN   \n",
       "2120  1945-10-21             NaN             NaN             NaN   \n",
       "\n",
       "     atobstemperature  precipitation  snowfall  snowdepth  year  month  day  \n",
       "2111                M            NaN       NaN        NaN  1945     10   12  \n",
       "2112                M            NaN       NaN        NaN  1945     10   13  \n",
       "2113                M            NaN       NaN        NaN  1945     10   14  \n",
       "2114                M            NaN       NaN        NaN  1945     10   15  \n",
       "2115                M            NaN       NaN        NaN  1945     10   16  \n",
       "2116                M            NaN       NaN        NaN  1945     10   17  \n",
       "2117                M            NaN       NaN        NaN  1945     10   18  \n",
       "2118                M            NaN       NaN        NaN  1945     10   19  \n",
       "2119                M            NaN       NaN        NaN  1945     10   20  \n",
       "2120                M            NaN       NaN        NaN  1945     10   21  "
      ]
     },
     "execution_count": 312,
     "metadata": {},
     "output_type": "execute_result"
    }
   ],
   "source": [
    "df_cornell[(df_cornell['date']>='1945-10-12') & (df_cornell['date']<'1945-10-22')]"
   ]
  },
  {
   "cell_type": "code",
   "execution_count": 313,
   "id": "f2554afe",
   "metadata": {},
   "outputs": [
    {
     "data": {
      "text/html": [
       "<div>\n",
       "<style scoped>\n",
       "    .dataframe tbody tr th:only-of-type {\n",
       "        vertical-align: middle;\n",
       "    }\n",
       "\n",
       "    .dataframe tbody tr th {\n",
       "        vertical-align: top;\n",
       "    }\n",
       "\n",
       "    .dataframe thead th {\n",
       "        text-align: right;\n",
       "    }\n",
       "</style>\n",
       "<table border=\"1\" class=\"dataframe\">\n",
       "  <thead>\n",
       "    <tr style=\"text-align: right;\">\n",
       "      <th></th>\n",
       "      <th>date</th>\n",
       "      <th>maxtemperature</th>\n",
       "      <th>mintemperature</th>\n",
       "      <th>avgtemperature</th>\n",
       "      <th>atobstemperature</th>\n",
       "      <th>precipitation</th>\n",
       "      <th>snowfall</th>\n",
       "      <th>snowdepth</th>\n",
       "      <th>year</th>\n",
       "      <th>month</th>\n",
       "      <th>day</th>\n",
       "    </tr>\n",
       "  </thead>\n",
       "  <tbody>\n",
       "    <tr>\n",
       "      <th>30314</th>\n",
       "      <td>2022-12-30</td>\n",
       "      <td>64.0</td>\n",
       "      <td>32.0</td>\n",
       "      <td>48.0</td>\n",
       "      <td>M</td>\n",
       "      <td>0.00</td>\n",
       "      <td>0.0</td>\n",
       "      <td>0.0</td>\n",
       "      <td>2022</td>\n",
       "      <td>12</td>\n",
       "      <td>30</td>\n",
       "    </tr>\n",
       "    <tr>\n",
       "      <th>30315</th>\n",
       "      <td>2022-12-31</td>\n",
       "      <td>53.0</td>\n",
       "      <td>35.0</td>\n",
       "      <td>44.0</td>\n",
       "      <td>M</td>\n",
       "      <td>0.32</td>\n",
       "      <td>0.0</td>\n",
       "      <td>0.0</td>\n",
       "      <td>2022</td>\n",
       "      <td>12</td>\n",
       "      <td>31</td>\n",
       "    </tr>\n",
       "  </tbody>\n",
       "</table>\n",
       "</div>"
      ],
      "text/plain": [
       "             date  maxtemperature  mintemperature  avgtemperature  \\\n",
       "30314  2022-12-30            64.0            32.0            48.0   \n",
       "30315  2022-12-31            53.0            35.0            44.0   \n",
       "\n",
       "      atobstemperature  precipitation  snowfall  snowdepth  year  month  day  \n",
       "30314                M           0.00       0.0        0.0  2022     12   30  \n",
       "30315                M           0.32       0.0        0.0  2022     12   31  "
      ]
     },
     "execution_count": 313,
     "metadata": {},
     "output_type": "execute_result"
    }
   ],
   "source": [
    "df_cornell.tail(2)"
   ]
  },
  {
   "cell_type": "code",
   "execution_count": 314,
   "id": "68cb167d",
   "metadata": {},
   "outputs": [
    {
     "data": {
      "text/html": [
       "<div>\n",
       "<style scoped>\n",
       "    .dataframe tbody tr th:only-of-type {\n",
       "        vertical-align: middle;\n",
       "    }\n",
       "\n",
       "    .dataframe tbody tr th {\n",
       "        vertical-align: top;\n",
       "    }\n",
       "\n",
       "    .dataframe thead th {\n",
       "        text-align: right;\n",
       "    }\n",
       "</style>\n",
       "<table border=\"1\" class=\"dataframe\">\n",
       "  <thead>\n",
       "    <tr style=\"text-align: right;\">\n",
       "      <th></th>\n",
       "      <th>date</th>\n",
       "      <th>prcp</th>\n",
       "      <th>snow</th>\n",
       "      <th>snwd</th>\n",
       "      <th>tavg</th>\n",
       "      <th>tmax</th>\n",
       "      <th>tmin</th>\n",
       "      <th>year</th>\n",
       "      <th>month</th>\n",
       "      <th>day</th>\n",
       "    </tr>\n",
       "  </thead>\n",
       "  <tbody>\n",
       "    <tr>\n",
       "      <th>1371</th>\n",
       "      <td>1945-10-12</td>\n",
       "      <td>NaN</td>\n",
       "      <td>NaN</td>\n",
       "      <td>NaN</td>\n",
       "      <td>49.0</td>\n",
       "      <td>NaN</td>\n",
       "      <td>NaN</td>\n",
       "      <td>1945</td>\n",
       "      <td>10</td>\n",
       "      <td>12</td>\n",
       "    </tr>\n",
       "    <tr>\n",
       "      <th>1372</th>\n",
       "      <td>1945-10-13</td>\n",
       "      <td>NaN</td>\n",
       "      <td>NaN</td>\n",
       "      <td>NaN</td>\n",
       "      <td>53.0</td>\n",
       "      <td>NaN</td>\n",
       "      <td>NaN</td>\n",
       "      <td>1945</td>\n",
       "      <td>10</td>\n",
       "      <td>13</td>\n",
       "    </tr>\n",
       "    <tr>\n",
       "      <th>1373</th>\n",
       "      <td>1945-10-14</td>\n",
       "      <td>NaN</td>\n",
       "      <td>NaN</td>\n",
       "      <td>NaN</td>\n",
       "      <td>48.0</td>\n",
       "      <td>NaN</td>\n",
       "      <td>NaN</td>\n",
       "      <td>1945</td>\n",
       "      <td>10</td>\n",
       "      <td>14</td>\n",
       "    </tr>\n",
       "  </tbody>\n",
       "</table>\n",
       "</div>"
      ],
      "text/plain": [
       "            date  prcp  snow  snwd  tavg  tmax  tmin  year  month  day\n",
       "1371  1945-10-12   NaN   NaN   NaN  49.0   NaN   NaN  1945     10   12\n",
       "1372  1945-10-13   NaN   NaN   NaN  53.0   NaN   NaN  1945     10   13\n",
       "1373  1945-10-14   NaN   NaN   NaN  48.0   NaN   NaN  1945     10   14"
      ]
     },
     "execution_count": 314,
     "metadata": {},
     "output_type": "execute_result"
    }
   ],
   "source": [
    "df[(df['date']>='1945-10-12') & (df['date']<'1947-10-30')]"
   ]
  },
  {
   "cell_type": "code",
   "execution_count": 315,
   "id": "5d0f90f0",
   "metadata": {},
   "outputs": [
    {
     "data": {
      "text/html": [
       "<div>\n",
       "<style scoped>\n",
       "    .dataframe tbody tr th:only-of-type {\n",
       "        vertical-align: middle;\n",
       "    }\n",
       "\n",
       "    .dataframe tbody tr th {\n",
       "        vertical-align: top;\n",
       "    }\n",
       "\n",
       "    .dataframe thead th {\n",
       "        text-align: right;\n",
       "    }\n",
       "</style>\n",
       "<table border=\"1\" class=\"dataframe\">\n",
       "  <thead>\n",
       "    <tr style=\"text-align: right;\">\n",
       "      <th></th>\n",
       "      <th>date</th>\n",
       "      <th>prcp</th>\n",
       "      <th>snow</th>\n",
       "      <th>snwd</th>\n",
       "      <th>tavg</th>\n",
       "      <th>tmax</th>\n",
       "      <th>tmin</th>\n",
       "      <th>year</th>\n",
       "      <th>month</th>\n",
       "      <th>day</th>\n",
       "    </tr>\n",
       "  </thead>\n",
       "  <tbody>\n",
       "    <tr>\n",
       "      <th>28398</th>\n",
       "      <td>2022-12-30</td>\n",
       "      <td>0.00</td>\n",
       "      <td>0.0</td>\n",
       "      <td>0.0</td>\n",
       "      <td>45.0</td>\n",
       "      <td>64.0</td>\n",
       "      <td>32.0</td>\n",
       "      <td>2022</td>\n",
       "      <td>12</td>\n",
       "      <td>30</td>\n",
       "    </tr>\n",
       "    <tr>\n",
       "      <th>28399</th>\n",
       "      <td>2022-12-31</td>\n",
       "      <td>0.32</td>\n",
       "      <td>0.0</td>\n",
       "      <td>0.0</td>\n",
       "      <td>46.0</td>\n",
       "      <td>53.0</td>\n",
       "      <td>35.0</td>\n",
       "      <td>2022</td>\n",
       "      <td>12</td>\n",
       "      <td>31</td>\n",
       "    </tr>\n",
       "  </tbody>\n",
       "</table>\n",
       "</div>"
      ],
      "text/plain": [
       "             date  prcp  snow  snwd  tavg  tmax  tmin  year  month  day\n",
       "28398  2022-12-30  0.00   0.0   0.0  45.0  64.0  32.0  2022     12   30\n",
       "28399  2022-12-31  0.32   0.0   0.0  46.0  53.0  35.0  2022     12   31"
      ]
     },
     "execution_count": 315,
     "metadata": {},
     "output_type": "execute_result"
    }
   ],
   "source": [
    "df.tail(2)"
   ]
  },
  {
   "cell_type": "code",
   "execution_count": 316,
   "id": "0af7d274",
   "metadata": {},
   "outputs": [
    {
     "name": "stdout",
     "output_type": "stream",
     "text": [
      "{1946, 1947, 1948}\n"
     ]
    }
   ],
   "source": [
    "# looks like some years are missing from NOAA\n",
    "diff_years = set(df_cornell.year).difference(set(df.year))\n",
    "print(diff_years)"
   ]
  },
  {
   "cell_type": "code",
   "execution_count": 317,
   "id": "e5962d8b",
   "metadata": {},
   "outputs": [],
   "source": [
    "cor_46_47_48 = df_cornell[(df_cornell['date'] >= '1946-01-01') & (df_cornell['date'] < '1949-01-01')].copy()"
   ]
  },
  {
   "cell_type": "code",
   "execution_count": 318,
   "id": "dbbb06f2",
   "metadata": {},
   "outputs": [
    {
     "data": {
      "text/html": [
       "<div>\n",
       "<style scoped>\n",
       "    .dataframe tbody tr th:only-of-type {\n",
       "        vertical-align: middle;\n",
       "    }\n",
       "\n",
       "    .dataframe tbody tr th {\n",
       "        vertical-align: top;\n",
       "    }\n",
       "\n",
       "    .dataframe thead th {\n",
       "        text-align: right;\n",
       "    }\n",
       "</style>\n",
       "<table border=\"1\" class=\"dataframe\">\n",
       "  <thead>\n",
       "    <tr style=\"text-align: right;\">\n",
       "      <th></th>\n",
       "      <th>date</th>\n",
       "      <th>maxtemperature</th>\n",
       "      <th>mintemperature</th>\n",
       "      <th>avgtemperature</th>\n",
       "      <th>atobstemperature</th>\n",
       "      <th>precipitation</th>\n",
       "      <th>snowfall</th>\n",
       "      <th>snowdepth</th>\n",
       "      <th>year</th>\n",
       "      <th>month</th>\n",
       "      <th>day</th>\n",
       "    </tr>\n",
       "  </thead>\n",
       "  <tbody>\n",
       "    <tr>\n",
       "      <th>2192</th>\n",
       "      <td>1946-01-01</td>\n",
       "      <td>NaN</td>\n",
       "      <td>NaN</td>\n",
       "      <td>NaN</td>\n",
       "      <td>M</td>\n",
       "      <td>NaN</td>\n",
       "      <td>NaN</td>\n",
       "      <td>NaN</td>\n",
       "      <td>1946</td>\n",
       "      <td>1</td>\n",
       "      <td>1</td>\n",
       "    </tr>\n",
       "    <tr>\n",
       "      <th>2193</th>\n",
       "      <td>1946-01-02</td>\n",
       "      <td>NaN</td>\n",
       "      <td>NaN</td>\n",
       "      <td>NaN</td>\n",
       "      <td>M</td>\n",
       "      <td>NaN</td>\n",
       "      <td>NaN</td>\n",
       "      <td>NaN</td>\n",
       "      <td>1946</td>\n",
       "      <td>1</td>\n",
       "      <td>2</td>\n",
       "    </tr>\n",
       "    <tr>\n",
       "      <th>2194</th>\n",
       "      <td>1946-01-03</td>\n",
       "      <td>NaN</td>\n",
       "      <td>NaN</td>\n",
       "      <td>NaN</td>\n",
       "      <td>M</td>\n",
       "      <td>NaN</td>\n",
       "      <td>NaN</td>\n",
       "      <td>NaN</td>\n",
       "      <td>1946</td>\n",
       "      <td>1</td>\n",
       "      <td>3</td>\n",
       "    </tr>\n",
       "    <tr>\n",
       "      <th>2195</th>\n",
       "      <td>1946-01-04</td>\n",
       "      <td>NaN</td>\n",
       "      <td>NaN</td>\n",
       "      <td>NaN</td>\n",
       "      <td>M</td>\n",
       "      <td>NaN</td>\n",
       "      <td>NaN</td>\n",
       "      <td>NaN</td>\n",
       "      <td>1946</td>\n",
       "      <td>1</td>\n",
       "      <td>4</td>\n",
       "    </tr>\n",
       "    <tr>\n",
       "      <th>2196</th>\n",
       "      <td>1946-01-05</td>\n",
       "      <td>NaN</td>\n",
       "      <td>NaN</td>\n",
       "      <td>NaN</td>\n",
       "      <td>M</td>\n",
       "      <td>NaN</td>\n",
       "      <td>NaN</td>\n",
       "      <td>NaN</td>\n",
       "      <td>1946</td>\n",
       "      <td>1</td>\n",
       "      <td>5</td>\n",
       "    </tr>\n",
       "    <tr>\n",
       "      <th>...</th>\n",
       "      <td>...</td>\n",
       "      <td>...</td>\n",
       "      <td>...</td>\n",
       "      <td>...</td>\n",
       "      <td>...</td>\n",
       "      <td>...</td>\n",
       "      <td>...</td>\n",
       "      <td>...</td>\n",
       "      <td>...</td>\n",
       "      <td>...</td>\n",
       "      <td>...</td>\n",
       "    </tr>\n",
       "    <tr>\n",
       "      <th>3283</th>\n",
       "      <td>1948-12-27</td>\n",
       "      <td>NaN</td>\n",
       "      <td>NaN</td>\n",
       "      <td>NaN</td>\n",
       "      <td>M</td>\n",
       "      <td>NaN</td>\n",
       "      <td>NaN</td>\n",
       "      <td>NaN</td>\n",
       "      <td>1948</td>\n",
       "      <td>12</td>\n",
       "      <td>27</td>\n",
       "    </tr>\n",
       "    <tr>\n",
       "      <th>3284</th>\n",
       "      <td>1948-12-28</td>\n",
       "      <td>NaN</td>\n",
       "      <td>NaN</td>\n",
       "      <td>NaN</td>\n",
       "      <td>M</td>\n",
       "      <td>NaN</td>\n",
       "      <td>NaN</td>\n",
       "      <td>NaN</td>\n",
       "      <td>1948</td>\n",
       "      <td>12</td>\n",
       "      <td>28</td>\n",
       "    </tr>\n",
       "    <tr>\n",
       "      <th>3285</th>\n",
       "      <td>1948-12-29</td>\n",
       "      <td>NaN</td>\n",
       "      <td>NaN</td>\n",
       "      <td>NaN</td>\n",
       "      <td>M</td>\n",
       "      <td>NaN</td>\n",
       "      <td>NaN</td>\n",
       "      <td>NaN</td>\n",
       "      <td>1948</td>\n",
       "      <td>12</td>\n",
       "      <td>29</td>\n",
       "    </tr>\n",
       "    <tr>\n",
       "      <th>3286</th>\n",
       "      <td>1948-12-30</td>\n",
       "      <td>NaN</td>\n",
       "      <td>NaN</td>\n",
       "      <td>NaN</td>\n",
       "      <td>M</td>\n",
       "      <td>NaN</td>\n",
       "      <td>NaN</td>\n",
       "      <td>NaN</td>\n",
       "      <td>1948</td>\n",
       "      <td>12</td>\n",
       "      <td>30</td>\n",
       "    </tr>\n",
       "    <tr>\n",
       "      <th>3287</th>\n",
       "      <td>1948-12-31</td>\n",
       "      <td>NaN</td>\n",
       "      <td>NaN</td>\n",
       "      <td>NaN</td>\n",
       "      <td>M</td>\n",
       "      <td>NaN</td>\n",
       "      <td>NaN</td>\n",
       "      <td>NaN</td>\n",
       "      <td>1948</td>\n",
       "      <td>12</td>\n",
       "      <td>31</td>\n",
       "    </tr>\n",
       "  </tbody>\n",
       "</table>\n",
       "<p>1096 rows × 11 columns</p>\n",
       "</div>"
      ],
      "text/plain": [
       "            date  maxtemperature  mintemperature  avgtemperature  \\\n",
       "2192  1946-01-01             NaN             NaN             NaN   \n",
       "2193  1946-01-02             NaN             NaN             NaN   \n",
       "2194  1946-01-03             NaN             NaN             NaN   \n",
       "2195  1946-01-04             NaN             NaN             NaN   \n",
       "2196  1946-01-05             NaN             NaN             NaN   \n",
       "...          ...             ...             ...             ...   \n",
       "3283  1948-12-27             NaN             NaN             NaN   \n",
       "3284  1948-12-28             NaN             NaN             NaN   \n",
       "3285  1948-12-29             NaN             NaN             NaN   \n",
       "3286  1948-12-30             NaN             NaN             NaN   \n",
       "3287  1948-12-31             NaN             NaN             NaN   \n",
       "\n",
       "     atobstemperature  precipitation  snowfall  snowdepth  year  month  day  \n",
       "2192                M            NaN       NaN        NaN  1946      1    1  \n",
       "2193                M            NaN       NaN        NaN  1946      1    2  \n",
       "2194                M            NaN       NaN        NaN  1946      1    3  \n",
       "2195                M            NaN       NaN        NaN  1946      1    4  \n",
       "2196                M            NaN       NaN        NaN  1946      1    5  \n",
       "...               ...            ...       ...        ...   ...    ...  ...  \n",
       "3283                M            NaN       NaN        NaN  1948     12   27  \n",
       "3284                M            NaN       NaN        NaN  1948     12   28  \n",
       "3285                M            NaN       NaN        NaN  1948     12   29  \n",
       "3286                M            NaN       NaN        NaN  1948     12   30  \n",
       "3287                M            NaN       NaN        NaN  1948     12   31  \n",
       "\n",
       "[1096 rows x 11 columns]"
      ]
     },
     "execution_count": 318,
     "metadata": {},
     "output_type": "execute_result"
    }
   ],
   "source": [
    "cor_46_47_48"
   ]
  },
  {
   "cell_type": "markdown",
   "id": "f26606d4",
   "metadata": {},
   "source": [
    "# Looks like there is a lot of missing value so let's check when actual data comes in"
   ]
  },
  {
   "cell_type": "markdown",
   "id": "127c01dc",
   "metadata": {},
   "source": [
    "___"
   ]
  },
  {
   "cell_type": "markdown",
   "id": "9bf82afd",
   "metadata": {},
   "source": [
    "# Merge all the data and add NOAA's 2023 data and input the same values for cornell and work backwards"
   ]
  },
  {
   "cell_type": "code",
   "execution_count": 319,
   "id": "f61bb7a6",
   "metadata": {},
   "outputs": [],
   "source": [
    "## Take 2023 data from NOAA and input the same values for 2023 cornell"
   ]
  },
  {
   "cell_type": "code",
   "execution_count": 320,
   "id": "146585b2",
   "metadata": {},
   "outputs": [],
   "source": [
    "df = pd.concat([df, df_2023], ignore_index = True)"
   ]
  },
  {
   "cell_type": "code",
   "execution_count": 321,
   "id": "257472a1",
   "metadata": {},
   "outputs": [],
   "source": [
    "df_cornell_2023 = pd.DataFrame(df_2023)"
   ]
  },
  {
   "cell_type": "code",
   "execution_count": 322,
   "id": "5aa7c827",
   "metadata": {},
   "outputs": [],
   "source": [
    "df_cornell_2023['atobstemperature'] = 'M'"
   ]
  },
  {
   "cell_type": "code",
   "execution_count": 323,
   "id": "7ad5e476",
   "metadata": {},
   "outputs": [
    {
     "data": {
      "text/html": [
       "<div>\n",
       "<style scoped>\n",
       "    .dataframe tbody tr th:only-of-type {\n",
       "        vertical-align: middle;\n",
       "    }\n",
       "\n",
       "    .dataframe tbody tr th {\n",
       "        vertical-align: top;\n",
       "    }\n",
       "\n",
       "    .dataframe thead th {\n",
       "        text-align: right;\n",
       "    }\n",
       "</style>\n",
       "<table border=\"1\" class=\"dataframe\">\n",
       "  <thead>\n",
       "    <tr style=\"text-align: right;\">\n",
       "      <th></th>\n",
       "      <th>date</th>\n",
       "      <th>prcp</th>\n",
       "      <th>snow</th>\n",
       "      <th>snwd</th>\n",
       "      <th>tavg</th>\n",
       "      <th>tmax</th>\n",
       "      <th>tmin</th>\n",
       "      <th>year</th>\n",
       "      <th>month</th>\n",
       "      <th>day</th>\n",
       "      <th>atobstemperature</th>\n",
       "    </tr>\n",
       "  </thead>\n",
       "  <tbody>\n",
       "    <tr>\n",
       "      <th>28400</th>\n",
       "      <td>2023-01-01</td>\n",
       "      <td>0.03</td>\n",
       "      <td>0.0</td>\n",
       "      <td>0.0</td>\n",
       "      <td>47.0</td>\n",
       "      <td>51.0</td>\n",
       "      <td>33.0</td>\n",
       "      <td>2023</td>\n",
       "      <td>1</td>\n",
       "      <td>1</td>\n",
       "      <td>M</td>\n",
       "    </tr>\n",
       "  </tbody>\n",
       "</table>\n",
       "</div>"
      ],
      "text/plain": [
       "             date  prcp  snow  snwd  tavg  tmax  tmin  year  month  day  \\\n",
       "28400  2023-01-01  0.03   0.0   0.0  47.0  51.0  33.0  2023      1    1   \n",
       "\n",
       "      atobstemperature  \n",
       "28400                M  "
      ]
     },
     "execution_count": 323,
     "metadata": {},
     "output_type": "execute_result"
    }
   ],
   "source": [
    "df_cornell_2023.head(1)"
   ]
  },
  {
   "cell_type": "code",
   "execution_count": 324,
   "id": "e1c28a41",
   "metadata": {},
   "outputs": [],
   "source": [
    "# create a dictionary\n",
    "# key = old name\n",
    "# value = new name\n",
    "dict = {'prcp': 'precipitation',\n",
    "        'snow': 'snowfall',\n",
    "        'snwd': 'snowdepth',\n",
    "        'tavg': 'avgtemperature',\n",
    "        'tmax': 'maxtemperature',\n",
    "        'tmin': 'mintemperature'}\n",
    " \n",
    "# call rename () method\n",
    "df_cornell_2023.rename(columns=dict,\n",
    "          inplace=True)"
   ]
  },
  {
   "cell_type": "code",
   "execution_count": 325,
   "id": "97d79f90",
   "metadata": {},
   "outputs": [
    {
     "data": {
      "text/html": [
       "<div>\n",
       "<style scoped>\n",
       "    .dataframe tbody tr th:only-of-type {\n",
       "        vertical-align: middle;\n",
       "    }\n",
       "\n",
       "    .dataframe tbody tr th {\n",
       "        vertical-align: top;\n",
       "    }\n",
       "\n",
       "    .dataframe thead th {\n",
       "        text-align: right;\n",
       "    }\n",
       "</style>\n",
       "<table border=\"1\" class=\"dataframe\">\n",
       "  <thead>\n",
       "    <tr style=\"text-align: right;\">\n",
       "      <th></th>\n",
       "      <th>date</th>\n",
       "      <th>precipitation</th>\n",
       "      <th>snowfall</th>\n",
       "      <th>snowdepth</th>\n",
       "      <th>avgtemperature</th>\n",
       "      <th>maxtemperature</th>\n",
       "      <th>mintemperature</th>\n",
       "      <th>year</th>\n",
       "      <th>month</th>\n",
       "      <th>day</th>\n",
       "      <th>atobstemperature</th>\n",
       "    </tr>\n",
       "  </thead>\n",
       "  <tbody>\n",
       "    <tr>\n",
       "      <th>28400</th>\n",
       "      <td>2023-01-01</td>\n",
       "      <td>0.03</td>\n",
       "      <td>0.0</td>\n",
       "      <td>0.0</td>\n",
       "      <td>47.0</td>\n",
       "      <td>51.0</td>\n",
       "      <td>33.0</td>\n",
       "      <td>2023</td>\n",
       "      <td>1</td>\n",
       "      <td>1</td>\n",
       "      <td>M</td>\n",
       "    </tr>\n",
       "  </tbody>\n",
       "</table>\n",
       "</div>"
      ],
      "text/plain": [
       "             date  precipitation  snowfall  snowdepth  avgtemperature  \\\n",
       "28400  2023-01-01           0.03       0.0        0.0            47.0   \n",
       "\n",
       "       maxtemperature  mintemperature  year  month  day atobstemperature  \n",
       "28400            51.0            33.0  2023      1    1                M  "
      ]
     },
     "execution_count": 325,
     "metadata": {},
     "output_type": "execute_result"
    }
   ],
   "source": [
    "df_cornell_2023.head(1)"
   ]
  },
  {
   "cell_type": "code",
   "execution_count": 326,
   "id": "56e71d4f",
   "metadata": {},
   "outputs": [
    {
     "data": {
      "text/plain": [
       "['date',\n",
       " 'maxtemperature',\n",
       " 'mintemperature',\n",
       " 'avgtemperature',\n",
       " 'atobstemperature',\n",
       " 'precipitation',\n",
       " 'snowfall',\n",
       " 'snowdepth',\n",
       " 'year',\n",
       " 'month',\n",
       " 'day']"
      ]
     },
     "execution_count": 326,
     "metadata": {},
     "output_type": "execute_result"
    }
   ],
   "source": [
    "list(df_cornell.columns)"
   ]
  },
  {
   "cell_type": "code",
   "execution_count": 327,
   "id": "3f81c4d5",
   "metadata": {},
   "outputs": [],
   "source": [
    "df_cornell_2023 = df_cornell_2023[list(df_cornell.columns)]"
   ]
  },
  {
   "cell_type": "code",
   "execution_count": 328,
   "id": "27fd5bdc",
   "metadata": {},
   "outputs": [
    {
     "data": {
      "text/html": [
       "<div>\n",
       "<style scoped>\n",
       "    .dataframe tbody tr th:only-of-type {\n",
       "        vertical-align: middle;\n",
       "    }\n",
       "\n",
       "    .dataframe tbody tr th {\n",
       "        vertical-align: top;\n",
       "    }\n",
       "\n",
       "    .dataframe thead th {\n",
       "        text-align: right;\n",
       "    }\n",
       "</style>\n",
       "<table border=\"1\" class=\"dataframe\">\n",
       "  <thead>\n",
       "    <tr style=\"text-align: right;\">\n",
       "      <th></th>\n",
       "      <th>date</th>\n",
       "      <th>maxtemperature</th>\n",
       "      <th>mintemperature</th>\n",
       "      <th>avgtemperature</th>\n",
       "      <th>atobstemperature</th>\n",
       "      <th>precipitation</th>\n",
       "      <th>snowfall</th>\n",
       "      <th>snowdepth</th>\n",
       "      <th>year</th>\n",
       "      <th>month</th>\n",
       "      <th>day</th>\n",
       "    </tr>\n",
       "  </thead>\n",
       "  <tbody>\n",
       "    <tr>\n",
       "      <th>28400</th>\n",
       "      <td>2023-01-01</td>\n",
       "      <td>51.0</td>\n",
       "      <td>33.0</td>\n",
       "      <td>47.0</td>\n",
       "      <td>M</td>\n",
       "      <td>0.03</td>\n",
       "      <td>0.0</td>\n",
       "      <td>0.0</td>\n",
       "      <td>2023</td>\n",
       "      <td>1</td>\n",
       "      <td>1</td>\n",
       "    </tr>\n",
       "  </tbody>\n",
       "</table>\n",
       "</div>"
      ],
      "text/plain": [
       "             date  maxtemperature  mintemperature  avgtemperature  \\\n",
       "28400  2023-01-01            51.0            33.0            47.0   \n",
       "\n",
       "      atobstemperature  precipitation  snowfall  snowdepth  year  month  day  \n",
       "28400                M           0.03       0.0        0.0  2023      1    1  "
      ]
     },
     "execution_count": 328,
     "metadata": {},
     "output_type": "execute_result"
    }
   ],
   "source": [
    "df_cornell_2023.head(1)"
   ]
  },
  {
   "cell_type": "code",
   "execution_count": 329,
   "id": "17955ecb",
   "metadata": {},
   "outputs": [
    {
     "data": {
      "text/html": [
       "<div>\n",
       "<style scoped>\n",
       "    .dataframe tbody tr th:only-of-type {\n",
       "        vertical-align: middle;\n",
       "    }\n",
       "\n",
       "    .dataframe tbody tr th {\n",
       "        vertical-align: top;\n",
       "    }\n",
       "\n",
       "    .dataframe thead th {\n",
       "        text-align: right;\n",
       "    }\n",
       "</style>\n",
       "<table border=\"1\" class=\"dataframe\">\n",
       "  <thead>\n",
       "    <tr style=\"text-align: right;\">\n",
       "      <th></th>\n",
       "      <th>date</th>\n",
       "      <th>maxtemperature</th>\n",
       "      <th>mintemperature</th>\n",
       "      <th>avgtemperature</th>\n",
       "      <th>atobstemperature</th>\n",
       "      <th>precipitation</th>\n",
       "      <th>snowfall</th>\n",
       "      <th>snowdepth</th>\n",
       "      <th>year</th>\n",
       "      <th>month</th>\n",
       "      <th>day</th>\n",
       "    </tr>\n",
       "  </thead>\n",
       "  <tbody>\n",
       "    <tr>\n",
       "      <th>1096</th>\n",
       "      <td>1943-01-01</td>\n",
       "      <td>NaN</td>\n",
       "      <td>NaN</td>\n",
       "      <td>NaN</td>\n",
       "      <td>M</td>\n",
       "      <td>NaN</td>\n",
       "      <td>NaN</td>\n",
       "      <td>NaN</td>\n",
       "      <td>1943</td>\n",
       "      <td>1</td>\n",
       "      <td>1</td>\n",
       "    </tr>\n",
       "  </tbody>\n",
       "</table>\n",
       "</div>"
      ],
      "text/plain": [
       "            date  maxtemperature  mintemperature  avgtemperature  \\\n",
       "1096  1943-01-01             NaN             NaN             NaN   \n",
       "\n",
       "     atobstemperature  precipitation  snowfall  snowdepth  year  month  day  \n",
       "1096                M            NaN       NaN        NaN  1943      1    1  "
      ]
     },
     "execution_count": 329,
     "metadata": {},
     "output_type": "execute_result"
    }
   ],
   "source": [
    "df_cornell.head(1)"
   ]
  },
  {
   "cell_type": "code",
   "execution_count": 330,
   "id": "b9466a49",
   "metadata": {},
   "outputs": [],
   "source": [
    "df_cornell = pd.concat([df_cornell, df_cornell_2023], ignore_index = True)"
   ]
  },
  {
   "cell_type": "code",
   "execution_count": 331,
   "id": "68b905b5",
   "metadata": {},
   "outputs": [
    {
     "name": "stdout",
     "output_type": "stream",
     "text": [
      "(365, 11)\n",
      "(365, 10)\n"
     ]
    }
   ],
   "source": [
    "print(df_cornell[df_cornell['date']>='2023-01-01'].shape)\n",
    "print(df[df['date']>='2023-01-01'].shape)"
   ]
  },
  {
   "cell_type": "code",
   "execution_count": 332,
   "id": "02f01aa6",
   "metadata": {},
   "outputs": [],
   "source": [
    "### Based on analyes below\n",
    "df_cornell.loc[(df_cornell['month'].isin([5,6,7,8,9])) & (df_cornell['snowfall'] == '0.0'), 'snowdepth'] = 0.0\n",
    "df.loc[(df['month'].isin([5,6,7,8,9])) & (df['snow'] == 0.0), 'snwd'] = 0.0"
   ]
  },
  {
   "cell_type": "code",
   "execution_count": 333,
   "id": "6c84d672",
   "metadata": {},
   "outputs": [],
   "source": [
    "df2 = pd.merge(df_cornell, df, how = 'left', on = 'date')"
   ]
  },
  {
   "cell_type": "code",
   "execution_count": 334,
   "id": "65eb47d8",
   "metadata": {},
   "outputs": [
    {
     "name": "stdout",
     "output_type": "stream",
     "text": [
      "(28409, 10)\n",
      "(29585, 11)\n",
      "(29585, 20)\n"
     ]
    }
   ],
   "source": [
    "print(df.shape)\n",
    "print(df_cornell.shape)\n",
    "print(df2.shape)"
   ]
  },
  {
   "cell_type": "code",
   "execution_count": 335,
   "id": "d44fb9e7",
   "metadata": {},
   "outputs": [
    {
     "data": {
      "text/html": [
       "<div>\n",
       "<style scoped>\n",
       "    .dataframe tbody tr th:only-of-type {\n",
       "        vertical-align: middle;\n",
       "    }\n",
       "\n",
       "    .dataframe tbody tr th {\n",
       "        vertical-align: top;\n",
       "    }\n",
       "\n",
       "    .dataframe thead th {\n",
       "        text-align: right;\n",
       "    }\n",
       "</style>\n",
       "<table border=\"1\" class=\"dataframe\">\n",
       "  <thead>\n",
       "    <tr style=\"text-align: right;\">\n",
       "      <th></th>\n",
       "      <th>date</th>\n",
       "      <th>maxtemperature</th>\n",
       "      <th>mintemperature</th>\n",
       "      <th>avgtemperature</th>\n",
       "      <th>atobstemperature</th>\n",
       "      <th>precipitation</th>\n",
       "      <th>snowfall</th>\n",
       "      <th>snowdepth</th>\n",
       "      <th>year_x</th>\n",
       "      <th>month_x</th>\n",
       "      <th>day_x</th>\n",
       "      <th>prcp</th>\n",
       "      <th>snow</th>\n",
       "      <th>snwd</th>\n",
       "      <th>tavg</th>\n",
       "      <th>tmax</th>\n",
       "      <th>tmin</th>\n",
       "      <th>year_y</th>\n",
       "      <th>month_y</th>\n",
       "      <th>day_y</th>\n",
       "    </tr>\n",
       "  </thead>\n",
       "  <tbody>\n",
       "    <tr>\n",
       "      <th>29220</th>\n",
       "      <td>2023-01-01</td>\n",
       "      <td>51.0</td>\n",
       "      <td>33.0</td>\n",
       "      <td>47.0</td>\n",
       "      <td>M</td>\n",
       "      <td>0.03</td>\n",
       "      <td>0.0</td>\n",
       "      <td>0.0</td>\n",
       "      <td>2023</td>\n",
       "      <td>1</td>\n",
       "      <td>1</td>\n",
       "      <td>0.03</td>\n",
       "      <td>0.0</td>\n",
       "      <td>0.0</td>\n",
       "      <td>47.0</td>\n",
       "      <td>51.0</td>\n",
       "      <td>33.0</td>\n",
       "      <td>2023.0</td>\n",
       "      <td>1.0</td>\n",
       "      <td>1.0</td>\n",
       "    </tr>\n",
       "    <tr>\n",
       "      <th>29221</th>\n",
       "      <td>2023-01-02</td>\n",
       "      <td>47.0</td>\n",
       "      <td>28.0</td>\n",
       "      <td>37.0</td>\n",
       "      <td>M</td>\n",
       "      <td>0.00</td>\n",
       "      <td>0.0</td>\n",
       "      <td>0.0</td>\n",
       "      <td>2023</td>\n",
       "      <td>1</td>\n",
       "      <td>2</td>\n",
       "      <td>0.00</td>\n",
       "      <td>0.0</td>\n",
       "      <td>0.0</td>\n",
       "      <td>37.0</td>\n",
       "      <td>47.0</td>\n",
       "      <td>28.0</td>\n",
       "      <td>2023.0</td>\n",
       "      <td>1.0</td>\n",
       "      <td>2.0</td>\n",
       "    </tr>\n",
       "    <tr>\n",
       "      <th>29222</th>\n",
       "      <td>2023-01-03</td>\n",
       "      <td>40.0</td>\n",
       "      <td>29.0</td>\n",
       "      <td>35.0</td>\n",
       "      <td>M</td>\n",
       "      <td>0.42</td>\n",
       "      <td>0.0</td>\n",
       "      <td>0.0</td>\n",
       "      <td>2023</td>\n",
       "      <td>1</td>\n",
       "      <td>3</td>\n",
       "      <td>0.42</td>\n",
       "      <td>0.0</td>\n",
       "      <td>0.0</td>\n",
       "      <td>35.0</td>\n",
       "      <td>40.0</td>\n",
       "      <td>29.0</td>\n",
       "      <td>2023.0</td>\n",
       "      <td>1.0</td>\n",
       "      <td>3.0</td>\n",
       "    </tr>\n",
       "    <tr>\n",
       "      <th>29223</th>\n",
       "      <td>2023-01-04</td>\n",
       "      <td>47.0</td>\n",
       "      <td>39.0</td>\n",
       "      <td>41.0</td>\n",
       "      <td>M</td>\n",
       "      <td>0.26</td>\n",
       "      <td>0.0</td>\n",
       "      <td>0.0</td>\n",
       "      <td>2023</td>\n",
       "      <td>1</td>\n",
       "      <td>4</td>\n",
       "      <td>0.26</td>\n",
       "      <td>0.0</td>\n",
       "      <td>0.0</td>\n",
       "      <td>41.0</td>\n",
       "      <td>47.0</td>\n",
       "      <td>39.0</td>\n",
       "      <td>2023.0</td>\n",
       "      <td>1.0</td>\n",
       "      <td>4.0</td>\n",
       "    </tr>\n",
       "    <tr>\n",
       "      <th>29224</th>\n",
       "      <td>2023-01-05</td>\n",
       "      <td>46.0</td>\n",
       "      <td>39.0</td>\n",
       "      <td>44.0</td>\n",
       "      <td>M</td>\n",
       "      <td>0.03</td>\n",
       "      <td>0.0</td>\n",
       "      <td>0.0</td>\n",
       "      <td>2023</td>\n",
       "      <td>1</td>\n",
       "      <td>5</td>\n",
       "      <td>0.03</td>\n",
       "      <td>0.0</td>\n",
       "      <td>0.0</td>\n",
       "      <td>44.0</td>\n",
       "      <td>46.0</td>\n",
       "      <td>39.0</td>\n",
       "      <td>2023.0</td>\n",
       "      <td>1.0</td>\n",
       "      <td>5.0</td>\n",
       "    </tr>\n",
       "    <tr>\n",
       "      <th>...</th>\n",
       "      <td>...</td>\n",
       "      <td>...</td>\n",
       "      <td>...</td>\n",
       "      <td>...</td>\n",
       "      <td>...</td>\n",
       "      <td>...</td>\n",
       "      <td>...</td>\n",
       "      <td>...</td>\n",
       "      <td>...</td>\n",
       "      <td>...</td>\n",
       "      <td>...</td>\n",
       "      <td>...</td>\n",
       "      <td>...</td>\n",
       "      <td>...</td>\n",
       "      <td>...</td>\n",
       "      <td>...</td>\n",
       "      <td>...</td>\n",
       "      <td>...</td>\n",
       "      <td>...</td>\n",
       "      <td>...</td>\n",
       "    </tr>\n",
       "    <tr>\n",
       "      <th>29580</th>\n",
       "      <td>2023-12-27</td>\n",
       "      <td>46.0</td>\n",
       "      <td>40.0</td>\n",
       "      <td>42.0</td>\n",
       "      <td>M</td>\n",
       "      <td>0.13</td>\n",
       "      <td>0.0</td>\n",
       "      <td>0.0</td>\n",
       "      <td>2023</td>\n",
       "      <td>12</td>\n",
       "      <td>27</td>\n",
       "      <td>0.13</td>\n",
       "      <td>0.0</td>\n",
       "      <td>0.0</td>\n",
       "      <td>42.0</td>\n",
       "      <td>46.0</td>\n",
       "      <td>40.0</td>\n",
       "      <td>2023.0</td>\n",
       "      <td>12.0</td>\n",
       "      <td>27.0</td>\n",
       "    </tr>\n",
       "    <tr>\n",
       "      <th>29581</th>\n",
       "      <td>2023-12-28</td>\n",
       "      <td>49.0</td>\n",
       "      <td>44.0</td>\n",
       "      <td>46.0</td>\n",
       "      <td>M</td>\n",
       "      <td>1.70</td>\n",
       "      <td>0.0</td>\n",
       "      <td>0.0</td>\n",
       "      <td>2023</td>\n",
       "      <td>12</td>\n",
       "      <td>28</td>\n",
       "      <td>1.70</td>\n",
       "      <td>0.0</td>\n",
       "      <td>0.0</td>\n",
       "      <td>46.0</td>\n",
       "      <td>49.0</td>\n",
       "      <td>44.0</td>\n",
       "      <td>2023.0</td>\n",
       "      <td>12.0</td>\n",
       "      <td>28.0</td>\n",
       "    </tr>\n",
       "    <tr>\n",
       "      <th>29582</th>\n",
       "      <td>2023-12-29</td>\n",
       "      <td>47.0</td>\n",
       "      <td>42.0</td>\n",
       "      <td>45.0</td>\n",
       "      <td>M</td>\n",
       "      <td>0.05</td>\n",
       "      <td>0.0</td>\n",
       "      <td>0.0</td>\n",
       "      <td>2023</td>\n",
       "      <td>12</td>\n",
       "      <td>29</td>\n",
       "      <td>0.05</td>\n",
       "      <td>0.0</td>\n",
       "      <td>0.0</td>\n",
       "      <td>45.0</td>\n",
       "      <td>47.0</td>\n",
       "      <td>42.0</td>\n",
       "      <td>2023.0</td>\n",
       "      <td>12.0</td>\n",
       "      <td>29.0</td>\n",
       "    </tr>\n",
       "    <tr>\n",
       "      <th>29583</th>\n",
       "      <td>2023-12-30</td>\n",
       "      <td>46.0</td>\n",
       "      <td>35.0</td>\n",
       "      <td>44.0</td>\n",
       "      <td>M</td>\n",
       "      <td>0.01</td>\n",
       "      <td>0.0</td>\n",
       "      <td>0.0</td>\n",
       "      <td>2023</td>\n",
       "      <td>12</td>\n",
       "      <td>30</td>\n",
       "      <td>0.01</td>\n",
       "      <td>0.0</td>\n",
       "      <td>0.0</td>\n",
       "      <td>44.0</td>\n",
       "      <td>46.0</td>\n",
       "      <td>35.0</td>\n",
       "      <td>2023.0</td>\n",
       "      <td>12.0</td>\n",
       "      <td>30.0</td>\n",
       "    </tr>\n",
       "    <tr>\n",
       "      <th>29584</th>\n",
       "      <td>2023-12-31</td>\n",
       "      <td>39.0</td>\n",
       "      <td>35.0</td>\n",
       "      <td>37.0</td>\n",
       "      <td>M</td>\n",
       "      <td>0.00</td>\n",
       "      <td>0.0</td>\n",
       "      <td>0.0</td>\n",
       "      <td>2023</td>\n",
       "      <td>12</td>\n",
       "      <td>31</td>\n",
       "      <td>0.00</td>\n",
       "      <td>0.0</td>\n",
       "      <td>0.0</td>\n",
       "      <td>37.0</td>\n",
       "      <td>39.0</td>\n",
       "      <td>35.0</td>\n",
       "      <td>2023.0</td>\n",
       "      <td>12.0</td>\n",
       "      <td>31.0</td>\n",
       "    </tr>\n",
       "  </tbody>\n",
       "</table>\n",
       "<p>365 rows × 20 columns</p>\n",
       "</div>"
      ],
      "text/plain": [
       "             date  maxtemperature  mintemperature  avgtemperature  \\\n",
       "29220  2023-01-01            51.0            33.0            47.0   \n",
       "29221  2023-01-02            47.0            28.0            37.0   \n",
       "29222  2023-01-03            40.0            29.0            35.0   \n",
       "29223  2023-01-04            47.0            39.0            41.0   \n",
       "29224  2023-01-05            46.0            39.0            44.0   \n",
       "...           ...             ...             ...             ...   \n",
       "29580  2023-12-27            46.0            40.0            42.0   \n",
       "29581  2023-12-28            49.0            44.0            46.0   \n",
       "29582  2023-12-29            47.0            42.0            45.0   \n",
       "29583  2023-12-30            46.0            35.0            44.0   \n",
       "29584  2023-12-31            39.0            35.0            37.0   \n",
       "\n",
       "      atobstemperature  precipitation  snowfall  snowdepth  year_x  month_x  \\\n",
       "29220                M           0.03       0.0        0.0    2023        1   \n",
       "29221                M           0.00       0.0        0.0    2023        1   \n",
       "29222                M           0.42       0.0        0.0    2023        1   \n",
       "29223                M           0.26       0.0        0.0    2023        1   \n",
       "29224                M           0.03       0.0        0.0    2023        1   \n",
       "...                ...            ...       ...        ...     ...      ...   \n",
       "29580                M           0.13       0.0        0.0    2023       12   \n",
       "29581                M           1.70       0.0        0.0    2023       12   \n",
       "29582                M           0.05       0.0        0.0    2023       12   \n",
       "29583                M           0.01       0.0        0.0    2023       12   \n",
       "29584                M           0.00       0.0        0.0    2023       12   \n",
       "\n",
       "       day_x  prcp  snow  snwd  tavg  tmax  tmin  year_y  month_y  day_y  \n",
       "29220      1  0.03   0.0   0.0  47.0  51.0  33.0  2023.0      1.0    1.0  \n",
       "29221      2  0.00   0.0   0.0  37.0  47.0  28.0  2023.0      1.0    2.0  \n",
       "29222      3  0.42   0.0   0.0  35.0  40.0  29.0  2023.0      1.0    3.0  \n",
       "29223      4  0.26   0.0   0.0  41.0  47.0  39.0  2023.0      1.0    4.0  \n",
       "29224      5  0.03   0.0   0.0  44.0  46.0  39.0  2023.0      1.0    5.0  \n",
       "...      ...   ...   ...   ...   ...   ...   ...     ...      ...    ...  \n",
       "29580     27  0.13   0.0   0.0  42.0  46.0  40.0  2023.0     12.0   27.0  \n",
       "29581     28  1.70   0.0   0.0  46.0  49.0  44.0  2023.0     12.0   28.0  \n",
       "29582     29  0.05   0.0   0.0  45.0  47.0  42.0  2023.0     12.0   29.0  \n",
       "29583     30  0.01   0.0   0.0  44.0  46.0  35.0  2023.0     12.0   30.0  \n",
       "29584     31  0.00   0.0   0.0  37.0  39.0  35.0  2023.0     12.0   31.0  \n",
       "\n",
       "[365 rows x 20 columns]"
      ]
     },
     "execution_count": 335,
     "metadata": {},
     "output_type": "execute_result"
    }
   ],
   "source": [
    "df2[df2['date']>= '2023-01-01']"
   ]
  },
  {
   "cell_type": "markdown",
   "id": "8b847614",
   "metadata": {},
   "source": [
    "___"
   ]
  },
  {
   "cell_type": "markdown",
   "id": "54f5a914",
   "metadata": {},
   "source": [
    "# Need to make sure I have all the data"
   ]
  },
  {
   "cell_type": "code",
   "execution_count": 336,
   "id": "60e754da",
   "metadata": {},
   "outputs": [],
   "source": [
    "leap_years = []\n",
    "for i in range(1944,2024,4):\n",
    "    leap_years.append(i)"
   ]
  },
  {
   "cell_type": "code",
   "execution_count": 337,
   "id": "492d527c",
   "metadata": {},
   "outputs": [],
   "source": [
    "non_leap_years = []\n",
    "for i in range(1943,2024):\n",
    "    if i not in leap_years:\n",
    "        non_leap_years.append(i)"
   ]
  },
  {
   "cell_type": "code",
   "execution_count": 338,
   "id": "8fc00df1",
   "metadata": {},
   "outputs": [
    {
     "name": "stdout",
     "output_type": "stream",
     "text": [
      "1944 (366, 20)\n",
      "1948 (366, 20)\n",
      "1952 (366, 20)\n",
      "1956 (366, 20)\n",
      "1960 (366, 20)\n",
      "1964 (366, 20)\n",
      "1968 (366, 20)\n",
      "1972 (366, 20)\n",
      "1976 (366, 20)\n",
      "1980 (366, 20)\n",
      "1984 (366, 20)\n",
      "1988 (366, 20)\n",
      "1992 (366, 20)\n",
      "1996 (366, 20)\n",
      "2000 (366, 20)\n",
      "2004 (366, 20)\n",
      "2008 (366, 20)\n",
      "2012 (366, 20)\n",
      "2016 (366, 20)\n",
      "2020 (366, 20)\n"
     ]
    }
   ],
   "source": [
    "for year in leap_years:\n",
    "    print(year,df2[df2['year_x'] == year].shape)"
   ]
  },
  {
   "cell_type": "code",
   "execution_count": 339,
   "id": "ec123af5",
   "metadata": {},
   "outputs": [],
   "source": [
    "for year in non_leap_years:\n",
    "    if len(df2[df2['year_x'] == year]) != 365:\n",
    "        print(year,df2[df2['year_x'] == year].shape)"
   ]
  },
  {
   "cell_type": "markdown",
   "id": "03f0ea91",
   "metadata": {},
   "source": [
    "# End"
   ]
  },
  {
   "cell_type": "markdown",
   "id": "843700bc",
   "metadata": {},
   "source": [
    "___"
   ]
  },
  {
   "cell_type": "code",
   "execution_count": 340,
   "id": "523b238c",
   "metadata": {},
   "outputs": [],
   "source": [
    "df2 = df2.drop(['year_y', 'month_y', 'day_y'], axis = 1)"
   ]
  },
  {
   "cell_type": "code",
   "execution_count": 341,
   "id": "0a3cac92",
   "metadata": {},
   "outputs": [],
   "source": [
    "df2 = df2.rename(columns = {'year_x':'year','month_x':'month','day_x':'day'})"
   ]
  },
  {
   "cell_type": "markdown",
   "id": "881550e3",
   "metadata": {},
   "source": [
    "# Fill in data:\n",
    "## If it's 5/6/7/8 or 9 and precpitation is 0 then make snow and snowfall 0"
   ]
  },
  {
   "cell_type": "code",
   "execution_count": 342,
   "id": "e38dceac",
   "metadata": {},
   "outputs": [],
   "source": [
    "# avgtemperature, tavg"
   ]
  },
  {
   "cell_type": "code",
   "execution_count": 343,
   "id": "d8851bc0",
   "metadata": {},
   "outputs": [],
   "source": [
    "# df2.loc[(df2['date']== '2010-01-01'), 'snwd'] = 0.0\n",
    "# df2.loc[(df2['date']== '2010-01-01'), 'snowdepth'] = 0.0"
   ]
  },
  {
   "cell_type": "code",
   "execution_count": 344,
   "id": "0eea4715",
   "metadata": {},
   "outputs": [
    {
     "name": "stdout",
     "output_type": "stream",
     "text": [
      "(4458, 17)\n",
      "(4417, 17)\n"
     ]
    }
   ],
   "source": [
    "print(df2[df2['snow'].isna()].shape)\n",
    "print(df2[df2['snowfall'].isna()].shape)"
   ]
  },
  {
   "cell_type": "code",
   "execution_count": 345,
   "id": "6505aea7",
   "metadata": {},
   "outputs": [],
   "source": [
    "df2.loc[(df2['month'].isin([5,6,7,8,9])) & (df2['prcp'] == 0.0) | (df2['precipitation'] == 0.0) , 'snow'] = 0.0\n",
    "df2.loc[(df2['month'].isin([5,6,7,8,9])) & (df2['prcp'] == 0.0) | (df2['precipitation'] == 0.0) , 'snowfall'] = 0.0"
   ]
  },
  {
   "cell_type": "code",
   "execution_count": 346,
   "id": "3103cc15",
   "metadata": {},
   "outputs": [
    {
     "name": "stdout",
     "output_type": "stream",
     "text": [
      "(3175, 17)\n",
      "(3151, 17)\n"
     ]
    }
   ],
   "source": [
    "print(df2[df2['snow'].isna()].shape)\n",
    "print(df2[df2['snowfall'].isna()].shape)"
   ]
  },
  {
   "cell_type": "markdown",
   "id": "ce482fdc",
   "metadata": {},
   "source": [
    "# Fill in data:\n",
    "## If it's 4/5/6/7/8 or 9 and snowfall is 0 and avg temp is >= 42.0 then make snowdepth 0"
   ]
  },
  {
   "cell_type": "code",
   "execution_count": 347,
   "id": "0c25cf3b",
   "metadata": {},
   "outputs": [
    {
     "name": "stdout",
     "output_type": "stream",
     "text": [
      "(7203, 17)\n",
      "(5966, 17)\n"
     ]
    }
   ],
   "source": [
    "print(df2[df2['snwd'].isna()].shape)\n",
    "print(df2[df2['snowdepth'].isna()].shape)"
   ]
  },
  {
   "cell_type": "code",
   "execution_count": 348,
   "id": "ef2cb2d4",
   "metadata": {},
   "outputs": [],
   "source": [
    "df2.loc[(df2['month'].isin([4,5,6,7,8,9])) & \n",
    "        (df2['snow'] == 0.0) | (df2['snowfall'] == 0.0) & \n",
    "        (df2['avgtemperature'] >= 42.0) | (df2['tavg'] >= 42.0), 'snwd'] = 0.0"
   ]
  },
  {
   "cell_type": "code",
   "execution_count": 349,
   "id": "5257fbcf",
   "metadata": {},
   "outputs": [],
   "source": [
    "df2.loc[(df2['month'].isin([4,5,6,7,8,9])) & \n",
    "        (df2['snow'] == 0.0) | (df2['snowfall'] == 0.0) & \n",
    "        (df2['avgtemperature'] >= 42.0) | (df2['tavg'] >= 42.0), 'snowdepth'] = 0.0"
   ]
  },
  {
   "cell_type": "code",
   "execution_count": 350,
   "id": "fb619f86",
   "metadata": {},
   "outputs": [
    {
     "name": "stdout",
     "output_type": "stream",
     "text": [
      "(3749, 17)\n",
      "(3078, 17)\n"
     ]
    }
   ],
   "source": [
    "print(df2[df2['snwd'].isna()].shape)\n",
    "print(df2[df2['snowdepth'].isna()].shape)"
   ]
  },
  {
   "cell_type": "code",
   "execution_count": 351,
   "id": "307b62ee",
   "metadata": {},
   "outputs": [],
   "source": [
    "# Fill in data\n",
    "## If it's April 20 to April 30 and min temp >= 45 and snowfall is 0 then make snowdepth 0"
   ]
  },
  {
   "cell_type": "markdown",
   "id": "9561fb81",
   "metadata": {},
   "source": [
    "# 2020s\n",
    "### Overall could use either because there isn't any missing but NOAA is better\n",
    "* Drop Cornell's avgtemperature\n",
    "    * Cornell's avgtemperature is must the average of max and min so don't use that because NOAAs is over the entire day\n",
    "* Drop Cornell's atobstemperature\n",
    "    * All 'M'\n",
    "* Drop Cornell's precipitation\n",
    "    * I filled in T (trace) so not 100% accurate\n",
    "* Drop Cornell's snowfall\n",
    "    * I filled in T (trace) so not 100% accurate\n",
    "* Drop Cornell's snowdepth\n",
    "    * I filled in T (trace) so not 100% accurate"
   ]
  },
  {
   "cell_type": "code",
   "execution_count": 352,
   "id": "f148c115",
   "metadata": {},
   "outputs": [],
   "source": [
    "df2_2020s = df2[df2['date']>= '2020-01-01'].copy()"
   ]
  },
  {
   "cell_type": "code",
   "execution_count": 353,
   "id": "2b7ade15",
   "metadata": {},
   "outputs": [],
   "source": [
    "def same_val(a, b):\n",
    "    if float(a) == float(b):\n",
    "        return 1\n",
    "    else:\n",
    "        return 0"
   ]
  },
  {
   "cell_type": "code",
   "execution_count": 354,
   "id": "78436adf",
   "metadata": {},
   "outputs": [
    {
     "name": "stdout",
     "output_type": "stream",
     "text": [
      "1.0\n"
     ]
    }
   ],
   "source": [
    "df2_2020s['max_temp_same'] = df2_2020s[['maxtemperature','tmax']].apply(lambda x: same_val(*x), axis = 1)\n",
    "print(df2_2020s.max_temp_same.sum()/len(df2_2020s))"
   ]
  },
  {
   "cell_type": "code",
   "execution_count": 355,
   "id": "949f5424",
   "metadata": {},
   "outputs": [
    {
     "name": "stdout",
     "output_type": "stream",
     "text": [
      "1.0\n"
     ]
    }
   ],
   "source": [
    "df2_2020s['min_temp_same'] = df2_2020s[['mintemperature','tmin']].apply(lambda x: same_val(*x), axis = 1)\n",
    "print(df2_2020s.min_temp_same.sum()/len(df2_2020s))"
   ]
  },
  {
   "cell_type": "code",
   "execution_count": 356,
   "id": "a8df8677",
   "metadata": {},
   "outputs": [
    {
     "name": "stdout",
     "output_type": "stream",
     "text": [
      "0.3278576317590691\n"
     ]
    }
   ],
   "source": [
    "df2_2020s['avg_temp_same'] = df2_2020s[['avgtemperature','tavg']].apply(lambda x: same_val(*x), axis = 1)\n",
    "print(df2_2020s.avg_temp_same.sum()/len(df2_2020s))"
   ]
  },
  {
   "cell_type": "code",
   "execution_count": 357,
   "id": "e2720e50",
   "metadata": {},
   "outputs": [
    {
     "data": {
      "text/plain": [
       "(0, 20)"
      ]
     },
     "execution_count": 357,
     "metadata": {},
     "output_type": "execute_result"
    }
   ],
   "source": [
    "# Cornell's avgtemperature is must the average of max and min so don't use that because NOAAs is over the entire day\n",
    "df2_2020s[df2_2020s['tavg'].isna()].shape"
   ]
  },
  {
   "cell_type": "code",
   "execution_count": 358,
   "id": "9e74914a",
   "metadata": {},
   "outputs": [
    {
     "data": {
      "text/plain": [
       "1.0"
      ]
     },
     "execution_count": 358,
     "metadata": {},
     "output_type": "execute_result"
    }
   ],
   "source": [
    "len(df2_2020s[df2_2020s['atobstemperature']=='M'])/len(df2_2020s)"
   ]
  },
  {
   "cell_type": "code",
   "execution_count": 359,
   "id": "b1f5f3ec",
   "metadata": {},
   "outputs": [
    {
     "name": "stdout",
     "output_type": "stream",
     "text": [
      "0.8966461327857632\n"
     ]
    }
   ],
   "source": [
    "df2_2020s['prcp_same'] = df2_2020s[['precipitation','prcp']].apply(lambda x: same_val(*x), axis = 1)\n",
    "print(df2_2020s.prcp_same.sum()/len(df2_2020s))"
   ]
  },
  {
   "cell_type": "code",
   "execution_count": 360,
   "id": "eca5b689",
   "metadata": {},
   "outputs": [
    {
     "name": "stdout",
     "output_type": "stream",
     "text": [
      "0.9568788501026694\n"
     ]
    }
   ],
   "source": [
    "df2_2020s['snow_same'] = df2_2020s[['snowfall','snow']].apply(lambda x: same_val(*x), axis = 1)\n",
    "print(df2_2020s.snow_same.sum()/len(df2_2020s))"
   ]
  },
  {
   "cell_type": "code",
   "execution_count": 361,
   "id": "3d597fd6",
   "metadata": {},
   "outputs": [
    {
     "name": "stdout",
     "output_type": "stream",
     "text": [
      "0.9541409993155373\n"
     ]
    }
   ],
   "source": [
    "df2_2020s['snow_depth_same'] = df2_2020s[['snowdepth','snwd']].apply(lambda x: same_val(*x), axis = 1)\n",
    "print(df2_2020s.snow_depth_same.sum()/len(df2_2020s))"
   ]
  },
  {
   "cell_type": "code",
   "execution_count": 362,
   "id": "7c17ec01",
   "metadata": {},
   "outputs": [
    {
     "data": {
      "text/plain": [
       "Index(['date', 'maxtemperature', 'mintemperature', 'avgtemperature',\n",
       "       'atobstemperature', 'precipitation', 'snowfall', 'snowdepth', 'year',\n",
       "       'month', 'day', 'prcp', 'snow', 'snwd', 'tavg', 'tmax', 'tmin',\n",
       "       'max_temp_same', 'min_temp_same', 'avg_temp_same', 'prcp_same',\n",
       "       'snow_same', 'snow_depth_same'],\n",
       "      dtype='object')"
      ]
     },
     "execution_count": 362,
     "metadata": {},
     "output_type": "execute_result"
    }
   ],
   "source": [
    "df2_2020s.columns"
   ]
  },
  {
   "cell_type": "markdown",
   "id": "e220c91e",
   "metadata": {},
   "source": [
    "# End 2020s"
   ]
  },
  {
   "cell_type": "markdown",
   "id": "f377afaf",
   "metadata": {},
   "source": [
    "___"
   ]
  },
  {
   "cell_type": "markdown",
   "id": "74d83c3d",
   "metadata": {},
   "source": [
    "# Breaking the rest up into decades is too much work so instead focus on the missing data"
   ]
  },
  {
   "cell_type": "markdown",
   "id": "34b557f2",
   "metadata": {},
   "source": [
    "# 2010s\n",
    "* avgtemperature/tavg\n",
    "    * Drop Cornell's avgtemperature\n",
    "        * Cornell's avgtemperature is must the average of max and min so don't use that because NOAAs is over the entire day\n",
    "    * Use NOAA's\n",
    "* maxtemperature/tmax\n",
    "    * Can use either\n",
    "* mintemperature/tmin\n",
    "    * Can use either\n",
    "* precipitation/prcp\n",
    "    * Use NOAAs because it's probably more accurate\n",
    "* snowfall/snow\n",
    "    * Use NOAAs because it's probably more accurate\n",
    "* snowdepth/snwd\n",
    "* atobstemperature\n",
    "    * Drop: All missing"
   ]
  },
  {
   "cell_type": "markdown",
   "id": "50fb8d6b",
   "metadata": {},
   "source": []
  },
  {
   "cell_type": "code",
   "execution_count": 363,
   "id": "fceb067b",
   "metadata": {},
   "outputs": [],
   "source": [
    "df2_2010s = df2[(df2['date']>= '2010-01-01') & (df2['date']< '2020-01-01')].copy()"
   ]
  },
  {
   "cell_type": "code",
   "execution_count": 364,
   "id": "87752930",
   "metadata": {},
   "outputs": [
    {
     "name": "stdout",
     "output_type": "stream",
     "text": [
      "1.0\n"
     ]
    }
   ],
   "source": [
    "df2_2010s['max_temp_same'] = df2_2010s[['maxtemperature','tmax']].apply(lambda x: same_val(*x), axis = 1)\n",
    "print(df2_2010s.max_temp_same.sum()/len(df2_2010s))"
   ]
  },
  {
   "cell_type": "code",
   "execution_count": 365,
   "id": "9ec2f9dc",
   "metadata": {},
   "outputs": [
    {
     "name": "stdout",
     "output_type": "stream",
     "text": [
      "1.0\n"
     ]
    }
   ],
   "source": [
    "df2_2010s['min_temp_same'] = df2_2010s[['mintemperature','tmin']].apply(lambda x: same_val(*x), axis = 1)\n",
    "print(df2_2010s.min_temp_same.sum()/len(df2_2010s))"
   ]
  },
  {
   "cell_type": "code",
   "execution_count": 366,
   "id": "b7de5b13",
   "metadata": {},
   "outputs": [
    {
     "name": "stdout",
     "output_type": "stream",
     "text": [
      "0.07064622124863089\n"
     ]
    }
   ],
   "source": [
    "df2_2010s['avg_temp_same'] = df2_2010s[['avgtemperature','tavg']].apply(lambda x: same_val(*x), axis = 1)\n",
    "print(df2_2010s.avg_temp_same.sum()/len(df2_2010s))"
   ]
  },
  {
   "cell_type": "code",
   "execution_count": 367,
   "id": "ff94c5bf",
   "metadata": {},
   "outputs": [
    {
     "name": "stdout",
     "output_type": "stream",
     "text": [
      "0.8682913472070098\n"
     ]
    }
   ],
   "source": [
    "df2_2010s['prcp_same'] = df2_2010s[['precipitation','prcp']].apply(lambda x: same_val(*x), axis = 1)\n",
    "print(df2_2010s.prcp_same.sum()/len(df2_2010s))"
   ]
  },
  {
   "cell_type": "code",
   "execution_count": 368,
   "id": "3f9e68a2",
   "metadata": {},
   "outputs": [
    {
     "name": "stdout",
     "output_type": "stream",
     "text": [
      "(0, 21)\n",
      "(0, 21)\n",
      "(0, 21)\n",
      "(0, 21)\n"
     ]
    }
   ],
   "source": [
    "print(df2_2010s[df2_2010s['precipitation'].isna()].shape)\n",
    "print(df2_2010s[df2_2010s['precipitation']=='M'].shape)\n",
    "print(df2_2010s[df2_2010s['prcp'].isna()].shape)\n",
    "print(df2_2010s[df2_2010s['prcp']=='M'].shape)"
   ]
  },
  {
   "cell_type": "code",
   "execution_count": 369,
   "id": "8d1176fa",
   "metadata": {},
   "outputs": [
    {
     "name": "stdout",
     "output_type": "stream",
     "text": [
      "0.9422234392113911\n"
     ]
    }
   ],
   "source": [
    "df2_2010s['snow_same'] = df2_2010s[['snowfall','snow']].apply(lambda x: same_val(*x), axis = 1)\n",
    "print(df2_2010s.snow_same.sum()/len(df2_2010s))"
   ]
  },
  {
   "cell_type": "code",
   "execution_count": 370,
   "id": "636b4698",
   "metadata": {},
   "outputs": [
    {
     "name": "stdout",
     "output_type": "stream",
     "text": [
      "(0, 22)\n",
      "(0, 22)\n",
      "(0, 22)\n",
      "(0, 22)\n"
     ]
    }
   ],
   "source": [
    "print(df2_2010s[df2_2010s['snowfall'].isna()].shape)\n",
    "print(df2_2010s[df2_2010s['snowfall']=='M'].shape)\n",
    "print(df2_2010s[df2_2010s['snow'].isna()].shape)\n",
    "print(df2_2010s[df2_2010s['snow']=='M'].shape)"
   ]
  },
  {
   "cell_type": "code",
   "execution_count": 371,
   "id": "571a9473",
   "metadata": {},
   "outputs": [
    {
     "name": "stdout",
     "output_type": "stream",
     "text": [
      "(0, 22)\n",
      "1.0\n"
     ]
    }
   ],
   "source": [
    "print(df2_2010s[df2_2010s['atobstemperature'].isna()].shape)\n",
    "print(len(df2_2010s[df2_2010s['atobstemperature']=='M'])/len(df2_2010s))"
   ]
  },
  {
   "cell_type": "markdown",
   "id": "b9c56c61",
   "metadata": {},
   "source": [
    "# 2010s Missing snowdepth/snwd\n",
    "* Use this site to get acurate info:\n",
    "    * https://weatherspark.com/h/d/147224/2010/1/1/Historical-Weather-on-Friday-January-1-2010-at-Bradley-International-Airport-Connecticut-United-States#Figures-Temperature"
   ]
  },
  {
   "cell_type": "code",
   "execution_count": 372,
   "id": "70485d52",
   "metadata": {},
   "outputs": [],
   "source": [
    "# ### Based on analyes below\n",
    "# df_cornell.loc[(df_cornell['month'].isin([5,6,7,8,9])) & (df_cornell['snowfall'] == '0.0'), 'snowdepth'] = 0.0\n",
    "# df.loc[(df['month'].isin([5,6,7,8,9])) & (df['snow'] == 0.0), 'snwd'] = 0.0\n",
    "\n",
    "# df2.loc[(df2['date']== '2010-01-01'), 'snwd'] = 0.0\n",
    "# df2.loc[(df2['date']== '2010-01-01'), 'snowdepth'] = 0.0\n",
    "# df2.loc[(df2['date']== '2010-01-02'), 'snwd'] = 0.0\n",
    "# df2.loc[(df2['date']== '2010-01-02'), 'snowdepth'] = 0.0\n",
    "# df2.loc[(df2['date']== '2010-01-03'), 'snwd'] = 0.0\n",
    "# df2.loc[(df2['date']== '2010-01-03'), 'snowdepth'] = 0.0\n",
    "# df2.loc[(df2['date']== '2010-01-04'), 'snwd'] = 0.0\n",
    "# df2.loc[(df2['date']== '2010-01-04'), 'snowdepth'] = 0.0\n",
    "# df2.loc[(df2['date']== '2010-01-05'), 'snwd'] = 0.0\n",
    "# df2.loc[(df2['date']== '2010-01-05'), 'snowdepth'] = 0.0\n",
    "# df2.loc[(df2['date']== '2010-01-06'), 'snwd'] = 0.0\n",
    "# df2.loc[(df2['date']== '2010-01-06'), 'snowdepth'] = 0.0\n",
    "# df2.loc[(df2['date']== '2010-01-07'), 'snwd'] = 0.0\n",
    "# df2.loc[(df2['date']== '2010-01-07'), 'snowdepth'] = 0.0\n",
    "# df2.loc[(df2['date']== '2010-01-08'), 'snwd'] = 0.0\n",
    "# df2.loc[(df2['date']== '2010-01-08'), 'snowdepth'] = 0.0\n",
    "# df2.loc[(df2['date']== '2010-01-09'), 'snwd'] = 0.0\n",
    "# df2.loc[(df2['date']== '2010-01-09'), 'snowdepth'] = 0.0\n",
    "# df2.loc[(df2['date']== '2010-01-10'), 'snwd'] = 0.0\n",
    "# df2.loc[(df2['date']== '2010-01-10'), 'snowdepth'] = 0.0\n",
    "# df2.loc[(df2['date']== '2010-01-11'), 'snwd'] = 0.0\n",
    "# df2.loc[(df2['date']== '2010-01-11'), 'snowdepth'] = 0.0\n",
    "# df2.loc[(df2['date']== '2010-01-11'), 'snwd'] = 0.0\n",
    "# df2.loc[(df2['date']== '2010-01-11'), 'snowdepth'] = 0.0\n",
    "# df2.loc[(df2['date']== '2010-01-12'), 'snwd'] = 0.0\n",
    "# df2.loc[(df2['date']== '2010-01-12'), 'snowdepth'] = 0.0\n",
    "# df2.loc[(df2['date']== '2010-01-13'), 'snwd'] = 0.0\n",
    "# df2.loc[(df2['date']== '2010-01-13'), 'snowdepth'] = 0.0\n",
    "# df2.loc[(df2['date']== '2010-01-13'), 'snwd'] = 0.0\n",
    "# df2.loc[(df2['date']== '2010-01-13'), 'snowdepth'] = 0.0\n",
    "# df2.loc[(df2['date']== '2010-01-15'), 'snwd'] = 0.0\n",
    "# df2.loc[(df2['date']== '2010-01-15'), 'snowdepth'] = 0.0\n",
    "# df2.loc[(df2['date']== '2010-01-17'), 'snwd'] = 0.01\n",
    "# df2.loc[(df2['date']== '2010-01-17'), 'snowdepth'] = 0.01\n",
    "# df2.loc[(df2['date']== '2010-01-19'), 'snwd'] = 0.0\n",
    "# df2.loc[(df2['date']== '2010-01-19'), 'snowdepth'] = 0.0\n",
    "# df2.loc[(df2['date']== '2010-01-20'), 'snwd'] = 0.0\n",
    "# df2.loc[(df2['date']== '2010-01-20'), 'snowdepth'] = 0.0\n",
    "# df2.loc[(df2['date']== '2010-01-21'), 'snwd'] = 0.0\n",
    "# df2.loc[(df2['date']== '2010-01-21'), 'snowdepth'] = 0.0\n",
    "# df2.loc[(df2['date']== '2010-01-22'), 'snwd'] = 0.0\n",
    "# df2.loc[(df2['date']== '2010-01-22'), 'snowdepth'] = 0.0\n",
    "# df2.loc[(df2['date']== '2010-01-23'), 'snwd'] = 0.0\n",
    "# df2.loc[(df2['date']== '2010-01-23'), 'snowdepth'] = 0.0\n",
    "# df2.loc[(df2['date']== '2010-01-24'), 'snwd'] = 0.0\n",
    "# df2.loc[(df2['date']== '2010-01-24'), 'snowdepth'] = 0.0\n",
    "# df2.loc[(df2['date']== '2010-01-29'), 'snwd'] = 4.7\n",
    "# df2.loc[(df2['date']== '2010-01-29'), 'snowdepth'] = 4.7\n",
    "# df2.loc[(df2['date']== '2010-01-30'), 'snwd'] = 4.7\n",
    "# df2.loc[(df2['date']== '2010-01-30'), 'snowdepth'] = 4.7\n",
    "# df2.loc[(df2['date']== '2010-01-31'), 'snwd'] = 4.7\n",
    "# df2.loc[(df2['date']== '2010-01-31'), 'snowdepth'] = 4.7\n",
    "# df2.loc[(df2['date']== '2010-02-01'), 'snwd'] = 4.7\n",
    "# df2.loc[(df2['date']== '2010-02-01'), 'snowdepth'] = 4.7\n",
    "# df2.loc[(df2['date']== '2010-02-02'), 'snwd'] = 4.0\n",
    "# df2.loc[(df2['date']== '2010-02-02'), 'snowdepth'] = 4.0\n",
    "# df2.loc[(df2['date']== '2010-02-03'), 'snwd'] = 4.0\n",
    "# df2.loc[(df2['date']== '2010-02-03'), 'snowdepth'] = 4.0\n",
    "# df2.loc[(df2['date']== '2010-02-04'), 'snwd'] = 4.0\n",
    "# df2.loc[(df2['date']== '2010-02-04'), 'snowdepth'] = 4.0\n",
    "# df2.loc[(df2['date']== '2010-02-05'), 'snwd'] = 3.0\n",
    "# df2.loc[(df2['date']== '2010-02-05'), 'snowdepth'] = 3.0\n",
    "# df2.loc[(df2['date']== '2010-02-06'), 'snwd'] = 3.0\n",
    "# df2.loc[(df2['date']== '2010-02-06'), 'snowdepth'] = 3.0\n",
    "# df2.loc[(df2['date']== '2010-02-07'), 'snwd'] = 2.0\n",
    "# df2.loc[(df2['date']== '2010-02-07'), 'snowdepth'] = 2.0\n",
    "# df2.loc[(df2['date']== '2010-02-08'), 'snwd'] = 0.0\n",
    "# df2.loc[(df2['date']== '2010-02-09'), 'snwd'] = 0.0\n",
    "# df2.loc[(df2['date']== '2010-02-09'), 'snowdepth'] = 0.0\n",
    "# df2.loc[(df2['date']== '2010-02-10'), 'snwd'] = 0.0\n",
    "# df2.loc[(df2['date']== '2010-02-10'), 'snowdepth'] = 0.0\n",
    "# df2.loc[(df2['date']== '2010-02-11'), 'snwd'] = 0.0\n",
    "# df2.loc[(df2['date']== '2010-02-12'), 'snwd'] = 0.0\n",
    "# df2.loc[(df2['date']== '2010-02-13'), 'snwd'] = 0.0\n",
    "# df2.loc[(df2['date']== '2010-02-14'), 'snwd'] = 0.0\n",
    "# df2.loc[(df2['date']== '2010-02-15'), 'snwd'] = 0.0\n",
    "# df2.loc[(df2['date']== '2010-02-15'), 'snowdepth'] = 0.0\n",
    "# df2.loc[(df2['date']== '2010-02-16'), 'snwd'] = 4.0\n",
    "# df2.loc[(df2['date']== '2010-02-16'), 'snowdepth'] = 4.0\n",
    "# df2.loc[(df2['date']== '2010-02-17'), 'snwd'] = 4.0\n",
    "# df2.loc[(df2['date']== '2010-02-17'), 'snowdepth'] = 4.0\n",
    "# df2.loc[(df2['date']== '2010-02-18'), 'snwd'] = 0.0\n",
    "# df2.loc[(df2['date']== '2010-02-18'), 'snowdepth'] = 0.0\n",
    "# df2.loc[(df2['date']== '2010-02-19'), 'snwd'] = 0.0\n",
    "# df2.loc[(df2['date']== '2010-02-19'), 'snowdepth'] = 0.0\n",
    "# df2.loc[(df2['date']== '2010-02-20'), 'snwd'] = 0.0\n",
    "# df2.loc[(df2['date']== '2010-02-20'), 'snowdepth'] = 0.0\n",
    "# df2.loc[(df2['date']== '2010-02-21'), 'snwd'] = 0.0\n",
    "# df2.loc[(df2['date']== '2010-02-21'), 'snowdepth'] = 0.0\n",
    "# df2.loc[(df2['date']== '2010-02-23'), 'snwd'] = 0.3\n",
    "# df2.loc[(df2['date']== '2010-02-23'), 'snowdepth'] = 0.3\n",
    "# df2.loc[(df2['date']== '2010-02-24'), 'snwd'] = 2.6\n",
    "# df2.loc[(df2['date']== '2010-02-24'), 'snowdepth'] = 2.6\n",
    "# df2.loc[(df2['date']== '2010-02-25'), 'snwd'] = 0.0\n",
    "# df2.loc[(df2['date']== '2010-02-25'), 'snowdepth'] = 0.0\n",
    "# df2.loc[(df2['date']== '2010-02-26'), 'snwd'] = 0.6\n",
    "# df2.loc[(df2['date']== '2010-02-26'), 'snowdepth'] = 0.6\n",
    "# df2.loc[(df2['date']== '2010-02-27'), 'snwd'] = 0.6\n",
    "# df2.loc[(df2['date']== '2010-02-27'), 'snowdepth'] = 0.6\n",
    "# df2.loc[(df2['date']== '2010-02-28'), 'snwd'] = 0.1\n",
    "# df2.loc[(df2['date']== '2010-02-28'), 'snowdepth'] = 0.1\n",
    "# df2.loc[(df2['date']== '2010-03-01'), 'snwd'] = 0.0\n",
    "# df2.loc[(df2['date']== '2010-03-01'), 'snowdepth'] = 0.0\n",
    "# df2.loc[(df2['date']== '2010-03-02'), 'snwd'] = 0.0\n",
    "# df2.loc[(df2['date']== '2010-03-03'), 'snwd'] = 0.0\n",
    "# df2.loc[(df2['date']== '2010-03-04'), 'snwd'] = 0.0\n",
    "# df2.loc[(df2['date']== '2010-03-05'), 'snwd'] = 0.0\n",
    "# df2.loc[(df2['date']== '2010-03-06'), 'snwd'] = 0.0\n",
    "# df2.loc[(df2['date']== '2010-03-06'), 'snowdepth'] = 0.0\n",
    "# df2.loc[(df2['date']== '2010-03-15'), 'snwd'] = 0.0\n",
    "# df2.loc[(df2['date']== '2010-03-15'), 'snowdepth'] = 0.0"
   ]
  },
  {
   "cell_type": "code",
   "execution_count": 377,
   "id": "5c040ba3",
   "metadata": {},
   "outputs": [
    {
     "data": {
      "text/html": [
       "<div>\n",
       "<style scoped>\n",
       "    .dataframe tbody tr th:only-of-type {\n",
       "        vertical-align: middle;\n",
       "    }\n",
       "\n",
       "    .dataframe tbody tr th {\n",
       "        vertical-align: top;\n",
       "    }\n",
       "\n",
       "    .dataframe thead th {\n",
       "        text-align: right;\n",
       "    }\n",
       "</style>\n",
       "<table border=\"1\" class=\"dataframe\">\n",
       "  <thead>\n",
       "    <tr style=\"text-align: right;\">\n",
       "      <th></th>\n",
       "      <th>date</th>\n",
       "      <th>maxtemperature</th>\n",
       "      <th>mintemperature</th>\n",
       "      <th>avgtemperature</th>\n",
       "      <th>atobstemperature</th>\n",
       "      <th>precipitation</th>\n",
       "      <th>snowfall</th>\n",
       "      <th>snowdepth</th>\n",
       "      <th>year</th>\n",
       "      <th>month</th>\n",
       "      <th>...</th>\n",
       "      <th>snow</th>\n",
       "      <th>snwd</th>\n",
       "      <th>tavg</th>\n",
       "      <th>tmax</th>\n",
       "      <th>tmin</th>\n",
       "      <th>max_temp_same</th>\n",
       "      <th>min_temp_same</th>\n",
       "      <th>avg_temp_same</th>\n",
       "      <th>prcp_same</th>\n",
       "      <th>snow_same</th>\n",
       "    </tr>\n",
       "  </thead>\n",
       "  <tbody>\n",
       "    <tr>\n",
       "      <th>24815</th>\n",
       "      <td>2010-12-10</td>\n",
       "      <td>25.0</td>\n",
       "      <td>6.0</td>\n",
       "      <td>15.5</td>\n",
       "      <td>M</td>\n",
       "      <td>0.009</td>\n",
       "      <td>0.09</td>\n",
       "      <td>0.00</td>\n",
       "      <td>2010</td>\n",
       "      <td>12</td>\n",
       "      <td>...</td>\n",
       "      <td>0.0</td>\n",
       "      <td>NaN</td>\n",
       "      <td>NaN</td>\n",
       "      <td>25.0</td>\n",
       "      <td>6.0</td>\n",
       "      <td>1</td>\n",
       "      <td>1</td>\n",
       "      <td>0</td>\n",
       "      <td>0</td>\n",
       "      <td>0</td>\n",
       "    </tr>\n",
       "    <tr>\n",
       "      <th>24816</th>\n",
       "      <td>2010-12-11</td>\n",
       "      <td>42.0</td>\n",
       "      <td>16.0</td>\n",
       "      <td>29.0</td>\n",
       "      <td>M</td>\n",
       "      <td>0.000</td>\n",
       "      <td>0.00</td>\n",
       "      <td>0.00</td>\n",
       "      <td>2010</td>\n",
       "      <td>12</td>\n",
       "      <td>...</td>\n",
       "      <td>0.0</td>\n",
       "      <td>NaN</td>\n",
       "      <td>NaN</td>\n",
       "      <td>42.0</td>\n",
       "      <td>16.0</td>\n",
       "      <td>1</td>\n",
       "      <td>1</td>\n",
       "      <td>0</td>\n",
       "      <td>1</td>\n",
       "      <td>1</td>\n",
       "    </tr>\n",
       "    <tr>\n",
       "      <th>24817</th>\n",
       "      <td>2010-12-12</td>\n",
       "      <td>56.0</td>\n",
       "      <td>22.0</td>\n",
       "      <td>39.0</td>\n",
       "      <td>M</td>\n",
       "      <td>3.340</td>\n",
       "      <td>0.00</td>\n",
       "      <td>0.00</td>\n",
       "      <td>2010</td>\n",
       "      <td>12</td>\n",
       "      <td>...</td>\n",
       "      <td>0.0</td>\n",
       "      <td>NaN</td>\n",
       "      <td>NaN</td>\n",
       "      <td>56.0</td>\n",
       "      <td>22.0</td>\n",
       "      <td>1</td>\n",
       "      <td>1</td>\n",
       "      <td>0</td>\n",
       "      <td>1</td>\n",
       "      <td>1</td>\n",
       "    </tr>\n",
       "    <tr>\n",
       "      <th>24818</th>\n",
       "      <td>2010-12-13</td>\n",
       "      <td>50.0</td>\n",
       "      <td>24.0</td>\n",
       "      <td>37.0</td>\n",
       "      <td>M</td>\n",
       "      <td>0.130</td>\n",
       "      <td>0.30</td>\n",
       "      <td>0.09</td>\n",
       "      <td>2010</td>\n",
       "      <td>12</td>\n",
       "      <td>...</td>\n",
       "      <td>0.3</td>\n",
       "      <td>NaN</td>\n",
       "      <td>NaN</td>\n",
       "      <td>50.0</td>\n",
       "      <td>24.0</td>\n",
       "      <td>1</td>\n",
       "      <td>1</td>\n",
       "      <td>0</td>\n",
       "      <td>1</td>\n",
       "      <td>1</td>\n",
       "    </tr>\n",
       "    <tr>\n",
       "      <th>24819</th>\n",
       "      <td>2010-12-14</td>\n",
       "      <td>24.0</td>\n",
       "      <td>14.0</td>\n",
       "      <td>19.0</td>\n",
       "      <td>M</td>\n",
       "      <td>0.009</td>\n",
       "      <td>0.09</td>\n",
       "      <td>0.00</td>\n",
       "      <td>2010</td>\n",
       "      <td>12</td>\n",
       "      <td>...</td>\n",
       "      <td>0.0</td>\n",
       "      <td>NaN</td>\n",
       "      <td>NaN</td>\n",
       "      <td>24.0</td>\n",
       "      <td>14.0</td>\n",
       "      <td>1</td>\n",
       "      <td>1</td>\n",
       "      <td>0</td>\n",
       "      <td>0</td>\n",
       "      <td>0</td>\n",
       "    </tr>\n",
       "    <tr>\n",
       "      <th>24820</th>\n",
       "      <td>2010-12-15</td>\n",
       "      <td>23.0</td>\n",
       "      <td>11.0</td>\n",
       "      <td>17.0</td>\n",
       "      <td>M</td>\n",
       "      <td>0.000</td>\n",
       "      <td>0.00</td>\n",
       "      <td>0.00</td>\n",
       "      <td>2010</td>\n",
       "      <td>12</td>\n",
       "      <td>...</td>\n",
       "      <td>0.0</td>\n",
       "      <td>NaN</td>\n",
       "      <td>NaN</td>\n",
       "      <td>23.0</td>\n",
       "      <td>11.0</td>\n",
       "      <td>1</td>\n",
       "      <td>1</td>\n",
       "      <td>0</td>\n",
       "      <td>1</td>\n",
       "      <td>1</td>\n",
       "    </tr>\n",
       "    <tr>\n",
       "      <th>24821</th>\n",
       "      <td>2010-12-16</td>\n",
       "      <td>34.0</td>\n",
       "      <td>14.0</td>\n",
       "      <td>24.0</td>\n",
       "      <td>M</td>\n",
       "      <td>0.009</td>\n",
       "      <td>0.09</td>\n",
       "      <td>0.00</td>\n",
       "      <td>2010</td>\n",
       "      <td>12</td>\n",
       "      <td>...</td>\n",
       "      <td>0.0</td>\n",
       "      <td>NaN</td>\n",
       "      <td>NaN</td>\n",
       "      <td>34.0</td>\n",
       "      <td>14.0</td>\n",
       "      <td>1</td>\n",
       "      <td>1</td>\n",
       "      <td>0</td>\n",
       "      <td>0</td>\n",
       "      <td>0</td>\n",
       "    </tr>\n",
       "    <tr>\n",
       "      <th>24822</th>\n",
       "      <td>2010-12-17</td>\n",
       "      <td>34.0</td>\n",
       "      <td>10.0</td>\n",
       "      <td>22.0</td>\n",
       "      <td>M</td>\n",
       "      <td>0.000</td>\n",
       "      <td>0.00</td>\n",
       "      <td>0.00</td>\n",
       "      <td>2010</td>\n",
       "      <td>12</td>\n",
       "      <td>...</td>\n",
       "      <td>0.0</td>\n",
       "      <td>NaN</td>\n",
       "      <td>NaN</td>\n",
       "      <td>34.0</td>\n",
       "      <td>10.0</td>\n",
       "      <td>1</td>\n",
       "      <td>1</td>\n",
       "      <td>0</td>\n",
       "      <td>1</td>\n",
       "      <td>1</td>\n",
       "    </tr>\n",
       "    <tr>\n",
       "      <th>24823</th>\n",
       "      <td>2010-12-18</td>\n",
       "      <td>38.0</td>\n",
       "      <td>22.0</td>\n",
       "      <td>30.0</td>\n",
       "      <td>M</td>\n",
       "      <td>0.000</td>\n",
       "      <td>0.00</td>\n",
       "      <td>0.00</td>\n",
       "      <td>2010</td>\n",
       "      <td>12</td>\n",
       "      <td>...</td>\n",
       "      <td>0.0</td>\n",
       "      <td>NaN</td>\n",
       "      <td>NaN</td>\n",
       "      <td>38.0</td>\n",
       "      <td>22.0</td>\n",
       "      <td>1</td>\n",
       "      <td>1</td>\n",
       "      <td>0</td>\n",
       "      <td>1</td>\n",
       "      <td>1</td>\n",
       "    </tr>\n",
       "    <tr>\n",
       "      <th>24824</th>\n",
       "      <td>2010-12-19</td>\n",
       "      <td>34.0</td>\n",
       "      <td>19.0</td>\n",
       "      <td>26.5</td>\n",
       "      <td>M</td>\n",
       "      <td>0.000</td>\n",
       "      <td>0.00</td>\n",
       "      <td>0.00</td>\n",
       "      <td>2010</td>\n",
       "      <td>12</td>\n",
       "      <td>...</td>\n",
       "      <td>0.0</td>\n",
       "      <td>NaN</td>\n",
       "      <td>NaN</td>\n",
       "      <td>34.0</td>\n",
       "      <td>19.0</td>\n",
       "      <td>1</td>\n",
       "      <td>1</td>\n",
       "      <td>0</td>\n",
       "      <td>1</td>\n",
       "      <td>1</td>\n",
       "    </tr>\n",
       "    <tr>\n",
       "      <th>24825</th>\n",
       "      <td>2010-12-20</td>\n",
       "      <td>33.0</td>\n",
       "      <td>19.0</td>\n",
       "      <td>26.0</td>\n",
       "      <td>M</td>\n",
       "      <td>0.000</td>\n",
       "      <td>0.00</td>\n",
       "      <td>0.00</td>\n",
       "      <td>2010</td>\n",
       "      <td>12</td>\n",
       "      <td>...</td>\n",
       "      <td>0.0</td>\n",
       "      <td>NaN</td>\n",
       "      <td>NaN</td>\n",
       "      <td>33.0</td>\n",
       "      <td>19.0</td>\n",
       "      <td>1</td>\n",
       "      <td>1</td>\n",
       "      <td>0</td>\n",
       "      <td>1</td>\n",
       "      <td>1</td>\n",
       "    </tr>\n",
       "    <tr>\n",
       "      <th>24826</th>\n",
       "      <td>2010-12-21</td>\n",
       "      <td>38.0</td>\n",
       "      <td>27.0</td>\n",
       "      <td>32.5</td>\n",
       "      <td>M</td>\n",
       "      <td>0.000</td>\n",
       "      <td>0.00</td>\n",
       "      <td>0.00</td>\n",
       "      <td>2010</td>\n",
       "      <td>12</td>\n",
       "      <td>...</td>\n",
       "      <td>0.0</td>\n",
       "      <td>NaN</td>\n",
       "      <td>NaN</td>\n",
       "      <td>38.0</td>\n",
       "      <td>27.0</td>\n",
       "      <td>1</td>\n",
       "      <td>1</td>\n",
       "      <td>0</td>\n",
       "      <td>1</td>\n",
       "      <td>1</td>\n",
       "    </tr>\n",
       "    <tr>\n",
       "      <th>24827</th>\n",
       "      <td>2010-12-22</td>\n",
       "      <td>40.0</td>\n",
       "      <td>27.0</td>\n",
       "      <td>33.5</td>\n",
       "      <td>M</td>\n",
       "      <td>0.009</td>\n",
       "      <td>0.09</td>\n",
       "      <td>NaN</td>\n",
       "      <td>2010</td>\n",
       "      <td>12</td>\n",
       "      <td>...</td>\n",
       "      <td>0.0</td>\n",
       "      <td>NaN</td>\n",
       "      <td>NaN</td>\n",
       "      <td>40.0</td>\n",
       "      <td>27.0</td>\n",
       "      <td>1</td>\n",
       "      <td>1</td>\n",
       "      <td>0</td>\n",
       "      <td>0</td>\n",
       "      <td>0</td>\n",
       "    </tr>\n",
       "    <tr>\n",
       "      <th>24828</th>\n",
       "      <td>2010-12-23</td>\n",
       "      <td>35.0</td>\n",
       "      <td>28.0</td>\n",
       "      <td>31.5</td>\n",
       "      <td>M</td>\n",
       "      <td>0.009</td>\n",
       "      <td>0.09</td>\n",
       "      <td>NaN</td>\n",
       "      <td>2010</td>\n",
       "      <td>12</td>\n",
       "      <td>...</td>\n",
       "      <td>0.0</td>\n",
       "      <td>NaN</td>\n",
       "      <td>NaN</td>\n",
       "      <td>35.0</td>\n",
       "      <td>28.0</td>\n",
       "      <td>1</td>\n",
       "      <td>1</td>\n",
       "      <td>0</td>\n",
       "      <td>0</td>\n",
       "      <td>0</td>\n",
       "    </tr>\n",
       "    <tr>\n",
       "      <th>24829</th>\n",
       "      <td>2010-12-24</td>\n",
       "      <td>38.0</td>\n",
       "      <td>21.0</td>\n",
       "      <td>29.5</td>\n",
       "      <td>M</td>\n",
       "      <td>0.000</td>\n",
       "      <td>0.00</td>\n",
       "      <td>NaN</td>\n",
       "      <td>2010</td>\n",
       "      <td>12</td>\n",
       "      <td>...</td>\n",
       "      <td>0.0</td>\n",
       "      <td>NaN</td>\n",
       "      <td>NaN</td>\n",
       "      <td>38.0</td>\n",
       "      <td>21.0</td>\n",
       "      <td>1</td>\n",
       "      <td>1</td>\n",
       "      <td>0</td>\n",
       "      <td>1</td>\n",
       "      <td>1</td>\n",
       "    </tr>\n",
       "    <tr>\n",
       "      <th>24830</th>\n",
       "      <td>2010-12-25</td>\n",
       "      <td>30.0</td>\n",
       "      <td>17.0</td>\n",
       "      <td>23.5</td>\n",
       "      <td>M</td>\n",
       "      <td>0.000</td>\n",
       "      <td>0.00</td>\n",
       "      <td>NaN</td>\n",
       "      <td>2010</td>\n",
       "      <td>12</td>\n",
       "      <td>...</td>\n",
       "      <td>0.0</td>\n",
       "      <td>NaN</td>\n",
       "      <td>NaN</td>\n",
       "      <td>30.0</td>\n",
       "      <td>17.0</td>\n",
       "      <td>1</td>\n",
       "      <td>1</td>\n",
       "      <td>0</td>\n",
       "      <td>1</td>\n",
       "      <td>1</td>\n",
       "    </tr>\n",
       "    <tr>\n",
       "      <th>24831</th>\n",
       "      <td>2010-12-26</td>\n",
       "      <td>26.0</td>\n",
       "      <td>21.0</td>\n",
       "      <td>23.5</td>\n",
       "      <td>M</td>\n",
       "      <td>0.550</td>\n",
       "      <td>6.90</td>\n",
       "      <td>NaN</td>\n",
       "      <td>2010</td>\n",
       "      <td>12</td>\n",
       "      <td>...</td>\n",
       "      <td>6.9</td>\n",
       "      <td>NaN</td>\n",
       "      <td>NaN</td>\n",
       "      <td>26.0</td>\n",
       "      <td>21.0</td>\n",
       "      <td>1</td>\n",
       "      <td>1</td>\n",
       "      <td>0</td>\n",
       "      <td>1</td>\n",
       "      <td>1</td>\n",
       "    </tr>\n",
       "    <tr>\n",
       "      <th>24832</th>\n",
       "      <td>2010-12-27</td>\n",
       "      <td>28.0</td>\n",
       "      <td>18.0</td>\n",
       "      <td>23.0</td>\n",
       "      <td>M</td>\n",
       "      <td>0.700</td>\n",
       "      <td>7.00</td>\n",
       "      <td>0.00</td>\n",
       "      <td>2010</td>\n",
       "      <td>12</td>\n",
       "      <td>...</td>\n",
       "      <td>7.0</td>\n",
       "      <td>NaN</td>\n",
       "      <td>NaN</td>\n",
       "      <td>28.0</td>\n",
       "      <td>18.0</td>\n",
       "      <td>1</td>\n",
       "      <td>1</td>\n",
       "      <td>0</td>\n",
       "      <td>1</td>\n",
       "      <td>1</td>\n",
       "    </tr>\n",
       "    <tr>\n",
       "      <th>24833</th>\n",
       "      <td>2010-12-28</td>\n",
       "      <td>35.0</td>\n",
       "      <td>16.0</td>\n",
       "      <td>25.5</td>\n",
       "      <td>M</td>\n",
       "      <td>0.000</td>\n",
       "      <td>0.00</td>\n",
       "      <td>0.00</td>\n",
       "      <td>2010</td>\n",
       "      <td>12</td>\n",
       "      <td>...</td>\n",
       "      <td>0.0</td>\n",
       "      <td>NaN</td>\n",
       "      <td>NaN</td>\n",
       "      <td>35.0</td>\n",
       "      <td>16.0</td>\n",
       "      <td>1</td>\n",
       "      <td>1</td>\n",
       "      <td>0</td>\n",
       "      <td>1</td>\n",
       "      <td>1</td>\n",
       "    </tr>\n",
       "    <tr>\n",
       "      <th>24834</th>\n",
       "      <td>2010-12-29</td>\n",
       "      <td>36.0</td>\n",
       "      <td>25.0</td>\n",
       "      <td>30.5</td>\n",
       "      <td>M</td>\n",
       "      <td>0.000</td>\n",
       "      <td>0.00</td>\n",
       "      <td>0.00</td>\n",
       "      <td>2010</td>\n",
       "      <td>12</td>\n",
       "      <td>...</td>\n",
       "      <td>0.0</td>\n",
       "      <td>NaN</td>\n",
       "      <td>NaN</td>\n",
       "      <td>36.0</td>\n",
       "      <td>25.0</td>\n",
       "      <td>1</td>\n",
       "      <td>1</td>\n",
       "      <td>0</td>\n",
       "      <td>1</td>\n",
       "      <td>1</td>\n",
       "    </tr>\n",
       "    <tr>\n",
       "      <th>24835</th>\n",
       "      <td>2010-12-30</td>\n",
       "      <td>40.0</td>\n",
       "      <td>17.0</td>\n",
       "      <td>28.5</td>\n",
       "      <td>M</td>\n",
       "      <td>0.000</td>\n",
       "      <td>0.00</td>\n",
       "      <td>0.00</td>\n",
       "      <td>2010</td>\n",
       "      <td>12</td>\n",
       "      <td>...</td>\n",
       "      <td>0.0</td>\n",
       "      <td>NaN</td>\n",
       "      <td>NaN</td>\n",
       "      <td>40.0</td>\n",
       "      <td>17.0</td>\n",
       "      <td>1</td>\n",
       "      <td>1</td>\n",
       "      <td>0</td>\n",
       "      <td>1</td>\n",
       "      <td>1</td>\n",
       "    </tr>\n",
       "    <tr>\n",
       "      <th>24836</th>\n",
       "      <td>2010-12-31</td>\n",
       "      <td>45.0</td>\n",
       "      <td>20.0</td>\n",
       "      <td>32.5</td>\n",
       "      <td>M</td>\n",
       "      <td>0.000</td>\n",
       "      <td>0.00</td>\n",
       "      <td>NaN</td>\n",
       "      <td>2010</td>\n",
       "      <td>12</td>\n",
       "      <td>...</td>\n",
       "      <td>0.0</td>\n",
       "      <td>NaN</td>\n",
       "      <td>NaN</td>\n",
       "      <td>45.0</td>\n",
       "      <td>20.0</td>\n",
       "      <td>1</td>\n",
       "      <td>1</td>\n",
       "      <td>0</td>\n",
       "      <td>1</td>\n",
       "      <td>1</td>\n",
       "    </tr>\n",
       "  </tbody>\n",
       "</table>\n",
       "<p>22 rows × 22 columns</p>\n",
       "</div>"
      ],
      "text/plain": [
       "             date  maxtemperature  mintemperature  avgtemperature  \\\n",
       "24815  2010-12-10            25.0             6.0            15.5   \n",
       "24816  2010-12-11            42.0            16.0            29.0   \n",
       "24817  2010-12-12            56.0            22.0            39.0   \n",
       "24818  2010-12-13            50.0            24.0            37.0   \n",
       "24819  2010-12-14            24.0            14.0            19.0   \n",
       "24820  2010-12-15            23.0            11.0            17.0   \n",
       "24821  2010-12-16            34.0            14.0            24.0   \n",
       "24822  2010-12-17            34.0            10.0            22.0   \n",
       "24823  2010-12-18            38.0            22.0            30.0   \n",
       "24824  2010-12-19            34.0            19.0            26.5   \n",
       "24825  2010-12-20            33.0            19.0            26.0   \n",
       "24826  2010-12-21            38.0            27.0            32.5   \n",
       "24827  2010-12-22            40.0            27.0            33.5   \n",
       "24828  2010-12-23            35.0            28.0            31.5   \n",
       "24829  2010-12-24            38.0            21.0            29.5   \n",
       "24830  2010-12-25            30.0            17.0            23.5   \n",
       "24831  2010-12-26            26.0            21.0            23.5   \n",
       "24832  2010-12-27            28.0            18.0            23.0   \n",
       "24833  2010-12-28            35.0            16.0            25.5   \n",
       "24834  2010-12-29            36.0            25.0            30.5   \n",
       "24835  2010-12-30            40.0            17.0            28.5   \n",
       "24836  2010-12-31            45.0            20.0            32.5   \n",
       "\n",
       "      atobstemperature  precipitation  snowfall  snowdepth  year  month  ...  \\\n",
       "24815                M          0.009      0.09       0.00  2010     12  ...   \n",
       "24816                M          0.000      0.00       0.00  2010     12  ...   \n",
       "24817                M          3.340      0.00       0.00  2010     12  ...   \n",
       "24818                M          0.130      0.30       0.09  2010     12  ...   \n",
       "24819                M          0.009      0.09       0.00  2010     12  ...   \n",
       "24820                M          0.000      0.00       0.00  2010     12  ...   \n",
       "24821                M          0.009      0.09       0.00  2010     12  ...   \n",
       "24822                M          0.000      0.00       0.00  2010     12  ...   \n",
       "24823                M          0.000      0.00       0.00  2010     12  ...   \n",
       "24824                M          0.000      0.00       0.00  2010     12  ...   \n",
       "24825                M          0.000      0.00       0.00  2010     12  ...   \n",
       "24826                M          0.000      0.00       0.00  2010     12  ...   \n",
       "24827                M          0.009      0.09        NaN  2010     12  ...   \n",
       "24828                M          0.009      0.09        NaN  2010     12  ...   \n",
       "24829                M          0.000      0.00        NaN  2010     12  ...   \n",
       "24830                M          0.000      0.00        NaN  2010     12  ...   \n",
       "24831                M          0.550      6.90        NaN  2010     12  ...   \n",
       "24832                M          0.700      7.00       0.00  2010     12  ...   \n",
       "24833                M          0.000      0.00       0.00  2010     12  ...   \n",
       "24834                M          0.000      0.00       0.00  2010     12  ...   \n",
       "24835                M          0.000      0.00       0.00  2010     12  ...   \n",
       "24836                M          0.000      0.00        NaN  2010     12  ...   \n",
       "\n",
       "       snow  snwd  tavg  tmax  tmin  max_temp_same  min_temp_same  \\\n",
       "24815   0.0   NaN   NaN  25.0   6.0              1              1   \n",
       "24816   0.0   NaN   NaN  42.0  16.0              1              1   \n",
       "24817   0.0   NaN   NaN  56.0  22.0              1              1   \n",
       "24818   0.3   NaN   NaN  50.0  24.0              1              1   \n",
       "24819   0.0   NaN   NaN  24.0  14.0              1              1   \n",
       "24820   0.0   NaN   NaN  23.0  11.0              1              1   \n",
       "24821   0.0   NaN   NaN  34.0  14.0              1              1   \n",
       "24822   0.0   NaN   NaN  34.0  10.0              1              1   \n",
       "24823   0.0   NaN   NaN  38.0  22.0              1              1   \n",
       "24824   0.0   NaN   NaN  34.0  19.0              1              1   \n",
       "24825   0.0   NaN   NaN  33.0  19.0              1              1   \n",
       "24826   0.0   NaN   NaN  38.0  27.0              1              1   \n",
       "24827   0.0   NaN   NaN  40.0  27.0              1              1   \n",
       "24828   0.0   NaN   NaN  35.0  28.0              1              1   \n",
       "24829   0.0   NaN   NaN  38.0  21.0              1              1   \n",
       "24830   0.0   NaN   NaN  30.0  17.0              1              1   \n",
       "24831   6.9   NaN   NaN  26.0  21.0              1              1   \n",
       "24832   7.0   NaN   NaN  28.0  18.0              1              1   \n",
       "24833   0.0   NaN   NaN  35.0  16.0              1              1   \n",
       "24834   0.0   NaN   NaN  36.0  25.0              1              1   \n",
       "24835   0.0   NaN   NaN  40.0  17.0              1              1   \n",
       "24836   0.0   NaN   NaN  45.0  20.0              1              1   \n",
       "\n",
       "       avg_temp_same  prcp_same  snow_same  \n",
       "24815              0          0          0  \n",
       "24816              0          1          1  \n",
       "24817              0          1          1  \n",
       "24818              0          1          1  \n",
       "24819              0          0          0  \n",
       "24820              0          1          1  \n",
       "24821              0          0          0  \n",
       "24822              0          1          1  \n",
       "24823              0          1          1  \n",
       "24824              0          1          1  \n",
       "24825              0          1          1  \n",
       "24826              0          1          1  \n",
       "24827              0          0          0  \n",
       "24828              0          0          0  \n",
       "24829              0          1          1  \n",
       "24830              0          1          1  \n",
       "24831              0          1          1  \n",
       "24832              0          1          1  \n",
       "24833              0          1          1  \n",
       "24834              0          1          1  \n",
       "24835              0          1          1  \n",
       "24836              0          1          1  \n",
       "\n",
       "[22 rows x 22 columns]"
      ]
     },
     "execution_count": 377,
     "metadata": {},
     "output_type": "execute_result"
    }
   ],
   "source": [
    "df2_2010s[(df2_2010s['date']>='2010-12-10')&(df2_2010s['date']<='2010-12-31')]"
   ]
  },
  {
   "cell_type": "code",
   "execution_count": null,
   "id": "d45bbc71",
   "metadata": {},
   "outputs": [],
   "source": []
  },
  {
   "cell_type": "code",
   "execution_count": null,
   "id": "ed258fd4",
   "metadata": {},
   "outputs": [],
   "source": []
  },
  {
   "cell_type": "code",
   "execution_count": null,
   "id": "48954391",
   "metadata": {},
   "outputs": [],
   "source": []
  },
  {
   "cell_type": "code",
   "execution_count": null,
   "id": "3f4b64ab",
   "metadata": {},
   "outputs": [],
   "source": []
  },
  {
   "cell_type": "code",
   "execution_count": null,
   "id": "a38cb586",
   "metadata": {},
   "outputs": [],
   "source": []
  },
  {
   "cell_type": "code",
   "execution_count": null,
   "id": "dcc61305",
   "metadata": {},
   "outputs": [],
   "source": []
  },
  {
   "cell_type": "markdown",
   "id": "fe352f5b",
   "metadata": {},
   "source": [
    "# 1940s"
   ]
  },
  {
   "cell_type": "code",
   "execution_count": 101,
   "id": "63534f96",
   "metadata": {},
   "outputs": [],
   "source": [
    "df_40s_dates = ['1940-01-01','1941-01-01','1942-01-01','1943-01-01','1944-01-01','1945-01-01',\n",
    "               '1946-01-01','1947-01-01','1948-01-01','1949-01-01','1950-01-01']"
   ]
  },
  {
   "cell_type": "code",
   "execution_count": 102,
   "id": "b2126514",
   "metadata": {},
   "outputs": [
    {
     "name": "stdout",
     "output_type": "stream",
     "text": [
      "1940-01-01\n",
      "1941-01-01\n",
      "1942-01-01\n",
      "1943-01-01\n",
      "prcp percent na:  1.0\n",
      "snow percent na:  1.0\n",
      "snwd percent na:  1.0\n",
      "tmax percent na:  1.0\n",
      "tmin percent na:  1.0\n",
      "1944-01-01\n",
      "prcp percent na:  1.0\n",
      "snow percent na:  1.0\n",
      "snwd percent na:  1.0\n",
      "tmax percent na:  1.0\n",
      "tmin percent na:  1.0\n",
      "1945-01-01\n",
      "prcp percent na:  1.0\n",
      "snow percent na:  1.0\n",
      "snwd percent na:  1.0\n",
      "tmax percent na:  1.0\n",
      "tmin percent na:  1.0\n",
      "1946-01-01\n",
      "1947-01-01\n",
      "1948-01-01\n",
      "1949-01-01\n",
      "tavg percent na:  1.0\n",
      "tmax percent na:  0.0027397260273972603\n"
     ]
    },
    {
     "name": "stderr",
     "output_type": "stream",
     "text": [
      "C:\\Users\\mpica\\AppData\\Local\\Temp/ipykernel_13284/387063338.py:6: RuntimeWarning: invalid value encountered in longlong_scalars\n",
      "  if df_40s[col].isna().sum()/len(df_40s) > 0:\n"
     ]
    }
   ],
   "source": [
    "for start, end in zip(df_40s_dates[0:-1],df_40s_dates[1:]):\n",
    "    df_40s = df[(df['date'] >= start) & (df['date'] < end)].copy()\n",
    "    print(start)\n",
    "    for col in df_40s.columns:\n",
    "        try:\n",
    "            if df_40s[col].isna().sum()/len(df_40s) > 0:\n",
    "                print(col,'percent na: ',df_40s[col].isna().sum()/len(df_40s))\n",
    "        except:\n",
    "            continue"
   ]
  },
  {
   "cell_type": "markdown",
   "id": "b61f7cf5",
   "metadata": {},
   "source": [
    "# NOAA\n",
    "* Dropped Data for 1940 to 1942\n",
    "* No data for 1946, 1947, 1948,\n",
    "* 1943:\n",
    "    * prcp percent na:  1.0\n",
    "    * snow percent na:  1.0\n",
    "    * snwd percent na:  1.0\n",
    "    * tmax percent na:  1.0\n",
    "    * tmin percent na:  1.0\n",
    "* 1944\n",
    "    * prcp percent na:  1.0\n",
    "    * snow percent na:  1.0\n",
    "    * snwd percent na:  1.0\n",
    "    * tmax percent na:  1.0\n",
    "    * tmin percent na:  1.0\n",
    "* 1945\n",
    "    * prcp percent na:  1.0\n",
    "    * snow percent na:  1.0\n",
    "    * snwd percent na:  1.0\n",
    "    * tmax percent na:  1.0\n",
    "    * tmin percent na:  1.0\n",
    "* 1949\n",
    "    * tavg percent na:  1.0\n",
    "    * tmax percent na:  0.0027397260273972603"
   ]
  },
  {
   "cell_type": "code",
   "execution_count": 103,
   "id": "15562a90",
   "metadata": {},
   "outputs": [
    {
     "name": "stdout",
     "output_type": "stream",
     "text": [
      "1940-01-01\n",
      "1941-01-01\n",
      "1942-01-01\n",
      "1943-01-01\n",
      "1944-01-01\n",
      "1945-01-01\n",
      "1946-01-01\n",
      "1947-01-01\n",
      "1948-01-01\n",
      "1949-01-01\n"
     ]
    },
    {
     "name": "stderr",
     "output_type": "stream",
     "text": [
      "C:\\Users\\mpica\\AppData\\Local\\Temp/ipykernel_13284/324951126.py:6: RuntimeWarning: invalid value encountered in longlong_scalars\n",
      "  if df_40s[col].isna().sum()/len(df_40s) > 0:\n"
     ]
    }
   ],
   "source": [
    "for start, end in zip(df_40s_dates[0:-1],df_40s_dates[1:]):\n",
    "    df_40s = df_cornell[(df_cornell['date'] >= start) & (df_cornell['date'] < end)].copy()\n",
    "    print(start)\n",
    "    for col in df_40s.columns:\n",
    "        try:\n",
    "            if df_40s[col].isna().sum()/len(df_40s) > 0:\n",
    "                print(col,'percent na: ',df_40s[col].isna().sum()/len(df_40s))\n",
    "        except:\n",
    "            continue"
   ]
  },
  {
   "cell_type": "code",
   "execution_count": 104,
   "id": "adad2238",
   "metadata": {},
   "outputs": [
    {
     "name": "stdout",
     "output_type": "stream",
     "text": [
      "1940-01-01\n",
      "1941-01-01\n",
      "1942-01-01\n",
      "1943-01-01\n",
      "maxtemperature percent bad: 100.0\n",
      "mintemperature percent bad: 100.0\n",
      "avgtemperature percent bad: 100.0\n",
      "atobstemperature percent bad: 100.0\n",
      "precipitation percent bad: 100.0\n",
      "snowfall percent bad: 100.0\n",
      "snowdepth percent bad: 100.0\n",
      "1944-01-01\n",
      "maxtemperature percent bad: 100.0\n",
      "mintemperature percent bad: 100.0\n",
      "avgtemperature percent bad: 100.0\n",
      "atobstemperature percent bad: 100.0\n",
      "precipitation percent bad: 100.0\n",
      "snowfall percent bad: 100.0\n",
      "snowdepth percent bad: 100.0\n",
      "1945-01-01\n",
      "maxtemperature percent bad: 100.0\n",
      "mintemperature percent bad: 100.0\n",
      "avgtemperature percent bad: 100.0\n",
      "atobstemperature percent bad: 100.0\n",
      "precipitation percent bad: 100.0\n",
      "snowfall percent bad: 100.0\n",
      "snowdepth percent bad: 100.0\n",
      "1946-01-01\n",
      "maxtemperature percent bad: 100.0\n",
      "mintemperature percent bad: 100.0\n",
      "avgtemperature percent bad: 100.0\n",
      "atobstemperature percent bad: 100.0\n",
      "precipitation percent bad: 100.0\n",
      "snowfall percent bad: 100.0\n",
      "snowdepth percent bad: 100.0\n",
      "1947-01-01\n",
      "maxtemperature percent bad: 100.0\n",
      "mintemperature percent bad: 100.0\n",
      "avgtemperature percent bad: 100.0\n",
      "atobstemperature percent bad: 100.0\n",
      "precipitation percent bad: 100.0\n",
      "snowfall percent bad: 100.0\n",
      "snowdepth percent bad: 100.0\n",
      "1948-01-01\n",
      "maxtemperature percent bad: 100.0\n",
      "mintemperature percent bad: 100.0\n",
      "avgtemperature percent bad: 100.0\n",
      "atobstemperature percent bad: 100.0\n",
      "precipitation percent bad: 100.0\n",
      "snowfall percent bad: 100.0\n",
      "snowdepth percent bad: 100.0\n",
      "1949-01-01\n",
      "maxtemperature percent bad: 0.8219\n",
      "mintemperature percent bad: 0.5479\n",
      "avgtemperature percent bad: 1.3699\n",
      "atobstemperature percent bad: 100.0\n",
      "precipitation percent bad: 16.4384\n",
      "snowfall percent bad: 5.7534\n",
      "snowdepth percent bad: 2.4658\n"
     ]
    }
   ],
   "source": [
    "bad_chars = [' S',' M',' T',' A','S','M','T','A']\n",
    "for start, end in zip(df_40s_dates[0:-1],df_40s_dates[1:]):\n",
    "    print(start)\n",
    "    df_40s_cornell = df_cornell[(df_cornell['date'] >= start) & (df_cornell['date'] < end)].copy()\n",
    "    for col in df_40s_cornell.columns:\n",
    "        count = 0\n",
    "        for val in df_40s_cornell[col].to_numpy():\n",
    "            try:\n",
    "                val = val.upper()\n",
    "            except:\n",
    "                continue\n",
    "            if any(x in bad_chars for x in val):\n",
    "                count += 1\n",
    "        if count > 0:\n",
    "            print(col,'percent bad:', round(count/len(df_40s_cornell)*100,4))\n",
    "    del df_40s_cornell"
   ]
  },
  {
   "cell_type": "markdown",
   "id": "874c80c6",
   "metadata": {},
   "source": [
    "# Cornell\n",
    "* Dropped Data for 1940 to 1942\n",
    "* 1943\n",
    "    * maxtemperature percent bad: 100.0\n",
    "    * mintemperature percent bad: 100.0\n",
    "    * avgtemperature percent bad: 100.0\n",
    "    * atobstemperature percent bad: 100.0\n",
    "    * precipitation percent bad: 100.0\n",
    "    * snowfall percent bad: 100.0\n",
    "    * snowdepth percent bad: 100.0\n",
    "* 1944\n",
    "    * maxtemperature percent bad: 100.0\n",
    "    * mintemperature percent bad: 100.0\n",
    "    * avgtemperature percent bad: 100.0\n",
    "    * atobstemperature percent bad: 100.0\n",
    "    * precipitation percent bad: 100.0\n",
    "    * snowfall percent bad: 100.0\n",
    "    * snowdepth percent bad: 100.0\n",
    "* 1945\n",
    "    * maxtemperature percent bad: 100.0\n",
    "    * mintemperature percent bad: 100.0\n",
    "    * avgtemperature percent bad: 100.0\n",
    "    * atobstemperature percent bad: 100.0\n",
    "    * precipitation percent bad: 100.0\n",
    "    * snowfall percent bad: 100.0\n",
    "    * snowdepth percent bad: 100.0\n",
    "* 1946\n",
    "    * maxtemperature percent bad: 100.0\n",
    "    * mintemperature percent bad: 100.0\n",
    "    * avgtemperature percent bad: 100.0\n",
    "    * atobstemperature percent bad: 100.0\n",
    "    * precipitation percent bad: 100.0\n",
    "    * snowfall percent bad: 100.0\n",
    "    * snowdepth percent bad: 100.0\n",
    "* 1947\n",
    "    * maxtemperature percent bad: 100.0\n",
    "    * mintemperature percent bad: 100.0\n",
    "    * avgtemperature percent bad: 100.0\n",
    "    * atobstemperature percent bad: 100.0\n",
    "    * precipitation percent bad: 100.0\n",
    "    * snowfall percent bad: 100.0\n",
    "    * snowdepth percent bad: 100.0\n",
    "* 1948\n",
    "    * maxtemperature percent bad: 100.0\n",
    "    * mintemperature percent bad: 100.0\n",
    "    * avgtemperature percent bad: 100.0\n",
    "    * atobstemperature percent bad: 100.0\n",
    "    * precipitation percent bad: 100.0\n",
    "    * snowfall percent bad: 100.0\n",
    "    * snowdepth percent bad: 100.0\n",
    "* 1949\n",
    "    * maxtemperature percent bad: 0.8219\n",
    "    * mintemperature percent bad: 0.5479\n",
    "    * avgtemperature percent bad: 1.3699\n",
    "    * atobstemperature percent bad: 100.0\n",
    "    * precipitation percent bad: 16.4384\n",
    "    * snowfall percent bad: 5.7534\n",
    "    * snowdepth percent bad: 2.4658"
   ]
  },
  {
   "cell_type": "code",
   "execution_count": 105,
   "id": "149d288f",
   "metadata": {},
   "outputs": [
    {
     "data": {
      "text/html": [
       "<div>\n",
       "<style scoped>\n",
       "    .dataframe tbody tr th:only-of-type {\n",
       "        vertical-align: middle;\n",
       "    }\n",
       "\n",
       "    .dataframe tbody tr th {\n",
       "        vertical-align: top;\n",
       "    }\n",
       "\n",
       "    .dataframe thead th {\n",
       "        text-align: right;\n",
       "    }\n",
       "</style>\n",
       "<table border=\"1\" class=\"dataframe\">\n",
       "  <thead>\n",
       "    <tr style=\"text-align: right;\">\n",
       "      <th></th>\n",
       "      <th>date</th>\n",
       "      <th>prcp</th>\n",
       "      <th>snow</th>\n",
       "      <th>snwd</th>\n",
       "      <th>tavg</th>\n",
       "      <th>tmax</th>\n",
       "      <th>tmin</th>\n",
       "      <th>year</th>\n",
       "      <th>month</th>\n",
       "      <th>day</th>\n",
       "    </tr>\n",
       "  </thead>\n",
       "  <tbody>\n",
       "    <tr>\n",
       "      <th>356</th>\n",
       "      <td>1943-01-01</td>\n",
       "      <td>NaN</td>\n",
       "      <td>NaN</td>\n",
       "      <td>NaN</td>\n",
       "      <td>30.0</td>\n",
       "      <td>NaN</td>\n",
       "      <td>NaN</td>\n",
       "      <td>1943</td>\n",
       "      <td>1</td>\n",
       "      <td>1</td>\n",
       "    </tr>\n",
       "  </tbody>\n",
       "</table>\n",
       "</div>"
      ],
      "text/plain": [
       "           date  prcp  snow  snwd  tavg  tmax  tmin  year  month  day\n",
       "356  1943-01-01   NaN   NaN   NaN  30.0   NaN   NaN  1943      1    1"
      ]
     },
     "execution_count": 105,
     "metadata": {},
     "output_type": "execute_result"
    }
   ],
   "source": [
    "df.head(1)"
   ]
  },
  {
   "cell_type": "code",
   "execution_count": 106,
   "id": "90205305",
   "metadata": {},
   "outputs": [
    {
     "data": {
      "text/html": [
       "<div>\n",
       "<style scoped>\n",
       "    .dataframe tbody tr th:only-of-type {\n",
       "        vertical-align: middle;\n",
       "    }\n",
       "\n",
       "    .dataframe tbody tr th {\n",
       "        vertical-align: top;\n",
       "    }\n",
       "\n",
       "    .dataframe thead th {\n",
       "        text-align: right;\n",
       "    }\n",
       "</style>\n",
       "<table border=\"1\" class=\"dataframe\">\n",
       "  <thead>\n",
       "    <tr style=\"text-align: right;\">\n",
       "      <th></th>\n",
       "      <th>date</th>\n",
       "      <th>maxtemperature</th>\n",
       "      <th>mintemperature</th>\n",
       "      <th>avgtemperature</th>\n",
       "      <th>atobstemperature</th>\n",
       "      <th>precipitation</th>\n",
       "      <th>snowfall</th>\n",
       "      <th>snowdepth</th>\n",
       "      <th>year</th>\n",
       "      <th>month</th>\n",
       "      <th>day</th>\n",
       "    </tr>\n",
       "  </thead>\n",
       "  <tbody>\n",
       "    <tr>\n",
       "      <th>1096</th>\n",
       "      <td>1943-01-01</td>\n",
       "      <td>M</td>\n",
       "      <td>M</td>\n",
       "      <td>M</td>\n",
       "      <td>M</td>\n",
       "      <td>M</td>\n",
       "      <td>M</td>\n",
       "      <td>M</td>\n",
       "      <td>1943</td>\n",
       "      <td>1</td>\n",
       "      <td>1</td>\n",
       "    </tr>\n",
       "  </tbody>\n",
       "</table>\n",
       "</div>"
      ],
      "text/plain": [
       "            date maxtemperature mintemperature avgtemperature  \\\n",
       "1096  1943-01-01              M              M              M   \n",
       "\n",
       "     atobstemperature precipitation snowfall snowdepth  year  month  day  \n",
       "1096                M             M        M         M  1943      1    1  "
      ]
     },
     "execution_count": 106,
     "metadata": {},
     "output_type": "execute_result"
    }
   ],
   "source": [
    "df_cornell.head(1)"
   ]
  },
  {
   "cell_type": "markdown",
   "id": "8fe1ee65",
   "metadata": {},
   "source": [
    "* NOAA\n",
    "* Dropped Data for 1940 to 1942\n",
    "* No data for 1946, 1947, 1948,\n",
    "* NOAA (tavg)\n",
    "    * 1943:\n",
    "        * prcp percent na:  1.0\n",
    "        * snow percent na:  1.0\n",
    "        * snwd percent na:  1.0\n",
    "        * tmax percent na:  1.0\n",
    "        * tmin percent na:  1.0\n",
    "* cornell (all bad)\n",
    "    * 1943\n",
    "        * maxtemperature percent bad: 100.0\n",
    "        * mintemperature percent bad: 100.0\n",
    "        * avgtemperature percent bad: 100.0\n",
    "        * atobstemperature percent bad: 100.0\n",
    "        * precipitation percent bad: 100.0\n",
    "        * snowfall percent bad: 100.0\n",
    "        * snowdepth percent bad: 100.0\n",
    "* NOAA (tavg)\n",
    "    * 1944\n",
    "        * prcp percent na:  1.0\n",
    "        * snow percent na:  1.0\n",
    "        * snwd percent na:  1.0\n",
    "        * tmax percent na:  1.0\n",
    "        * tmin percent na:  1.0\n",
    "* Cornell (all bad)\n",
    "    * 1944\n",
    "        * maxtemperature percent bad: 100.0\n",
    "        * mintemperature percent bad: 100.0\n",
    "        * avgtemperature percent bad: 100.0\n",
    "        * atobstemperature percent bad: 100.0\n",
    "        * precipitation percent bad: 100.0\n",
    "        * snowfall percent bad: 100.0\n",
    "        * snowdepth percent bad: 100.0\n",
    "* NOAA (tavg)\n",
    "    * 1945\n",
    "        * prcp percent na:  1.0\n",
    "        * snow percent na:  1.0\n",
    "        * snwd percent na:  1.0\n",
    "        * tmax percent na:  1.0\n",
    "        * tmin percent na:  1.0\n",
    "* cornell (all bad)\n",
    "    * 1945\n",
    "        * maxtemperature percent bad: 100.0\n",
    "        * mintemperature percent bad: 100.0\n",
    "        * avgtemperature percent bad: 100.0\n",
    "        * atobstemperature percent bad: 100.0\n",
    "        * precipitation percent bad: 100.0\n",
    "        * snowfall percent bad: 100.0\n",
    "        * snowdepth percent bad: 100.0\n",
    "* NOAA\n",
    "    * 1946: NO DATA\n",
    "* cornell (all bad)\n",
    "    * 1946\n",
    "        * maxtemperature percent bad: 100.0\n",
    "        * mintemperature percent bad: 100.0\n",
    "        * avgtemperature percent bad: 100.0\n",
    "        * atobstemperature percent bad: 100.0\n",
    "        * precipitation percent bad: 100.0\n",
    "        * snowfall percent bad: 100.0\n",
    "        * snowdepth percent bad: 100.0\n",
    "* NOAA\n",
    "    * 1947: NO DATA\n",
    "* Cornell (all bad)\n",
    "    * 1947\n",
    "        * maxtemperature percent bad: 100.0\n",
    "        * mintemperature percent bad: 100.0\n",
    "        * avgtemperature percent bad: 100.0\n",
    "        * atobstemperature percent bad: 100.0\n",
    "        * precipitation percent bad: 100.0\n",
    "        * snowfall percent bad: 100.0\n",
    "        * snowdepth percent bad: 100.0\n",
    "* NOAA\n",
    "    * 1948: NO DATA\n",
    "* Cornell (all bad)\n",
    "    * 1948\n",
    "        * maxtemperature percent bad: 100.0\n",
    "        * mintemperature percent bad: 100.0\n",
    "        * avgtemperature percent bad: 100.0\n",
    "        * atobstemperature percent bad: 100.0\n",
    "        * precipitation percent bad: 100.0\n",
    "        * snowfall percent bad: 100.0\n",
    "        * snowdepth percent bad: 100.0\n",
    "* NOAA (prcp,snow,snwd,tmin)\n",
    "    * 1949\n",
    "        * tavg percent na:  1.0\n",
    "        * tmax percent na:  0.0027397260273972603\n",
    "* cornell\n",
    "    * 1949\n",
    "        * maxtemperature percent bad: 0.8219\n",
    "        * mintemperature percent bad: 0.5479\n",
    "        * avgtemperature percent bad: 1.3699\n",
    "        * atobstemperature percent bad: 100.0\n",
    "        * precipitation percent bad: 16.4384\n",
    "        * snowfall percent bad: 5.7534\n",
    "        * snowdepth percent bad: 2.4658"
   ]
  },
  {
   "cell_type": "code",
   "execution_count": 108,
   "id": "a7b7ee64",
   "metadata": {},
   "outputs": [
    {
     "data": {
      "text/plain": [
       "(365, 10)"
      ]
     },
     "execution_count": 108,
     "metadata": {},
     "output_type": "execute_result"
    }
   ],
   "source": [
    "df[(df['tavg'].isna()) & (df['date']>='1940-01-01') & (df['date']<'1950-01-01')].shape"
   ]
  },
  {
   "cell_type": "code",
   "execution_count": 109,
   "id": "e8b9b40c",
   "metadata": {},
   "outputs": [
    {
     "data": {
      "text/html": [
       "<div>\n",
       "<style scoped>\n",
       "    .dataframe tbody tr th:only-of-type {\n",
       "        vertical-align: middle;\n",
       "    }\n",
       "\n",
       "    .dataframe tbody tr th {\n",
       "        vertical-align: top;\n",
       "    }\n",
       "\n",
       "    .dataframe thead th {\n",
       "        text-align: right;\n",
       "    }\n",
       "</style>\n",
       "<table border=\"1\" class=\"dataframe\">\n",
       "  <thead>\n",
       "    <tr style=\"text-align: right;\">\n",
       "      <th></th>\n",
       "      <th>date</th>\n",
       "      <th>prcp</th>\n",
       "      <th>snow</th>\n",
       "      <th>snwd</th>\n",
       "      <th>tavg</th>\n",
       "      <th>tmax</th>\n",
       "      <th>tmin</th>\n",
       "      <th>year</th>\n",
       "      <th>month</th>\n",
       "      <th>day</th>\n",
       "    </tr>\n",
       "  </thead>\n",
       "  <tbody>\n",
       "    <tr>\n",
       "      <th>1395</th>\n",
       "      <td>1949-01-22</td>\n",
       "      <td>0.27</td>\n",
       "      <td>2.0</td>\n",
       "      <td>1.0</td>\n",
       "      <td>NaN</td>\n",
       "      <td>NaN</td>\n",
       "      <td>29.0</td>\n",
       "      <td>1949</td>\n",
       "      <td>1</td>\n",
       "      <td>22</td>\n",
       "    </tr>\n",
       "  </tbody>\n",
       "</table>\n",
       "</div>"
      ],
      "text/plain": [
       "            date  prcp  snow  snwd  tavg  tmax  tmin  year  month  day\n",
       "1395  1949-01-22  0.27   2.0   1.0   NaN   NaN  29.0  1949      1   22"
      ]
     },
     "execution_count": 109,
     "metadata": {},
     "output_type": "execute_result"
    }
   ],
   "source": [
    "df[(df['tmax'].isna()) & (df['date']>='1949-01-01') & (df['date']<'1950-01-01')]"
   ]
  },
  {
   "cell_type": "code",
   "execution_count": 110,
   "id": "5f07aab0",
   "metadata": {},
   "outputs": [
    {
     "data": {
      "text/plain": [
       "(0, 10)"
      ]
     },
     "execution_count": 110,
     "metadata": {},
     "output_type": "execute_result"
    }
   ],
   "source": [
    "df[(df['tmin'].isna()) & (df['date']>='1949-01-01') & (df['date']<'1950-01-01')].shape"
   ]
  },
  {
   "cell_type": "code",
   "execution_count": 111,
   "id": "11185b06",
   "metadata": {},
   "outputs": [
    {
     "data": {
      "text/plain": [
       "(365, 10)"
      ]
     },
     "execution_count": 111,
     "metadata": {},
     "output_type": "execute_result"
    }
   ],
   "source": [
    "df[(df['tavg'].isna()) & (df['date']>='1949-01-01') & (df['date']<'1950-01-01')].shape"
   ]
  },
  {
   "cell_type": "code",
   "execution_count": 112,
   "id": "2ab95836",
   "metadata": {},
   "outputs": [
    {
     "data": {
      "text/html": [
       "<div>\n",
       "<style scoped>\n",
       "    .dataframe tbody tr th:only-of-type {\n",
       "        vertical-align: middle;\n",
       "    }\n",
       "\n",
       "    .dataframe tbody tr th {\n",
       "        vertical-align: top;\n",
       "    }\n",
       "\n",
       "    .dataframe thead th {\n",
       "        text-align: right;\n",
       "    }\n",
       "</style>\n",
       "<table border=\"1\" class=\"dataframe\">\n",
       "  <thead>\n",
       "    <tr style=\"text-align: right;\">\n",
       "      <th></th>\n",
       "      <th>date</th>\n",
       "      <th>maxtemperature</th>\n",
       "      <th>mintemperature</th>\n",
       "      <th>avgtemperature</th>\n",
       "      <th>atobstemperature</th>\n",
       "      <th>precipitation</th>\n",
       "      <th>snowfall</th>\n",
       "      <th>snowdepth</th>\n",
       "      <th>year</th>\n",
       "      <th>month</th>\n",
       "      <th>day</th>\n",
       "    </tr>\n",
       "  </thead>\n",
       "  <tbody>\n",
       "    <tr>\n",
       "      <th>3309</th>\n",
       "      <td>1949-01-22</td>\n",
       "      <td>M</td>\n",
       "      <td>29</td>\n",
       "      <td>M</td>\n",
       "      <td>M</td>\n",
       "      <td>0.27</td>\n",
       "      <td>2.0</td>\n",
       "      <td>1</td>\n",
       "      <td>1949</td>\n",
       "      <td>1</td>\n",
       "      <td>22</td>\n",
       "    </tr>\n",
       "    <tr>\n",
       "      <th>3591</th>\n",
       "      <td>1949-10-31</td>\n",
       "      <td>64</td>\n",
       "      <td>M</td>\n",
       "      <td>M</td>\n",
       "      <td>M</td>\n",
       "      <td>0.50</td>\n",
       "      <td>0.0</td>\n",
       "      <td>0</td>\n",
       "      <td>1949</td>\n",
       "      <td>10</td>\n",
       "      <td>31</td>\n",
       "    </tr>\n",
       "    <tr>\n",
       "      <th>3592</th>\n",
       "      <td>1949-11-01</td>\n",
       "      <td>M</td>\n",
       "      <td>40</td>\n",
       "      <td>M</td>\n",
       "      <td>M</td>\n",
       "      <td>0.01</td>\n",
       "      <td>0.0</td>\n",
       "      <td>0</td>\n",
       "      <td>1949</td>\n",
       "      <td>11</td>\n",
       "      <td>1</td>\n",
       "    </tr>\n",
       "    <tr>\n",
       "      <th>3616</th>\n",
       "      <td>1949-11-25</td>\n",
       "      <td>48</td>\n",
       "      <td>M</td>\n",
       "      <td>M</td>\n",
       "      <td>M</td>\n",
       "      <td>0.35</td>\n",
       "      <td>0.0</td>\n",
       "      <td>0</td>\n",
       "      <td>1949</td>\n",
       "      <td>11</td>\n",
       "      <td>25</td>\n",
       "    </tr>\n",
       "    <tr>\n",
       "      <th>3617</th>\n",
       "      <td>1949-11-26</td>\n",
       "      <td>M</td>\n",
       "      <td>17</td>\n",
       "      <td>M</td>\n",
       "      <td>M</td>\n",
       "      <td>0.00</td>\n",
       "      <td>0.0</td>\n",
       "      <td>0</td>\n",
       "      <td>1949</td>\n",
       "      <td>11</td>\n",
       "      <td>26</td>\n",
       "    </tr>\n",
       "  </tbody>\n",
       "</table>\n",
       "</div>"
      ],
      "text/plain": [
       "            date maxtemperature mintemperature avgtemperature  \\\n",
       "3309  1949-01-22              M             29              M   \n",
       "3591  1949-10-31             64              M              M   \n",
       "3592  1949-11-01              M             40              M   \n",
       "3616  1949-11-25             48              M              M   \n",
       "3617  1949-11-26              M             17              M   \n",
       "\n",
       "     atobstemperature precipitation snowfall snowdepth  year  month  day  \n",
       "3309                M          0.27      2.0         1  1949      1   22  \n",
       "3591                M          0.50      0.0         0  1949     10   31  \n",
       "3592                M          0.01      0.0         0  1949     11    1  \n",
       "3616                M          0.35      0.0         0  1949     11   25  \n",
       "3617                M          0.00      0.0         0  1949     11   26  "
      ]
     },
     "execution_count": 112,
     "metadata": {},
     "output_type": "execute_result"
    }
   ],
   "source": [
    "df_cornell[(df_cornell['avgtemperature'].isin([' M'])) & (df_cornell['date']>='1949-01-01') & (df_cornell['date']<'1950-01-01')]"
   ]
  },
  {
   "cell_type": "code",
   "execution_count": 134,
   "id": "2631651e",
   "metadata": {},
   "outputs": [
    {
     "data": {
      "text/html": [
       "<div>\n",
       "<style scoped>\n",
       "    .dataframe tbody tr th:only-of-type {\n",
       "        vertical-align: middle;\n",
       "    }\n",
       "\n",
       "    .dataframe tbody tr th {\n",
       "        vertical-align: top;\n",
       "    }\n",
       "\n",
       "    .dataframe thead th {\n",
       "        text-align: right;\n",
       "    }\n",
       "</style>\n",
       "<table border=\"1\" class=\"dataframe\">\n",
       "  <thead>\n",
       "    <tr style=\"text-align: right;\">\n",
       "      <th></th>\n",
       "      <th>date</th>\n",
       "      <th>prcp</th>\n",
       "      <th>snow</th>\n",
       "      <th>snwd</th>\n",
       "      <th>tavg</th>\n",
       "      <th>tmax</th>\n",
       "      <th>tmin</th>\n",
       "      <th>year</th>\n",
       "      <th>month</th>\n",
       "      <th>day</th>\n",
       "    </tr>\n",
       "  </thead>\n",
       "  <tbody>\n",
       "    <tr>\n",
       "      <th>1395</th>\n",
       "      <td>1949-01-22</td>\n",
       "      <td>0.27</td>\n",
       "      <td>2.0</td>\n",
       "      <td>1.0</td>\n",
       "      <td>NaN</td>\n",
       "      <td>NaN</td>\n",
       "      <td>29.0</td>\n",
       "      <td>1949</td>\n",
       "      <td>1</td>\n",
       "      <td>22</td>\n",
       "    </tr>\n",
       "  </tbody>\n",
       "</table>\n",
       "</div>"
      ],
      "text/plain": [
       "            date  prcp  snow  snwd  tavg  tmax  tmin  year  month  day\n",
       "1395  1949-01-22  0.27   2.0   1.0   NaN   NaN  29.0  1949      1   22"
      ]
     },
     "execution_count": 134,
     "metadata": {},
     "output_type": "execute_result"
    }
   ],
   "source": [
    "df[df['date']=='1949-01-22']"
   ]
  },
  {
   "cell_type": "code",
   "execution_count": 133,
   "id": "772bbb59",
   "metadata": {},
   "outputs": [
    {
     "data": {
      "text/html": [
       "<div>\n",
       "<style scoped>\n",
       "    .dataframe tbody tr th:only-of-type {\n",
       "        vertical-align: middle;\n",
       "    }\n",
       "\n",
       "    .dataframe tbody tr th {\n",
       "        vertical-align: top;\n",
       "    }\n",
       "\n",
       "    .dataframe thead th {\n",
       "        text-align: right;\n",
       "    }\n",
       "</style>\n",
       "<table border=\"1\" class=\"dataframe\">\n",
       "  <thead>\n",
       "    <tr style=\"text-align: right;\">\n",
       "      <th></th>\n",
       "      <th>date</th>\n",
       "      <th>maxtemperature</th>\n",
       "      <th>mintemperature</th>\n",
       "      <th>avgtemperature</th>\n",
       "      <th>atobstemperature</th>\n",
       "      <th>precipitation</th>\n",
       "      <th>snowfall</th>\n",
       "      <th>snowdepth</th>\n",
       "      <th>year</th>\n",
       "      <th>month</th>\n",
       "      <th>day</th>\n",
       "    </tr>\n",
       "  </thead>\n",
       "  <tbody>\n",
       "    <tr>\n",
       "      <th>3309</th>\n",
       "      <td>1949-01-22</td>\n",
       "      <td>M</td>\n",
       "      <td>29</td>\n",
       "      <td>M</td>\n",
       "      <td>M</td>\n",
       "      <td>0.27</td>\n",
       "      <td>2.0</td>\n",
       "      <td>1</td>\n",
       "      <td>1949</td>\n",
       "      <td>1</td>\n",
       "      <td>22</td>\n",
       "    </tr>\n",
       "  </tbody>\n",
       "</table>\n",
       "</div>"
      ],
      "text/plain": [
       "            date maxtemperature mintemperature avgtemperature  \\\n",
       "3309  1949-01-22              M             29              M   \n",
       "\n",
       "     atobstemperature precipitation snowfall snowdepth  year  month  day  \n",
       "3309                M          0.27      2.0         1  1949      1   22  "
      ]
     },
     "execution_count": 133,
     "metadata": {},
     "output_type": "execute_result"
    }
   ],
   "source": [
    "df_cornell[df_cornell['date']=='1949-01-22']"
   ]
  },
  {
   "cell_type": "code",
   "execution_count": 135,
   "id": "a8a37109",
   "metadata": {},
   "outputs": [
    {
     "data": {
      "text/plain": [
       "34.45"
      ]
     },
     "execution_count": 135,
     "metadata": {},
     "output_type": "execute_result"
    }
   ],
   "source": [
    "(39.9+29)/2"
   ]
  },
  {
   "cell_type": "markdown",
   "id": "1779280c",
   "metadata": {},
   "source": [
    "## 1/29/1949\n",
    "* Based on this site:\n",
    "    * https://weatherspark.com/h/d/147224/1949/1/22/Historical-Weather-on-Saturday-January-22-1949-at-Bradley-International-Airport-United-States#Figures-Temperature\n",
    "    * Max Temp was 39.9\n",
    "* Both NOAA and Cornell have min at 29\n",
    "* Therefore Average: (39.9+29)/2 = 34.45"
   ]
  },
  {
   "cell_type": "code",
   "execution_count": 151,
   "id": "1a9f7ae7",
   "metadata": {},
   "outputs": [],
   "source": [
    "# noaa tmax\n",
    "df.iloc[1039,5] = 39.9"
   ]
  },
  {
   "cell_type": "code",
   "execution_count": 155,
   "id": "aa4fdb1a",
   "metadata": {},
   "outputs": [],
   "source": [
    "# noaa tavg\n",
    "df.iloc[1039,4] = (39.9+29)/2"
   ]
  },
  {
   "cell_type": "code",
   "execution_count": 170,
   "id": "719bfb55",
   "metadata": {},
   "outputs": [],
   "source": [
    "# cornell maxtemperature\n",
    "df_cornell.iloc[2213,1]= 39.9"
   ]
  },
  {
   "cell_type": "code",
   "execution_count": 177,
   "id": "f0ffa9bb",
   "metadata": {},
   "outputs": [],
   "source": [
    "df_cornell.iloc[2213,3] = (39.9+29)/2"
   ]
  },
  {
   "cell_type": "markdown",
   "id": "15f4781e",
   "metadata": {},
   "source": [
    "## Best Data for 1940s\n",
    "\n",
    "* 1949 ONLY      \n",
    "    * prcp (precipitation): NOAA: No missing\n",
    "    * snow (snowfall): NOAA: No missing\n",
    "    * snwd (snowdepth): NOAA: No missing\n",
    "    * tavg (avgtemperature): Need to see if they don't have the same day missing\n",
    "        * They both have min temp but no max temp to get average for 1/22/1949\n",
    "        * Updated based on info above\n",
    "        * No Missing Data\n",
    "    * tmax (maxtemperature): Need to see if they don't have the same day missing\n",
    "        * They are both missing data for max temp on 1/22/1949\n",
    "        * Updated based on info above\n",
    "        * No Missing Data\n",
    "    * tmin (mintemperature): NOAA: No missing\n",
    "    * atobstemperature: cornell: atobstemperature percent bad: 100%"
   ]
  },
  {
   "cell_type": "markdown",
   "id": "938fbca8",
   "metadata": {},
   "source": [
    "# 1950s"
   ]
  },
  {
   "cell_type": "code",
   "execution_count": 113,
   "id": "1aff7078",
   "metadata": {},
   "outputs": [],
   "source": [
    "df_50s_dates = ['1950-01-01','1951-01-01','1952-01-01','1953-01-01','1954-01-01','1955-01-01',\n",
    "               '1956-01-01','1957-01-01','1958-01-01','1959-01-01','1960-01-01']"
   ]
  },
  {
   "cell_type": "code",
   "execution_count": 114,
   "id": "9cfd1f99",
   "metadata": {},
   "outputs": [
    {
     "name": "stdout",
     "output_type": "stream",
     "text": [
      "1950-01-01\n",
      "snwd percent na:  0.005479452054794521\n",
      "tavg percent na:  1.0\n",
      "1951-01-01\n",
      "tavg percent na:  1.0\n",
      "1952-01-01\n",
      "tavg percent na:  1.0\n",
      "1953-01-01\n",
      "snwd percent na:  0.0136986301369863\n",
      "tavg percent na:  1.0\n",
      "tmax percent na:  0.005479452054794521\n",
      "tmin percent na:  0.005479452054794521\n",
      "1954-01-01\n",
      "tavg percent na:  1.0\n",
      "1955-01-01\n",
      "tavg percent na:  1.0\n",
      "1956-01-01\n",
      "snow percent na:  0.00273224043715847\n",
      "snwd percent na:  0.00273224043715847\n",
      "tavg percent na:  1.0\n",
      "1957-01-01\n",
      "snwd percent na:  0.005494505494505495\n",
      "tavg percent na:  1.0\n",
      "1958-01-01\n",
      "tavg percent na:  1.0\n",
      "1959-01-01\n",
      "snwd percent na:  0.0027397260273972603\n",
      "tavg percent na:  1.0\n"
     ]
    }
   ],
   "source": [
    "# NOAA\n",
    "for start, end in zip(df_50s_dates[0:-1],df_50s_dates[1:]):\n",
    "    df_50s = df[(df['date'] >= start) & (df['date'] < end)].copy()\n",
    "    print(start)\n",
    "    for col in df_50s.columns:\n",
    "        try:\n",
    "            if df_50s[col].isna().sum()/len(df_50s) > 0:\n",
    "                print(col,'percent na: ',df_50s[col].isna().sum()/len(df_50s))\n",
    "        except:\n",
    "            continue"
   ]
  },
  {
   "cell_type": "code",
   "execution_count": 115,
   "id": "4ca53504",
   "metadata": {},
   "outputs": [
    {
     "name": "stdout",
     "output_type": "stream",
     "text": [
      "1950-01-01\n",
      "1951-01-01\n",
      "1952-01-01\n",
      "1953-01-01\n",
      "1954-01-01\n",
      "1955-01-01\n",
      "1956-01-01\n",
      "1957-01-01\n",
      "1958-01-01\n",
      "1959-01-01\n"
     ]
    }
   ],
   "source": [
    "for start, end in zip(df_50s_dates[0:-1],df_50s_dates[1:]):\n",
    "    df_50s = df_cornell[(df_cornell['date'] >= start) & (df_cornell['date'] < end)].copy()\n",
    "    print(start)\n",
    "    for col in df_50s.columns:\n",
    "        try:\n",
    "            if df_50s[col].isna().sum()/len(df_50s) > 0:\n",
    "                print(col,'percent na: ',df_50s[col].isna().sum()/len(df_40s))\n",
    "        except:\n",
    "            continue"
   ]
  },
  {
   "cell_type": "code",
   "execution_count": 116,
   "id": "29ff45dd",
   "metadata": {},
   "outputs": [
    {
     "name": "stdout",
     "output_type": "stream",
     "text": [
      "1950-01-01\n",
      "atobstemperature percent bad: 100.0\n",
      "precipitation percent bad: 16.4384\n",
      "snowfall percent bad: 10.6849\n",
      "snowdepth percent bad: 2.1918\n",
      "1951-01-01\n",
      "maxtemperature percent bad: 0.274\n",
      "mintemperature percent bad: 0.274\n",
      "avgtemperature percent bad: 0.5479\n",
      "atobstemperature percent bad: 100.0\n",
      "precipitation percent bad: 18.0822\n",
      "snowfall percent bad: 7.1233\n",
      "snowdepth percent bad: 1.6438\n",
      "1952-01-01\n",
      "atobstemperature percent bad: 100.0\n",
      "precipitation percent bad: 15.3005\n",
      "snowfall percent bad: 7.6503\n",
      "snowdepth percent bad: 4.0984\n",
      "1953-01-01\n",
      "maxtemperature percent bad: 0.5479\n",
      "mintemperature percent bad: 0.5479\n",
      "avgtemperature percent bad: 0.5479\n",
      "atobstemperature percent bad: 100.0\n",
      "precipitation percent bad: 13.6986\n",
      "snowfall percent bad: 10.6849\n",
      "snowdepth percent bad: 3.0137\n",
      "1954-01-01\n",
      "atobstemperature percent bad: 100.0\n",
      "precipitation percent bad: 17.8082\n",
      "snowfall percent bad: 6.8493\n",
      "snowdepth percent bad: 6.0274\n",
      "1955-01-01\n",
      "atobstemperature percent bad: 100.0\n",
      "precipitation percent bad: 12.3288\n",
      "snowfall percent bad: 8.4932\n",
      "snowdepth percent bad: 5.4795\n",
      "1956-01-01\n",
      "atobstemperature percent bad: 100.0\n",
      "precipitation percent bad: 10.1093\n",
      "snowfall percent bad: 6.0109\n",
      "snowdepth percent bad: 9.2896\n",
      "1957-01-01\n",
      "maxtemperature percent bad: 0.274\n",
      "mintemperature percent bad: 0.274\n",
      "avgtemperature percent bad: 0.274\n",
      "atobstemperature percent bad: 100.0\n",
      "precipitation percent bad: 13.9726\n",
      "snowfall percent bad: 6.0274\n",
      "snowdepth percent bad: 5.7534\n",
      "1958-01-01\n",
      "atobstemperature percent bad: 100.0\n",
      "precipitation percent bad: 13.4247\n",
      "snowfall percent bad: 6.8493\n",
      "snowdepth percent bad: 7.3973\n",
      "1959-01-01\n",
      "atobstemperature percent bad: 100.0\n",
      "precipitation percent bad: 13.9726\n",
      "snowfall percent bad: 6.5753\n",
      "snowdepth percent bad: 5.7534\n"
     ]
    }
   ],
   "source": [
    "bad_chars = [' S',' M',' T',' A','S','M','T','A']\n",
    "for start, end in zip(df_50s_dates[0:-1],df_50s_dates[1:]):\n",
    "    print(start)\n",
    "    df_50s_cornell = df_cornell[(df_cornell['date'] >= start) & (df_cornell['date'] < end)].copy()\n",
    "    for col in df_50s_cornell.columns:\n",
    "        count = 0\n",
    "        for val in df_50s_cornell[col].to_numpy():\n",
    "            try:\n",
    "                val = val.upper()\n",
    "            except:\n",
    "                continue\n",
    "            if any(x in bad_chars for x in val):\n",
    "                count += 1\n",
    "        if count > 0:\n",
    "            print(col,'percent bad:', round(count/len(df_50s_cornell)*100,4))\n",
    "    del df_50s_cornell"
   ]
  },
  {
   "cell_type": "code",
   "execution_count": 117,
   "id": "f332be26",
   "metadata": {},
   "outputs": [
    {
     "data": {
      "text/plain": [
       "(29220, 11)"
      ]
     },
     "execution_count": 117,
     "metadata": {},
     "output_type": "execute_result"
    }
   ],
   "source": [
    "df_cornell.shape"
   ]
  },
  {
   "cell_type": "markdown",
   "id": "e10474a6",
   "metadata": {},
   "source": [
    "* 1950\n",
    "    * prcp (precipitation): NOAA: No missing\n",
    "    * snow (snowfall): NOAA: No missing\n",
    "    * snwd (snowdepth): NOAA: 0.00548% missing Cornell: 2.2% bad\n",
    "    * tavg (avgtemperature): Cornell: No missing\n",
    "    * tmax (maxtemperature): Need to see if they don't have the same day missing\n",
    "    * tmin (mintemperature): NOAA: No missing\n",
    "    * atobstemperature: cornell: atobstemperature percent bad: 100%\n",
    "* 1951\n",
    "    * prcp (precipitation): NOAA: No missing\n",
    "    * snow (snowfall): NOAA: No missing\n",
    "    * snwd (snowdepth): NOAA: 0.00548% missing Cornell: 2.2% bad\n",
    "    * tavg (avgtemperature): Cornell: 0.5479 missing\n",
    "    * tmax (maxtemperature): Need to see if they don't have the same day missing\n",
    "    * tmin (mintemperature): NOAA: No missing\n",
    "    * atobstemperature: cornell: atobstemperature percent bad: 100%\n",
    "* 1952\n",
    "    * prcp (precipitation): NOAA: No missing\n",
    "    * snow (snowfall): NOAA: No missing\n",
    "    * snwd (snowdepth): NOAA: No missing\n",
    "    * tavg (avgtemperature): Cornell: No missing\n",
    "    * tmax (maxtemperature): Cornell: No missing\n",
    "    * tmin (mintemperature): Cornell: No missing\n",
    "    * atobstemperature: cornell: atobstemperature percent bad: 100%\n",
    "* 1953\n",
    "    * prcp (precipitation): NOAA: No missing\n",
    "    * snow (snowfall): NOAA: No missing\n",
    "    * snwd (snowdepth): NOAA: 0.0136% missing, Cornell: 3% missing\n",
    "    * tavg (avgtemperature): Cornell: 0.5479% missing, NOAA: All missing\n",
    "    * tmax (maxtemperature): Cornell: 0.5479% missing, NOAA: 0.0055% missing\n",
    "    * tmin (mintemperature): Cornell: 0.5479% missing, NOAA: 0.0055% missing\n",
    "    * atobstemperature: cornell: atobstemperature percent bad: 100%\n",
    "* 1954\n",
    "    * prcp (precipitation): NOAA: No missing\n",
    "    * snow (snowfall): NOAA: No missing\n",
    "    * snwd (snowdepth): NOAA: 0.0136% missing, Cornell: 3% missing\n",
    "    * tavg (avgtemperature): Cornell: No missing\n",
    "    * tmax (maxtemperature): Cornell: No missing, NOAA: No missing\n",
    "    * tmin (mintemperature): Cornell: No missing, NOAA: No missing\n",
    "    * atobstemperature: cornell: atobstemperature percent bad: 100%\n",
    "* 1955\n",
    "    * prcp (precipitation): NOAA: No missing\n",
    "    * snow (snowfall): NOAA: No missing\n",
    "    * snwd (snowdepth): NOAA: 0.0136% missing, Cornell: 3% missing\n",
    "    * tavg (avgtemperature): Cornell: No missing\n",
    "    * tmax (maxtemperature): Cornell: No missing, NOAA: No missing\n",
    "    * tmin (mintemperature): Cornell: No missing, NOAA: No missing\n",
    "    * atobstemperature: cornell: atobstemperature percent bad: 100%\n",
    "* 1956\n",
    "    * prcp (precipitation): NOAA: No missing\n",
    "    * snow (snowfall): NOAA: 0.0027% missing, Cornell: 6.0109% missing\n",
    "    * snwd (snowdepth): NOAA: 0.0027% missing, Cornell: 9.2896% missing\n",
    "    * tavg (avgtemperature): Cornell: No missing\n",
    "    * tmax (maxtemperature): Cornell: No missing, NOAA: No missing\n",
    "    * tmin (mintemperature): Cornell: No missing, NOAA: No missing\n",
    "    * atobstemperature: cornell: atobstemperature percent bad: 100%\n",
    "* 1957\n",
    "    * prcp (precipitation): NOAA: No missing\n",
    "    * snow (snowfall): NOAA: No missing\n",
    "    * snwd (snowdepth): NOAA: 5.7534% missing, Cornell: 0.005% missing\n",
    "    * tavg (avgtemperature): Cornell: 0.274% missing, NOAA: All missing\n",
    "        * Use NOAA max,min to get average for missing days if overlap doesn't work\n",
    "    * tmax (maxtemperature): NOAA: No missing\n",
    "    * tmin (mintemperature): NOAA: No missing\n",
    "    * atobstemperature: cornell: atobstemperature percent bad: 100%\n",
    "* 1958\n",
    "    * prcp (precipitation): NOAA: No missing\n",
    "    * snow (snowfall): NOAA: No missing\n",
    "    * snwd (snowdepth): NOAA: No missing\n",
    "    * tavg (avgtemperature): Cornell: No missing\n",
    "    * tmax (maxtemperature): NOAA: No missing\n",
    "    * tmin (mintemperature): NOAA: No missing\n",
    "    * atobstemperature: cornell: atobstemperature percent bad: 100%\n",
    "* 1959\n",
    "    * prcp (precipitation): NOAA: No missing\n",
    "    * snow (snowfall): NOAA: No missing\n",
    "    * snwd (snowdepth): NOAA: 0.0027% missing, Cornell: 5.7534% missing\n",
    "    * tavg (avgtemperature): Cornell: No missing\n",
    "    * tmax (maxtemperature): NOAA: No missing\n",
    "    * tmin (mintemperature): NOAA: No missing\n",
    "    * atobstemperature: cornell: atobstemperature percent bad: 100%"
   ]
  },
  {
   "cell_type": "code",
   "execution_count": 121,
   "id": "4853864d",
   "metadata": {},
   "outputs": [
    {
     "data": {
      "text/plain": [
       "(11, 10)"
      ]
     },
     "execution_count": 121,
     "metadata": {},
     "output_type": "execute_result"
    }
   ],
   "source": [
    "df[(df['snwd'].isna()) & (df['date'] >= '1950-01-01') & (df['date'] < '1960-01-01')].shape"
   ]
  },
  {
   "cell_type": "code",
   "execution_count": 197,
   "id": "1cf1a518",
   "metadata": {},
   "outputs": [
    {
     "data": {
      "text/html": [
       "<div>\n",
       "<style scoped>\n",
       "    .dataframe tbody tr th:only-of-type {\n",
       "        vertical-align: middle;\n",
       "    }\n",
       "\n",
       "    .dataframe tbody tr th {\n",
       "        vertical-align: top;\n",
       "    }\n",
       "\n",
       "    .dataframe thead th {\n",
       "        text-align: right;\n",
       "    }\n",
       "</style>\n",
       "<table border=\"1\" class=\"dataframe\">\n",
       "  <thead>\n",
       "    <tr style=\"text-align: right;\">\n",
       "      <th></th>\n",
       "      <th>date</th>\n",
       "      <th>prcp</th>\n",
       "      <th>snow</th>\n",
       "      <th>snwd</th>\n",
       "      <th>tavg</th>\n",
       "      <th>tmax</th>\n",
       "      <th>tmin</th>\n",
       "      <th>year</th>\n",
       "      <th>month</th>\n",
       "      <th>day</th>\n",
       "    </tr>\n",
       "  </thead>\n",
       "  <tbody>\n",
       "    <tr>\n",
       "      <th>1973</th>\n",
       "      <td>1950-08-23</td>\n",
       "      <td>0.01</td>\n",
       "      <td>0.0</td>\n",
       "      <td>NaN</td>\n",
       "      <td>NaN</td>\n",
       "      <td>80.0</td>\n",
       "      <td>59.0</td>\n",
       "      <td>1950</td>\n",
       "      <td>8</td>\n",
       "      <td>23</td>\n",
       "    </tr>\n",
       "    <tr>\n",
       "      <th>3049</th>\n",
       "      <td>1953-08-03</td>\n",
       "      <td>0.00</td>\n",
       "      <td>0.0</td>\n",
       "      <td>NaN</td>\n",
       "      <td>NaN</td>\n",
       "      <td>77.0</td>\n",
       "      <td>50.0</td>\n",
       "      <td>1953</td>\n",
       "      <td>8</td>\n",
       "      <td>3</td>\n",
       "    </tr>\n",
       "    <tr>\n",
       "      <th>3051</th>\n",
       "      <td>1953-08-05</td>\n",
       "      <td>0.00</td>\n",
       "      <td>0.0</td>\n",
       "      <td>NaN</td>\n",
       "      <td>NaN</td>\n",
       "      <td>81.0</td>\n",
       "      <td>60.0</td>\n",
       "      <td>1953</td>\n",
       "      <td>8</td>\n",
       "      <td>5</td>\n",
       "    </tr>\n",
       "    <tr>\n",
       "      <th>3078</th>\n",
       "      <td>1953-09-01</td>\n",
       "      <td>0.00</td>\n",
       "      <td>0.0</td>\n",
       "      <td>NaN</td>\n",
       "      <td>NaN</td>\n",
       "      <td>92.0</td>\n",
       "      <td>63.0</td>\n",
       "      <td>1953</td>\n",
       "      <td>9</td>\n",
       "      <td>1</td>\n",
       "    </tr>\n",
       "    <tr>\n",
       "      <th>3082</th>\n",
       "      <td>1953-09-05</td>\n",
       "      <td>0.00</td>\n",
       "      <td>0.0</td>\n",
       "      <td>NaN</td>\n",
       "      <td>NaN</td>\n",
       "      <td>87.0</td>\n",
       "      <td>73.0</td>\n",
       "      <td>1953</td>\n",
       "      <td>9</td>\n",
       "      <td>5</td>\n",
       "    </tr>\n",
       "    <tr>\n",
       "      <th>3086</th>\n",
       "      <td>1953-09-09</td>\n",
       "      <td>0.00</td>\n",
       "      <td>0.0</td>\n",
       "      <td>NaN</td>\n",
       "      <td>NaN</td>\n",
       "      <td>71.0</td>\n",
       "      <td>49.0</td>\n",
       "      <td>1953</td>\n",
       "      <td>9</td>\n",
       "      <td>9</td>\n",
       "    </tr>\n",
       "    <tr>\n",
       "      <th>4057</th>\n",
       "      <td>1956-05-07</td>\n",
       "      <td>0.04</td>\n",
       "      <td>NaN</td>\n",
       "      <td>NaN</td>\n",
       "      <td>NaN</td>\n",
       "      <td>53.0</td>\n",
       "      <td>43.0</td>\n",
       "      <td>1956</td>\n",
       "      <td>5</td>\n",
       "      <td>7</td>\n",
       "    </tr>\n",
       "    <tr>\n",
       "      <th>4530</th>\n",
       "      <td>1957-08-23</td>\n",
       "      <td>0.00</td>\n",
       "      <td>0.0</td>\n",
       "      <td>NaN</td>\n",
       "      <td>NaN</td>\n",
       "      <td>79.0</td>\n",
       "      <td>46.0</td>\n",
       "      <td>1957</td>\n",
       "      <td>8</td>\n",
       "      <td>23</td>\n",
       "    </tr>\n",
       "    <tr>\n",
       "      <th>4605</th>\n",
       "      <td>1957-11-07</td>\n",
       "      <td>0.00</td>\n",
       "      <td>0.0</td>\n",
       "      <td>NaN</td>\n",
       "      <td>NaN</td>\n",
       "      <td>60.0</td>\n",
       "      <td>31.0</td>\n",
       "      <td>1957</td>\n",
       "      <td>11</td>\n",
       "      <td>7</td>\n",
       "    </tr>\n",
       "    <tr>\n",
       "      <th>5361</th>\n",
       "      <td>1959-12-03</td>\n",
       "      <td>0.00</td>\n",
       "      <td>0.0</td>\n",
       "      <td>NaN</td>\n",
       "      <td>NaN</td>\n",
       "      <td>50.0</td>\n",
       "      <td>25.0</td>\n",
       "      <td>1959</td>\n",
       "      <td>12</td>\n",
       "      <td>3</td>\n",
       "    </tr>\n",
       "  </tbody>\n",
       "</table>\n",
       "</div>"
      ],
      "text/plain": [
       "            date  prcp  snow  snwd  tavg  tmax  tmin  year  month  day\n",
       "1973  1950-08-23  0.01   0.0   NaN   NaN  80.0  59.0  1950      8   23\n",
       "3049  1953-08-03  0.00   0.0   NaN   NaN  77.0  50.0  1953      8    3\n",
       "3051  1953-08-05  0.00   0.0   NaN   NaN  81.0  60.0  1953      8    5\n",
       "3078  1953-09-01  0.00   0.0   NaN   NaN  92.0  63.0  1953      9    1\n",
       "3082  1953-09-05  0.00   0.0   NaN   NaN  87.0  73.0  1953      9    5\n",
       "3086  1953-09-09  0.00   0.0   NaN   NaN  71.0  49.0  1953      9    9\n",
       "4057  1956-05-07  0.04   NaN   NaN   NaN  53.0  43.0  1956      5    7\n",
       "4530  1957-08-23  0.00   0.0   NaN   NaN  79.0  46.0  1957      8   23\n",
       "4605  1957-11-07  0.00   0.0   NaN   NaN  60.0  31.0  1957     11    7\n",
       "5361  1959-12-03  0.00   0.0   NaN   NaN  50.0  25.0  1959     12    3"
      ]
     },
     "execution_count": 197,
     "metadata": {},
     "output_type": "execute_result"
    }
   ],
   "source": [
    "df[(df['snwd'].isna()) & (df['date'] >= '1950-01-01') & (df['date'] < '1960-01-01')]"
   ]
  },
  {
   "cell_type": "code",
   "execution_count": 204,
   "id": "8c5e79ed",
   "metadata": {},
   "outputs": [
    {
     "data": {
      "text/html": [
       "<div>\n",
       "<style scoped>\n",
       "    .dataframe tbody tr th:only-of-type {\n",
       "        vertical-align: middle;\n",
       "    }\n",
       "\n",
       "    .dataframe tbody tr th {\n",
       "        vertical-align: top;\n",
       "    }\n",
       "\n",
       "    .dataframe thead th {\n",
       "        text-align: right;\n",
       "    }\n",
       "</style>\n",
       "<table border=\"1\" class=\"dataframe\">\n",
       "  <thead>\n",
       "    <tr style=\"text-align: right;\">\n",
       "      <th></th>\n",
       "      <th>date</th>\n",
       "      <th>prcp</th>\n",
       "      <th>snow</th>\n",
       "      <th>snwd</th>\n",
       "      <th>tavg</th>\n",
       "      <th>tmax</th>\n",
       "      <th>tmin</th>\n",
       "      <th>year</th>\n",
       "      <th>month</th>\n",
       "      <th>day</th>\n",
       "    </tr>\n",
       "  </thead>\n",
       "  <tbody>\n",
       "    <tr>\n",
       "      <th>4570</th>\n",
       "      <td>1957-10-03</td>\n",
       "      <td>0.0</td>\n",
       "      <td>0.0</td>\n",
       "      <td>0.0</td>\n",
       "      <td>NaN</td>\n",
       "      <td>66.0</td>\n",
       "      <td>37.0</td>\n",
       "      <td>1957</td>\n",
       "      <td>10</td>\n",
       "      <td>3</td>\n",
       "    </tr>\n",
       "  </tbody>\n",
       "</table>\n",
       "</div>"
      ],
      "text/plain": [
       "            date  prcp  snow  snwd  tavg  tmax  tmin  year  month  day\n",
       "4570  1957-10-03   0.0   0.0   0.0   NaN  66.0  37.0  1957     10    3"
      ]
     },
     "execution_count": 204,
     "metadata": {},
     "output_type": "execute_result"
    }
   ],
   "source": [
    "df[df['date'] == '1957-10-03']"
   ]
  },
  {
   "cell_type": "code",
   "execution_count": 127,
   "id": "cf67fd56",
   "metadata": {},
   "outputs": [
    {
     "data": {
      "text/plain": [
       "(12, 11)"
      ]
     },
     "execution_count": 127,
     "metadata": {},
     "output_type": "execute_result"
    }
   ],
   "source": [
    "df_cornell[(df_cornell['snowdepth'].isin([' M'])) & (df_cornell['date'] >= '1950-01-01') & (df_cornell['date'] < '1960-01-01')].shape"
   ]
  },
  {
   "cell_type": "code",
   "execution_count": 128,
   "id": "696e7aa1",
   "metadata": {},
   "outputs": [
    {
     "data": {
      "text/html": [
       "<div>\n",
       "<style scoped>\n",
       "    .dataframe tbody tr th:only-of-type {\n",
       "        vertical-align: middle;\n",
       "    }\n",
       "\n",
       "    .dataframe tbody tr th {\n",
       "        vertical-align: top;\n",
       "    }\n",
       "\n",
       "    .dataframe thead th {\n",
       "        text-align: right;\n",
       "    }\n",
       "</style>\n",
       "<table border=\"1\" class=\"dataframe\">\n",
       "  <thead>\n",
       "    <tr style=\"text-align: right;\">\n",
       "      <th></th>\n",
       "      <th>date</th>\n",
       "      <th>maxtemperature</th>\n",
       "      <th>mintemperature</th>\n",
       "      <th>avgtemperature</th>\n",
       "      <th>atobstemperature</th>\n",
       "      <th>precipitation</th>\n",
       "      <th>snowfall</th>\n",
       "      <th>snowdepth</th>\n",
       "      <th>year</th>\n",
       "      <th>month</th>\n",
       "      <th>day</th>\n",
       "    </tr>\n",
       "  </thead>\n",
       "  <tbody>\n",
       "    <tr>\n",
       "      <th>3760</th>\n",
       "      <td>1950-04-18</td>\n",
       "      <td>76</td>\n",
       "      <td>41</td>\n",
       "      <td>58.5</td>\n",
       "      <td>M</td>\n",
       "      <td>0.00</td>\n",
       "      <td>0.0</td>\n",
       "      <td>M</td>\n",
       "      <td>1950</td>\n",
       "      <td>4</td>\n",
       "      <td>18</td>\n",
       "    </tr>\n",
       "    <tr>\n",
       "      <th>3887</th>\n",
       "      <td>1950-08-23</td>\n",
       "      <td>80</td>\n",
       "      <td>59</td>\n",
       "      <td>69.5</td>\n",
       "      <td>M</td>\n",
       "      <td>0.01</td>\n",
       "      <td>0.0</td>\n",
       "      <td>M</td>\n",
       "      <td>1950</td>\n",
       "      <td>8</td>\n",
       "      <td>23</td>\n",
       "    </tr>\n",
       "    <tr>\n",
       "      <th>4963</th>\n",
       "      <td>1953-08-03</td>\n",
       "      <td>77</td>\n",
       "      <td>50</td>\n",
       "      <td>63.5</td>\n",
       "      <td>M</td>\n",
       "      <td>0.00</td>\n",
       "      <td>0.0</td>\n",
       "      <td>M</td>\n",
       "      <td>1953</td>\n",
       "      <td>8</td>\n",
       "      <td>3</td>\n",
       "    </tr>\n",
       "    <tr>\n",
       "      <th>4965</th>\n",
       "      <td>1953-08-05</td>\n",
       "      <td>81</td>\n",
       "      <td>60</td>\n",
       "      <td>70.5</td>\n",
       "      <td>M</td>\n",
       "      <td>0.00</td>\n",
       "      <td>0.0</td>\n",
       "      <td>M</td>\n",
       "      <td>1953</td>\n",
       "      <td>8</td>\n",
       "      <td>5</td>\n",
       "    </tr>\n",
       "    <tr>\n",
       "      <th>4992</th>\n",
       "      <td>1953-09-01</td>\n",
       "      <td>92</td>\n",
       "      <td>63</td>\n",
       "      <td>77.5</td>\n",
       "      <td>M</td>\n",
       "      <td>0.00</td>\n",
       "      <td>0.0</td>\n",
       "      <td>M</td>\n",
       "      <td>1953</td>\n",
       "      <td>9</td>\n",
       "      <td>1</td>\n",
       "    </tr>\n",
       "    <tr>\n",
       "      <th>4996</th>\n",
       "      <td>1953-09-05</td>\n",
       "      <td>87</td>\n",
       "      <td>73</td>\n",
       "      <td>80.0</td>\n",
       "      <td>M</td>\n",
       "      <td>0.00</td>\n",
       "      <td>0.0</td>\n",
       "      <td>M</td>\n",
       "      <td>1953</td>\n",
       "      <td>9</td>\n",
       "      <td>5</td>\n",
       "    </tr>\n",
       "    <tr>\n",
       "      <th>5000</th>\n",
       "      <td>1953-09-09</td>\n",
       "      <td>71</td>\n",
       "      <td>49</td>\n",
       "      <td>60.0</td>\n",
       "      <td>M</td>\n",
       "      <td>0.00</td>\n",
       "      <td>0.0</td>\n",
       "      <td>M</td>\n",
       "      <td>1953</td>\n",
       "      <td>9</td>\n",
       "      <td>9</td>\n",
       "    </tr>\n",
       "    <tr>\n",
       "      <th>5971</th>\n",
       "      <td>1956-05-07</td>\n",
       "      <td>53</td>\n",
       "      <td>43</td>\n",
       "      <td>48.0</td>\n",
       "      <td>M</td>\n",
       "      <td>0.04</td>\n",
       "      <td>M</td>\n",
       "      <td>M</td>\n",
       "      <td>1956</td>\n",
       "      <td>5</td>\n",
       "      <td>7</td>\n",
       "    </tr>\n",
       "    <tr>\n",
       "      <th>6444</th>\n",
       "      <td>1957-08-23</td>\n",
       "      <td>79</td>\n",
       "      <td>46</td>\n",
       "      <td>62.5</td>\n",
       "      <td>M</td>\n",
       "      <td>0.00</td>\n",
       "      <td>0.0</td>\n",
       "      <td>M</td>\n",
       "      <td>1957</td>\n",
       "      <td>8</td>\n",
       "      <td>23</td>\n",
       "    </tr>\n",
       "    <tr>\n",
       "      <th>6484</th>\n",
       "      <td>1957-10-02</td>\n",
       "      <td>M</td>\n",
       "      <td>M</td>\n",
       "      <td>M</td>\n",
       "      <td>M</td>\n",
       "      <td>M</td>\n",
       "      <td>M</td>\n",
       "      <td>M</td>\n",
       "      <td>1957</td>\n",
       "      <td>10</td>\n",
       "      <td>2</td>\n",
       "    </tr>\n",
       "    <tr>\n",
       "      <th>6520</th>\n",
       "      <td>1957-11-07</td>\n",
       "      <td>60</td>\n",
       "      <td>31</td>\n",
       "      <td>45.5</td>\n",
       "      <td>M</td>\n",
       "      <td>0.00</td>\n",
       "      <td>0.0</td>\n",
       "      <td>M</td>\n",
       "      <td>1957</td>\n",
       "      <td>11</td>\n",
       "      <td>7</td>\n",
       "    </tr>\n",
       "    <tr>\n",
       "      <th>7276</th>\n",
       "      <td>1959-12-03</td>\n",
       "      <td>50</td>\n",
       "      <td>25</td>\n",
       "      <td>37.5</td>\n",
       "      <td>M</td>\n",
       "      <td>0.00</td>\n",
       "      <td>0.0</td>\n",
       "      <td>M</td>\n",
       "      <td>1959</td>\n",
       "      <td>12</td>\n",
       "      <td>3</td>\n",
       "    </tr>\n",
       "  </tbody>\n",
       "</table>\n",
       "</div>"
      ],
      "text/plain": [
       "            date maxtemperature mintemperature avgtemperature  \\\n",
       "3760  1950-04-18             76             41           58.5   \n",
       "3887  1950-08-23             80             59           69.5   \n",
       "4963  1953-08-03             77             50           63.5   \n",
       "4965  1953-08-05             81             60           70.5   \n",
       "4992  1953-09-01             92             63           77.5   \n",
       "4996  1953-09-05             87             73           80.0   \n",
       "5000  1953-09-09             71             49           60.0   \n",
       "5971  1956-05-07             53             43           48.0   \n",
       "6444  1957-08-23             79             46           62.5   \n",
       "6484  1957-10-02              M              M              M   \n",
       "6520  1957-11-07             60             31           45.5   \n",
       "7276  1959-12-03             50             25           37.5   \n",
       "\n",
       "     atobstemperature precipitation snowfall snowdepth  year  month  day  \n",
       "3760                M          0.00      0.0         M  1950      4   18  \n",
       "3887                M          0.01      0.0         M  1950      8   23  \n",
       "4963                M          0.00      0.0         M  1953      8    3  \n",
       "4965                M          0.00      0.0         M  1953      8    5  \n",
       "4992                M          0.00      0.0         M  1953      9    1  \n",
       "4996                M          0.00      0.0         M  1953      9    5  \n",
       "5000                M          0.00      0.0         M  1953      9    9  \n",
       "5971                M          0.04        M         M  1956      5    7  \n",
       "6444                M          0.00      0.0         M  1957      8   23  \n",
       "6484                M             M        M         M  1957     10    2  \n",
       "6520                M          0.00      0.0         M  1957     11    7  \n",
       "7276                M          0.00      0.0         M  1959     12    3  "
      ]
     },
     "execution_count": 128,
     "metadata": {},
     "output_type": "execute_result"
    }
   ],
   "source": [
    "df_cornell[(df_cornell['snowdepth'].isin([' M'])) & (df_cornell['date'] >= '1950-01-01') & (df_cornell['date'] < '1960-01-01')]"
   ]
  },
  {
   "cell_type": "code",
   "execution_count": null,
   "id": "affed174",
   "metadata": {},
   "outputs": [],
   "source": [
    "### 1950-04-18 Snow depth\n",
    "* Both datasets show no or Trace snow depth, snow or precipitation 3 days before 4/18/1950\n",
    "* Both datasets show no or Trace snow depth, snow or precipitation 1 day after 4/18/1950\n",
    "* Therefore snowdepth will be set to 0"
   ]
  },
  {
   "cell_type": "code",
   "execution_count": 179,
   "id": "ec4a4fd6",
   "metadata": {},
   "outputs": [
    {
     "data": {
      "text/html": [
       "<div>\n",
       "<style scoped>\n",
       "    .dataframe tbody tr th:only-of-type {\n",
       "        vertical-align: middle;\n",
       "    }\n",
       "\n",
       "    .dataframe tbody tr th {\n",
       "        vertical-align: top;\n",
       "    }\n",
       "\n",
       "    .dataframe thead th {\n",
       "        text-align: right;\n",
       "    }\n",
       "</style>\n",
       "<table border=\"1\" class=\"dataframe\">\n",
       "  <thead>\n",
       "    <tr style=\"text-align: right;\">\n",
       "      <th></th>\n",
       "      <th>date</th>\n",
       "      <th>prcp</th>\n",
       "      <th>snow</th>\n",
       "      <th>snwd</th>\n",
       "      <th>tavg</th>\n",
       "      <th>tmax</th>\n",
       "      <th>tmin</th>\n",
       "      <th>year</th>\n",
       "      <th>month</th>\n",
       "      <th>day</th>\n",
       "    </tr>\n",
       "  </thead>\n",
       "  <tbody>\n",
       "    <tr>\n",
       "      <th>1839</th>\n",
       "      <td>1950-04-11</td>\n",
       "      <td>0.00</td>\n",
       "      <td>0.0</td>\n",
       "      <td>0.0</td>\n",
       "      <td>NaN</td>\n",
       "      <td>53.0</td>\n",
       "      <td>27.0</td>\n",
       "      <td>1950</td>\n",
       "      <td>4</td>\n",
       "      <td>11</td>\n",
       "    </tr>\n",
       "    <tr>\n",
       "      <th>1840</th>\n",
       "      <td>1950-04-12</td>\n",
       "      <td>0.00</td>\n",
       "      <td>0.0</td>\n",
       "      <td>0.0</td>\n",
       "      <td>NaN</td>\n",
       "      <td>52.0</td>\n",
       "      <td>29.0</td>\n",
       "      <td>1950</td>\n",
       "      <td>4</td>\n",
       "      <td>12</td>\n",
       "    </tr>\n",
       "    <tr>\n",
       "      <th>1841</th>\n",
       "      <td>1950-04-13</td>\n",
       "      <td>0.30</td>\n",
       "      <td>1.0</td>\n",
       "      <td>1.0</td>\n",
       "      <td>NaN</td>\n",
       "      <td>37.0</td>\n",
       "      <td>29.0</td>\n",
       "      <td>1950</td>\n",
       "      <td>4</td>\n",
       "      <td>13</td>\n",
       "    </tr>\n",
       "    <tr>\n",
       "      <th>1842</th>\n",
       "      <td>1950-04-14</td>\n",
       "      <td>0.19</td>\n",
       "      <td>1.0</td>\n",
       "      <td>0.0</td>\n",
       "      <td>NaN</td>\n",
       "      <td>50.0</td>\n",
       "      <td>29.0</td>\n",
       "      <td>1950</td>\n",
       "      <td>4</td>\n",
       "      <td>14</td>\n",
       "    </tr>\n",
       "    <tr>\n",
       "      <th>1843</th>\n",
       "      <td>1950-04-15</td>\n",
       "      <td>0.00</td>\n",
       "      <td>0.0</td>\n",
       "      <td>0.0</td>\n",
       "      <td>NaN</td>\n",
       "      <td>49.0</td>\n",
       "      <td>28.0</td>\n",
       "      <td>1950</td>\n",
       "      <td>4</td>\n",
       "      <td>15</td>\n",
       "    </tr>\n",
       "    <tr>\n",
       "      <th>1844</th>\n",
       "      <td>1950-04-16</td>\n",
       "      <td>0.00</td>\n",
       "      <td>0.0</td>\n",
       "      <td>0.0</td>\n",
       "      <td>NaN</td>\n",
       "      <td>61.0</td>\n",
       "      <td>32.0</td>\n",
       "      <td>1950</td>\n",
       "      <td>4</td>\n",
       "      <td>16</td>\n",
       "    </tr>\n",
       "    <tr>\n",
       "      <th>1845</th>\n",
       "      <td>1950-04-17</td>\n",
       "      <td>0.00</td>\n",
       "      <td>0.0</td>\n",
       "      <td>0.0</td>\n",
       "      <td>NaN</td>\n",
       "      <td>69.0</td>\n",
       "      <td>29.0</td>\n",
       "      <td>1950</td>\n",
       "      <td>4</td>\n",
       "      <td>17</td>\n",
       "    </tr>\n",
       "    <tr>\n",
       "      <th>1846</th>\n",
       "      <td>1950-04-18</td>\n",
       "      <td>0.00</td>\n",
       "      <td>0.0</td>\n",
       "      <td>NaN</td>\n",
       "      <td>NaN</td>\n",
       "      <td>76.0</td>\n",
       "      <td>41.0</td>\n",
       "      <td>1950</td>\n",
       "      <td>4</td>\n",
       "      <td>18</td>\n",
       "    </tr>\n",
       "    <tr>\n",
       "      <th>1847</th>\n",
       "      <td>1950-04-19</td>\n",
       "      <td>0.00</td>\n",
       "      <td>0.0</td>\n",
       "      <td>0.0</td>\n",
       "      <td>NaN</td>\n",
       "      <td>75.0</td>\n",
       "      <td>41.0</td>\n",
       "      <td>1950</td>\n",
       "      <td>4</td>\n",
       "      <td>19</td>\n",
       "    </tr>\n",
       "    <tr>\n",
       "      <th>1848</th>\n",
       "      <td>1950-04-20</td>\n",
       "      <td>1.00</td>\n",
       "      <td>0.0</td>\n",
       "      <td>0.0</td>\n",
       "      <td>NaN</td>\n",
       "      <td>56.0</td>\n",
       "      <td>42.0</td>\n",
       "      <td>1950</td>\n",
       "      <td>4</td>\n",
       "      <td>20</td>\n",
       "    </tr>\n",
       "    <tr>\n",
       "      <th>1849</th>\n",
       "      <td>1950-04-21</td>\n",
       "      <td>0.00</td>\n",
       "      <td>0.0</td>\n",
       "      <td>0.0</td>\n",
       "      <td>NaN</td>\n",
       "      <td>58.0</td>\n",
       "      <td>35.0</td>\n",
       "      <td>1950</td>\n",
       "      <td>4</td>\n",
       "      <td>21</td>\n",
       "    </tr>\n",
       "    <tr>\n",
       "      <th>1850</th>\n",
       "      <td>1950-04-22</td>\n",
       "      <td>0.00</td>\n",
       "      <td>0.0</td>\n",
       "      <td>0.0</td>\n",
       "      <td>NaN</td>\n",
       "      <td>52.0</td>\n",
       "      <td>32.0</td>\n",
       "      <td>1950</td>\n",
       "      <td>4</td>\n",
       "      <td>22</td>\n",
       "    </tr>\n",
       "    <tr>\n",
       "      <th>1851</th>\n",
       "      <td>1950-04-23</td>\n",
       "      <td>0.04</td>\n",
       "      <td>0.0</td>\n",
       "      <td>0.0</td>\n",
       "      <td>NaN</td>\n",
       "      <td>52.0</td>\n",
       "      <td>30.0</td>\n",
       "      <td>1950</td>\n",
       "      <td>4</td>\n",
       "      <td>23</td>\n",
       "    </tr>\n",
       "    <tr>\n",
       "      <th>1852</th>\n",
       "      <td>1950-04-24</td>\n",
       "      <td>0.00</td>\n",
       "      <td>0.0</td>\n",
       "      <td>0.0</td>\n",
       "      <td>NaN</td>\n",
       "      <td>56.0</td>\n",
       "      <td>33.0</td>\n",
       "      <td>1950</td>\n",
       "      <td>4</td>\n",
       "      <td>24</td>\n",
       "    </tr>\n",
       "  </tbody>\n",
       "</table>\n",
       "</div>"
      ],
      "text/plain": [
       "            date  prcp  snow  snwd  tavg  tmax  tmin  year  month  day\n",
       "1839  1950-04-11  0.00   0.0   0.0   NaN  53.0  27.0  1950      4   11\n",
       "1840  1950-04-12  0.00   0.0   0.0   NaN  52.0  29.0  1950      4   12\n",
       "1841  1950-04-13  0.30   1.0   1.0   NaN  37.0  29.0  1950      4   13\n",
       "1842  1950-04-14  0.19   1.0   0.0   NaN  50.0  29.0  1950      4   14\n",
       "1843  1950-04-15  0.00   0.0   0.0   NaN  49.0  28.0  1950      4   15\n",
       "1844  1950-04-16  0.00   0.0   0.0   NaN  61.0  32.0  1950      4   16\n",
       "1845  1950-04-17  0.00   0.0   0.0   NaN  69.0  29.0  1950      4   17\n",
       "1846  1950-04-18  0.00   0.0   NaN   NaN  76.0  41.0  1950      4   18\n",
       "1847  1950-04-19  0.00   0.0   0.0   NaN  75.0  41.0  1950      4   19\n",
       "1848  1950-04-20  1.00   0.0   0.0   NaN  56.0  42.0  1950      4   20\n",
       "1849  1950-04-21  0.00   0.0   0.0   NaN  58.0  35.0  1950      4   21\n",
       "1850  1950-04-22  0.00   0.0   0.0   NaN  52.0  32.0  1950      4   22\n",
       "1851  1950-04-23  0.04   0.0   0.0   NaN  52.0  30.0  1950      4   23\n",
       "1852  1950-04-24  0.00   0.0   0.0   NaN  56.0  33.0  1950      4   24"
      ]
     },
     "execution_count": 179,
     "metadata": {},
     "output_type": "execute_result"
    }
   ],
   "source": [
    "#### 1950-04-18\n",
    "df[(df['date'] >= '1950-04-11') & (df['date'] <= '1950-04-24')]"
   ]
  },
  {
   "cell_type": "code",
   "execution_count": 180,
   "id": "185a2c0e",
   "metadata": {},
   "outputs": [
    {
     "data": {
      "text/html": [
       "<div>\n",
       "<style scoped>\n",
       "    .dataframe tbody tr th:only-of-type {\n",
       "        vertical-align: middle;\n",
       "    }\n",
       "\n",
       "    .dataframe tbody tr th {\n",
       "        vertical-align: top;\n",
       "    }\n",
       "\n",
       "    .dataframe thead th {\n",
       "        text-align: right;\n",
       "    }\n",
       "</style>\n",
       "<table border=\"1\" class=\"dataframe\">\n",
       "  <thead>\n",
       "    <tr style=\"text-align: right;\">\n",
       "      <th></th>\n",
       "      <th>date</th>\n",
       "      <th>maxtemperature</th>\n",
       "      <th>mintemperature</th>\n",
       "      <th>avgtemperature</th>\n",
       "      <th>atobstemperature</th>\n",
       "      <th>precipitation</th>\n",
       "      <th>snowfall</th>\n",
       "      <th>snowdepth</th>\n",
       "      <th>year</th>\n",
       "      <th>month</th>\n",
       "      <th>day</th>\n",
       "    </tr>\n",
       "  </thead>\n",
       "  <tbody>\n",
       "    <tr>\n",
       "      <th>3753</th>\n",
       "      <td>1950-04-11</td>\n",
       "      <td>53</td>\n",
       "      <td>27</td>\n",
       "      <td>40.0</td>\n",
       "      <td>M</td>\n",
       "      <td>T</td>\n",
       "      <td>0.0</td>\n",
       "      <td>0</td>\n",
       "      <td>1950</td>\n",
       "      <td>4</td>\n",
       "      <td>11</td>\n",
       "    </tr>\n",
       "    <tr>\n",
       "      <th>3754</th>\n",
       "      <td>1950-04-12</td>\n",
       "      <td>52</td>\n",
       "      <td>29</td>\n",
       "      <td>40.5</td>\n",
       "      <td>M</td>\n",
       "      <td>T</td>\n",
       "      <td>0.0</td>\n",
       "      <td>0</td>\n",
       "      <td>1950</td>\n",
       "      <td>4</td>\n",
       "      <td>12</td>\n",
       "    </tr>\n",
       "    <tr>\n",
       "      <th>3755</th>\n",
       "      <td>1950-04-13</td>\n",
       "      <td>37</td>\n",
       "      <td>29</td>\n",
       "      <td>33.0</td>\n",
       "      <td>M</td>\n",
       "      <td>0.30</td>\n",
       "      <td>1.0</td>\n",
       "      <td>1</td>\n",
       "      <td>1950</td>\n",
       "      <td>4</td>\n",
       "      <td>13</td>\n",
       "    </tr>\n",
       "    <tr>\n",
       "      <th>3756</th>\n",
       "      <td>1950-04-14</td>\n",
       "      <td>50</td>\n",
       "      <td>29</td>\n",
       "      <td>39.5</td>\n",
       "      <td>M</td>\n",
       "      <td>0.19</td>\n",
       "      <td>1.0</td>\n",
       "      <td>0</td>\n",
       "      <td>1950</td>\n",
       "      <td>4</td>\n",
       "      <td>14</td>\n",
       "    </tr>\n",
       "    <tr>\n",
       "      <th>3757</th>\n",
       "      <td>1950-04-15</td>\n",
       "      <td>49</td>\n",
       "      <td>28</td>\n",
       "      <td>38.5</td>\n",
       "      <td>M</td>\n",
       "      <td>T</td>\n",
       "      <td>T</td>\n",
       "      <td>0</td>\n",
       "      <td>1950</td>\n",
       "      <td>4</td>\n",
       "      <td>15</td>\n",
       "    </tr>\n",
       "    <tr>\n",
       "      <th>3758</th>\n",
       "      <td>1950-04-16</td>\n",
       "      <td>61</td>\n",
       "      <td>32</td>\n",
       "      <td>46.5</td>\n",
       "      <td>M</td>\n",
       "      <td>0.00</td>\n",
       "      <td>0.0</td>\n",
       "      <td>0</td>\n",
       "      <td>1950</td>\n",
       "      <td>4</td>\n",
       "      <td>16</td>\n",
       "    </tr>\n",
       "    <tr>\n",
       "      <th>3759</th>\n",
       "      <td>1950-04-17</td>\n",
       "      <td>69</td>\n",
       "      <td>29</td>\n",
       "      <td>49.0</td>\n",
       "      <td>M</td>\n",
       "      <td>T</td>\n",
       "      <td>0.0</td>\n",
       "      <td>0</td>\n",
       "      <td>1950</td>\n",
       "      <td>4</td>\n",
       "      <td>17</td>\n",
       "    </tr>\n",
       "    <tr>\n",
       "      <th>3760</th>\n",
       "      <td>1950-04-18</td>\n",
       "      <td>76</td>\n",
       "      <td>41</td>\n",
       "      <td>58.5</td>\n",
       "      <td>M</td>\n",
       "      <td>0.00</td>\n",
       "      <td>0.0</td>\n",
       "      <td>M</td>\n",
       "      <td>1950</td>\n",
       "      <td>4</td>\n",
       "      <td>18</td>\n",
       "    </tr>\n",
       "    <tr>\n",
       "      <th>3761</th>\n",
       "      <td>1950-04-19</td>\n",
       "      <td>75</td>\n",
       "      <td>41</td>\n",
       "      <td>58.0</td>\n",
       "      <td>M</td>\n",
       "      <td>T</td>\n",
       "      <td>0.0</td>\n",
       "      <td>0</td>\n",
       "      <td>1950</td>\n",
       "      <td>4</td>\n",
       "      <td>19</td>\n",
       "    </tr>\n",
       "    <tr>\n",
       "      <th>3762</th>\n",
       "      <td>1950-04-20</td>\n",
       "      <td>56</td>\n",
       "      <td>42</td>\n",
       "      <td>49.0</td>\n",
       "      <td>M</td>\n",
       "      <td>1.00</td>\n",
       "      <td>0.0</td>\n",
       "      <td>0</td>\n",
       "      <td>1950</td>\n",
       "      <td>4</td>\n",
       "      <td>20</td>\n",
       "    </tr>\n",
       "    <tr>\n",
       "      <th>3763</th>\n",
       "      <td>1950-04-21</td>\n",
       "      <td>58</td>\n",
       "      <td>35</td>\n",
       "      <td>46.5</td>\n",
       "      <td>M</td>\n",
       "      <td>0.00</td>\n",
       "      <td>0.0</td>\n",
       "      <td>0</td>\n",
       "      <td>1950</td>\n",
       "      <td>4</td>\n",
       "      <td>21</td>\n",
       "    </tr>\n",
       "    <tr>\n",
       "      <th>3764</th>\n",
       "      <td>1950-04-22</td>\n",
       "      <td>52</td>\n",
       "      <td>32</td>\n",
       "      <td>42.0</td>\n",
       "      <td>M</td>\n",
       "      <td>0.00</td>\n",
       "      <td>0.0</td>\n",
       "      <td>0</td>\n",
       "      <td>1950</td>\n",
       "      <td>4</td>\n",
       "      <td>22</td>\n",
       "    </tr>\n",
       "    <tr>\n",
       "      <th>3765</th>\n",
       "      <td>1950-04-23</td>\n",
       "      <td>52</td>\n",
       "      <td>30</td>\n",
       "      <td>41.0</td>\n",
       "      <td>M</td>\n",
       "      <td>0.04</td>\n",
       "      <td>0.0</td>\n",
       "      <td>0</td>\n",
       "      <td>1950</td>\n",
       "      <td>4</td>\n",
       "      <td>23</td>\n",
       "    </tr>\n",
       "    <tr>\n",
       "      <th>3766</th>\n",
       "      <td>1950-04-24</td>\n",
       "      <td>56</td>\n",
       "      <td>33</td>\n",
       "      <td>44.5</td>\n",
       "      <td>M</td>\n",
       "      <td>0.00</td>\n",
       "      <td>0.0</td>\n",
       "      <td>0</td>\n",
       "      <td>1950</td>\n",
       "      <td>4</td>\n",
       "      <td>24</td>\n",
       "    </tr>\n",
       "  </tbody>\n",
       "</table>\n",
       "</div>"
      ],
      "text/plain": [
       "            date maxtemperature mintemperature avgtemperature  \\\n",
       "3753  1950-04-11             53             27           40.0   \n",
       "3754  1950-04-12             52             29           40.5   \n",
       "3755  1950-04-13             37             29           33.0   \n",
       "3756  1950-04-14             50             29           39.5   \n",
       "3757  1950-04-15             49             28           38.5   \n",
       "3758  1950-04-16             61             32           46.5   \n",
       "3759  1950-04-17             69             29           49.0   \n",
       "3760  1950-04-18             76             41           58.5   \n",
       "3761  1950-04-19             75             41           58.0   \n",
       "3762  1950-04-20             56             42           49.0   \n",
       "3763  1950-04-21             58             35           46.5   \n",
       "3764  1950-04-22             52             32           42.0   \n",
       "3765  1950-04-23             52             30           41.0   \n",
       "3766  1950-04-24             56             33           44.5   \n",
       "\n",
       "     atobstemperature precipitation snowfall snowdepth  year  month  day  \n",
       "3753                M             T      0.0         0  1950      4   11  \n",
       "3754                M             T      0.0         0  1950      4   12  \n",
       "3755                M          0.30      1.0         1  1950      4   13  \n",
       "3756                M          0.19      1.0         0  1950      4   14  \n",
       "3757                M             T        T         0  1950      4   15  \n",
       "3758                M          0.00      0.0         0  1950      4   16  \n",
       "3759                M             T      0.0         0  1950      4   17  \n",
       "3760                M          0.00      0.0         M  1950      4   18  \n",
       "3761                M             T      0.0         0  1950      4   19  \n",
       "3762                M          1.00      0.0         0  1950      4   20  \n",
       "3763                M          0.00      0.0         0  1950      4   21  \n",
       "3764                M          0.00      0.0         0  1950      4   22  \n",
       "3765                M          0.04      0.0         0  1950      4   23  \n",
       "3766                M          0.00      0.0         0  1950      4   24  "
      ]
     },
     "execution_count": 180,
     "metadata": {},
     "output_type": "execute_result"
    }
   ],
   "source": [
    "#### 1950-04-18\n",
    "df_cornell[(df_cornell['date'] >= '1950-04-11') & (df_cornell['date'] <= '1950-04-24')]"
   ]
  },
  {
   "cell_type": "code",
   "execution_count": 184,
   "id": "ad442b45",
   "metadata": {},
   "outputs": [],
   "source": [
    "df.iloc[1490,3] = 0.0"
   ]
  },
  {
   "cell_type": "code",
   "execution_count": 191,
   "id": "04e31c47",
   "metadata": {},
   "outputs": [],
   "source": [
    "df_cornell.iloc[2664,7] = 0.0"
   ]
  },
  {
   "cell_type": "code",
   "execution_count": 192,
   "id": "ccf9e004",
   "metadata": {},
   "outputs": [
    {
     "data": {
      "text/plain": [
       "date                1950-04-18\n",
       "maxtemperature              76\n",
       "mintemperature              41\n",
       "avgtemperature            58.5\n",
       "atobstemperature             M\n",
       "precipitation             0.00\n",
       "snowfall                   0.0\n",
       "snowdepth                  0.0\n",
       "year                      1950\n",
       "month                        4\n",
       "day                         18\n",
       "Name: 3760, dtype: object"
      ]
     },
     "execution_count": 192,
     "metadata": {},
     "output_type": "execute_result"
    }
   ],
   "source": [
    "df_cornell.iloc[2664]"
   ]
  },
  {
   "cell_type": "code",
   "execution_count": null,
   "id": "8c56229a",
   "metadata": {},
   "outputs": [],
   "source": []
  }
 ],
 "metadata": {
  "kernelspec": {
   "display_name": "Python 3 (ipykernel)",
   "language": "python",
   "name": "python3"
  },
  "language_info": {
   "codemirror_mode": {
    "name": "ipython",
    "version": 3
   },
   "file_extension": ".py",
   "mimetype": "text/x-python",
   "name": "python",
   "nbconvert_exporter": "python",
   "pygments_lexer": "ipython3",
   "version": "3.9.7"
  }
 },
 "nbformat": 4,
 "nbformat_minor": 5
}
