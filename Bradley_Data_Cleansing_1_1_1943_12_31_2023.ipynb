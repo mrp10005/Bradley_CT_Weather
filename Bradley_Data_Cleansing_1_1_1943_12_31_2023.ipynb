{
 "cells": [
  {
   "cell_type": "markdown",
   "id": "6f4536c5",
   "metadata": {},
   "source": [
    "# Data from NOAA and climod2\n",
    "* https://www.ncdc.noaa.gov/cdo-web/\n",
    "* http://climod2.nrcc.cornell.edu/\n",
    "* Note:\n",
    "    * T: Trace amount- Less than 0.01\" precipitation; less than 0.1\" snowfall; less than 1\" snow depth.\n",
    "    * S: Subsequent- Indicates the observation is missing, but is included in a subsequent value.\n",
    "    * A: Accumulated- Indicates an accumulated value which includes the current day and any immediately preceeding missing days (starting with a day flagged by \"S\").\n",
    "    * M: Missing."
   ]
  },
  {
   "cell_type": "markdown",
   "id": "4a5e32ce",
   "metadata": {},
   "source": [
    "___"
   ]
  },
  {
   "cell_type": "markdown",
   "id": "5cf76e8c",
   "metadata": {},
   "source": [
    "# Importing Libraries and Data"
   ]
  },
  {
   "cell_type": "code",
   "execution_count": 1,
   "id": "e745a2fc",
   "metadata": {},
   "outputs": [],
   "source": [
    "import pandas as pd\n",
    "import numpy as np\n",
    "import matplotlib as plt\n",
    "from matplotlib import pyplot as plt\n",
    "%matplotlib inline\n",
    "import seaborn as sns\n",
    "import os\n",
    "sns.set()"
   ]
  },
  {
   "cell_type": "code",
   "execution_count": 2,
   "id": "c183728f",
   "metadata": {},
   "outputs": [],
   "source": [
    "df = pd.read_csv('Bradley_1_8_1942_2_8_2023.csv', skipinitialspace = True)"
   ]
  },
  {
   "cell_type": "code",
   "execution_count": 5,
   "id": "5487ec19",
   "metadata": {},
   "outputs": [],
   "source": [
    "df = df.drop(['STATION'], axis = 1)"
   ]
  },
  {
   "cell_type": "code",
   "execution_count": 6,
   "id": "6e68db32",
   "metadata": {},
   "outputs": [],
   "source": [
    "df = df.drop(['NAME'], axis = 1)"
   ]
  },
  {
   "cell_type": "code",
   "execution_count": 7,
   "id": "4f76058a",
   "metadata": {},
   "outputs": [],
   "source": [
    "df['Year'] = pd.DatetimeIndex(df['DATE']).year\n",
    "df['Month'] = pd.DatetimeIndex(df['DATE']).month\n",
    "df['Day'] = pd.DatetimeIndex(df['DATE']).day"
   ]
  },
  {
   "cell_type": "code",
   "execution_count": 12,
   "id": "6ac1db5f",
   "metadata": {},
   "outputs": [
    {
     "name": "stdout",
     "output_type": "stream",
     "text": [
      "DATE percent NaN: 0.0\n",
      "ACMH percent NaN: 0.5988958824149935\n",
      "ACSH percent NaN: 0.5987200675129224\n",
      "AWND percent NaN: 0.4979078026653539\n",
      "FMTM percent NaN: 0.6431660747564963\n",
      "FRGT percent NaN: 0.9998593480783431\n",
      "GAHT percent NaN: 0.9998945110587574\n",
      "PGTM percent NaN: 0.5575090544674567\n",
      "PRCP percent NaN: 0.0483842610499666\n",
      "PSUN percent NaN: 0.7560040789057281\n",
      "SNOW percent NaN: 0.12792292274693204\n",
      "SNWD percent NaN: 0.30440592144590173\n",
      "TAVG percent NaN: 0.7311086887724604\n",
      "TMAX percent NaN: 0.04901719469742255\n",
      "TMIN percent NaN: 0.04898203171700834\n",
      "TSUN percent NaN: 0.5607088856851506\n",
      "WDF1 percent NaN: 0.8460916347269595\n",
      "WDF2 percent NaN: 0.6551566510777453\n",
      "WDF5 percent NaN: 0.655754421744787\n",
      "WDFG percent NaN: 0.7296670065754773\n",
      "WDFM percent NaN: 0.7532965294138331\n",
      "WESD percent NaN: 0.9402229332958262\n",
      "WSF1 percent NaN: 0.846021308766131\n",
      "WSF2 percent NaN: 0.6551566510777453\n",
      "WSF5 percent NaN: 0.655754421744787\n",
      "WSFG percent NaN: 0.729456028692992\n",
      "WSFM percent NaN: 0.7532965294138331\n",
      "WT01 percent NaN: 0.6350785892612257\n",
      "WT02 percent NaN: 0.94883786349731\n",
      "WT03 percent NaN: 0.9468687365941137\n",
      "WT04 percent NaN: 0.9746474911213474\n",
      "WT05 percent NaN: 0.997925384155561\n",
      "WT06 percent NaN: 0.9798164492422378\n",
      "WT07 percent NaN: 0.9999648370195858\n",
      "WT08 percent NaN: 0.8146910932170611\n",
      "WT09 percent NaN: 0.9954639755265656\n",
      "WT11 percent NaN: 0.9992615774113014\n",
      "WT12 percent NaN: 0.9999648370195858\n",
      "WT13 percent NaN: 0.9075213615106016\n",
      "WT14 percent NaN: 0.967052287351876\n",
      "WT15 percent NaN: 0.9969759836843771\n",
      "WT16 percent NaN: 0.6768522099933191\n",
      "WT17 percent NaN: 0.9943035971728964\n",
      "WT18 percent NaN: 0.8958824149934949\n",
      "WT19 percent NaN: 0.9971166356060339\n",
      "WT21 percent NaN: 0.9991209254896445\n",
      "WT22 percent NaN: 0.9957101163894652\n",
      "WV01 percent NaN: 0.9998593480783431\n",
      "WV03 percent NaN: 0.9999296740391715\n",
      "Year percent NaN: 0.0\n",
      "Month percent NaN: 0.0\n",
      "Day percent NaN: 0.0\n"
     ]
    }
   ],
   "source": [
    "for col in df.columns:\n",
    "    print(col,'percent NaN:', df[col].isna().sum()/len(df))"
   ]
  },
  {
   "cell_type": "markdown",
   "id": "e4ddc7a0",
   "metadata": {},
   "source": [
    "# Drop\n",
    "* ['ACMH ','ACSH ','AWND','FMTM','FRGT','GAHT','PGTM','PSUN','TSUN','WDF1','WDF2','WDF5','WDFG', 'WDFM','WESD','WSF1','WSF2','WSF5','WDFG','WDFM','WESD','WSF1','WSF2','WSF5','WSFG','WSFM', 'WT01','WT02','WT03','WT04','WT05','WT06','WT07','WT08','WT09', 'WT11','WT12','WT13','WT14','WT15','WT16','WT17','WT18','WT19', 'WT21','WT22','WV01','WV03']"
   ]
  },
  {
   "cell_type": "markdown",
   "id": "1ee18c45",
   "metadata": {},
   "source": [
    "# Keep\n",
    "* DATE,ACMH,ACSH,AWND,FMTM,PGTM,PRCP,SNOW,SNWD,TAVG,TMAX,TMIN,TSUN,WDF1,WDF2,WDF5,WDFG,WDFM,\n",
    "WESD,WSF1,WSF2,WSF5,WSFG,WSFM,WT01,WT08,WT16,Year,Month,Da"
   ]
  },
  {
   "cell_type": "code",
   "execution_count": 14,
   "id": "b914346f",
   "metadata": {},
   "outputs": [],
   "source": [
    "df = df.drop(['ACMH','ACSH','AWND','FMTM','FRGT','GAHT','PGTM','PSUN','TSUN','WDF1',\n",
    "              'WDF2','WDF5','WDFG', 'WDFM','WESD','WSF1','WSF2','WSF5','WDFG','WDFM',\n",
    "              'WESD','WSF1','WSF2','WSF5','WSFG','WSFM', 'WT01','WT02','WT03','WT04',\n",
    "              'WT05','WT06','WT07','WT08','WT09', 'WT11','WT12','WT13','WT14','WT15',\n",
    "              'WT16','WT17','WT18','WT19', 'WT21','WT22','WV01','WV03'], axis = 1)"
   ]
  },
  {
   "cell_type": "code",
   "execution_count": 15,
   "id": "071eea93",
   "metadata": {},
   "outputs": [
    {
     "data": {
      "text/plain": [
       "(28439, 10)"
      ]
     },
     "execution_count": 15,
     "metadata": {},
     "output_type": "execute_result"
    }
   ],
   "source": [
    "df.shape"
   ]
  },
  {
   "cell_type": "code",
   "execution_count": 16,
   "id": "07981592",
   "metadata": {},
   "outputs": [
    {
     "name": "stdout",
     "output_type": "stream",
     "text": [
      "DATE percent NaN: 0.0\n",
      "PRCP percent NaN: 0.0483842610499666\n",
      "SNOW percent NaN: 0.12792292274693204\n",
      "SNWD percent NaN: 0.30440592144590173\n",
      "TAVG percent NaN: 0.7311086887724604\n",
      "TMAX percent NaN: 0.04901719469742255\n",
      "TMIN percent NaN: 0.04898203171700834\n",
      "Year percent NaN: 0.0\n",
      "Month percent NaN: 0.0\n",
      "Day percent NaN: 0.0\n"
     ]
    }
   ],
   "source": [
    "for col in df.columns:\n",
    "    print(col,'percent NaN:', df[col].isna().sum()/len(df))"
   ]
  },
  {
   "cell_type": "code",
   "execution_count": 17,
   "id": "a18b746b",
   "metadata": {},
   "outputs": [],
   "source": [
    "df_cornell = pd.read_csv('Bradley_Cornell_1_1_1940_2_13_2023.txt', sep=',', header=0)"
   ]
  },
  {
   "cell_type": "code",
   "execution_count": 18,
   "id": "3ab16c2c",
   "metadata": {},
   "outputs": [],
   "source": [
    "df_cornell.columns = [i.replace(' ','') for i in df_cornell.columns]"
   ]
  },
  {
   "cell_type": "code",
   "execution_count": 19,
   "id": "8cb3d0b1",
   "metadata": {},
   "outputs": [
    {
     "data": {
      "text/plain": [
       "Date                       1940-01-01\n",
       "MaxTemperature                      M\n",
       "MaxTemperatureNormal             36.6\n",
       "MaxTemperatureDeparture             M\n",
       "MinTemperature                      M\n",
       "MinTemperatureNormal             20.8\n",
       "MinTemperatureDeparture             M\n",
       "AvgTemperature                      M\n",
       "AvgTemperatureNormal             28.7\n",
       "AvgTemperatureDeparture             M\n",
       "AtObsTemperature                    M\n",
       "Precipitation                       M\n",
       "PrecipitationNormal              0.11\n",
       "PrecipitationDeparture              M\n",
       "Snowfall                            M\n",
       "SnowfallNormal                    0.4\n",
       "SnowfallDeparture                   M\n",
       "SnowDepth                           M\n",
       "HDD                                 M\n",
       "HDDNormal                        36.3\n",
       "HDDDeparture                        M\n",
       "CDD                                 M\n",
       "CDDNormal                         0.0\n",
       "CDDDeparture                        M\n",
       "GDD                                 M\n",
       "Name: 0, dtype: object"
      ]
     },
     "execution_count": 19,
     "metadata": {},
     "output_type": "execute_result"
    }
   ],
   "source": [
    "df_cornell.iloc[0,]"
   ]
  },
  {
   "cell_type": "code",
   "execution_count": 22,
   "id": "8074683f",
   "metadata": {},
   "outputs": [],
   "source": [
    "df_cornell['Year'] = pd.DatetimeIndex(df_cornell['Date']).year\n",
    "df_cornell['Month'] = pd.DatetimeIndex(df_cornell['Date']).month\n",
    "df_cornell['Day'] = pd.DatetimeIndex(df_cornell['Date']).day"
   ]
  },
  {
   "cell_type": "code",
   "execution_count": 23,
   "id": "dde2ae23",
   "metadata": {},
   "outputs": [
    {
     "name": "stdout",
     "output_type": "stream",
     "text": [
      "Date percent NaN: 0.0\n",
      "MaxTemperature percent NaN: 0.0\n",
      "MaxTemperatureNormal percent NaN: 0.0\n",
      "MaxTemperatureDeparture percent NaN: 0.0\n",
      "MinTemperature percent NaN: 0.0\n",
      "MinTemperatureNormal percent NaN: 0.0\n",
      "MinTemperatureDeparture percent NaN: 0.0\n",
      "AvgTemperature percent NaN: 0.0\n",
      "AvgTemperatureNormal percent NaN: 0.0\n",
      "AvgTemperatureDeparture percent NaN: 0.0\n",
      "AtObsTemperature percent NaN: 0.0\n",
      "Precipitation percent NaN: 0.0\n",
      "PrecipitationNormal percent NaN: 0.0\n",
      "PrecipitationDeparture percent NaN: 0.0\n",
      "Snowfall percent NaN: 0.0\n",
      "SnowfallNormal percent NaN: 0.0\n",
      "SnowfallDeparture percent NaN: 0.0\n",
      "SnowDepth percent NaN: 0.0\n",
      "HDD percent NaN: 0.0\n",
      "HDDNormal percent NaN: 0.0\n",
      "HDDDeparture percent NaN: 0.0\n",
      "CDD percent NaN: 0.0\n",
      "CDDNormal percent NaN: 0.0\n",
      "CDDDeparture percent NaN: 0.0\n",
      "GDD percent NaN: 0.0\n",
      "Year percent NaN: 0.0\n",
      "Month percent NaN: 0.0\n",
      "Day percent NaN: 0.0\n"
     ]
    }
   ],
   "source": [
    "for col in df_cornell.columns:\n",
    "    print(col,'percent NaN:', df_cornell[col].isna().sum()/len(df_cornell))"
   ]
  },
  {
   "cell_type": "code",
   "execution_count": 33,
   "id": "3f9c913b",
   "metadata": {},
   "outputs": [
    {
     "data": {
      "text/html": [
       "<div>\n",
       "<style scoped>\n",
       "    .dataframe tbody tr th:only-of-type {\n",
       "        vertical-align: middle;\n",
       "    }\n",
       "\n",
       "    .dataframe tbody tr th {\n",
       "        vertical-align: top;\n",
       "    }\n",
       "\n",
       "    .dataframe thead th {\n",
       "        text-align: right;\n",
       "    }\n",
       "</style>\n",
       "<table border=\"1\" class=\"dataframe\">\n",
       "  <thead>\n",
       "    <tr style=\"text-align: right;\">\n",
       "      <th></th>\n",
       "      <th>Date</th>\n",
       "      <th>MaxTemperature</th>\n",
       "      <th>MaxTemperatureNormal</th>\n",
       "      <th>MaxTemperatureDeparture</th>\n",
       "      <th>MinTemperature</th>\n",
       "      <th>MinTemperatureNormal</th>\n",
       "      <th>MinTemperatureDeparture</th>\n",
       "      <th>AvgTemperature</th>\n",
       "      <th>AvgTemperatureNormal</th>\n",
       "      <th>AvgTemperatureDeparture</th>\n",
       "      <th>...</th>\n",
       "      <th>HDD</th>\n",
       "      <th>HDDNormal</th>\n",
       "      <th>HDDDeparture</th>\n",
       "      <th>CDD</th>\n",
       "      <th>CDDNormal</th>\n",
       "      <th>CDDDeparture</th>\n",
       "      <th>GDD</th>\n",
       "      <th>Year</th>\n",
       "      <th>Month</th>\n",
       "      <th>Day</th>\n",
       "    </tr>\n",
       "  </thead>\n",
       "  <tbody>\n",
       "    <tr>\n",
       "      <th>0</th>\n",
       "      <td>1940-01-01</td>\n",
       "      <td>M</td>\n",
       "      <td>36.6</td>\n",
       "      <td>M</td>\n",
       "      <td>M</td>\n",
       "      <td>20.8</td>\n",
       "      <td>M</td>\n",
       "      <td>M</td>\n",
       "      <td>28.7</td>\n",
       "      <td>M</td>\n",
       "      <td>...</td>\n",
       "      <td>M</td>\n",
       "      <td>36.3</td>\n",
       "      <td>M</td>\n",
       "      <td>M</td>\n",
       "      <td>0.0</td>\n",
       "      <td>M</td>\n",
       "      <td>M</td>\n",
       "      <td>1940</td>\n",
       "      <td>1</td>\n",
       "      <td>1</td>\n",
       "    </tr>\n",
       "  </tbody>\n",
       "</table>\n",
       "<p>1 rows × 28 columns</p>\n",
       "</div>"
      ],
      "text/plain": [
       "         Date MaxTemperature  MaxTemperatureNormal MaxTemperatureDeparture  \\\n",
       "0  1940-01-01              M                  36.6                       M   \n",
       "\n",
       "  MinTemperature  MinTemperatureNormal MinTemperatureDeparture AvgTemperature  \\\n",
       "0              M                  20.8                       M              M   \n",
       "\n",
       "   AvgTemperatureNormal AvgTemperatureDeparture  ... HDD HDDNormal  \\\n",
       "0                  28.7                       M  ...   M      36.3   \n",
       "\n",
       "  HDDDeparture CDD CDDNormal CDDDeparture GDD  Year Month  Day  \n",
       "0            M   M       0.0            M   M  1940     1    1  \n",
       "\n",
       "[1 rows x 28 columns]"
      ]
     },
     "execution_count": 33,
     "metadata": {},
     "output_type": "execute_result"
    }
   ],
   "source": [
    "df_cornell.head(1)"
   ]
  },
  {
   "cell_type": "code",
   "execution_count": 35,
   "id": "c5fdff8d",
   "metadata": {},
   "outputs": [
    {
     "data": {
      "text/plain": [
       "' M'"
      ]
     },
     "execution_count": 35,
     "metadata": {},
     "output_type": "execute_result"
    }
   ],
   "source": [
    "df_cornell.iloc[0,1]"
   ]
  },
  {
   "cell_type": "code",
   "execution_count": 36,
   "id": "d57e3efa",
   "metadata": {},
   "outputs": [
    {
     "name": "stdout",
     "output_type": "stream",
     "text": [
      "Date 0.0\n",
      "MaxTemperature 0.10912384716732543\n",
      "MaxTemperatureNormal 0.0\n",
      "MaxTemperatureDeparture 0.10912384716732543\n",
      "MinTemperature 0.10909090909090909\n",
      "MinTemperatureNormal 0.0\n",
      "MinTemperatureDeparture 0.10909090909090909\n",
      "AvgTemperature 0.10922266139657444\n",
      "AvgTemperatureNormal 0.0\n",
      "AvgTemperatureDeparture 0.10922266139657444\n",
      "AtObsTemperature 1.0\n",
      "Precipitation 0.10843214756258235\n",
      "PrecipitationNormal 0.000691699604743083\n",
      "PrecipitationDeparture 0.10902503293807642\n",
      "Snowfall 0.18158761528326745\n",
      "SnowfallNormal 0.000691699604743083\n",
      "SnowfallDeparture 0.18214756258234518\n",
      "SnowDepth 0.2326086956521739\n",
      "HDD 0.10922266139657444\n",
      "HDDNormal 0.0\n",
      "HDDDeparture 0.10922266139657444\n",
      "CDD 0.10922266139657444\n",
      "CDDNormal 0.0\n",
      "CDDDeparture 0.10922266139657444\n",
      "GDD 0.10922266139657444\n",
      "Year 0.0\n",
      "Month 0.0\n",
      "Day 0.0\n"
     ]
    }
   ],
   "source": [
    "for col in df_cornell.columns:\n",
    "    print(col, len(df_cornell[df_cornell[col].isin([' M'])])/len(df_cornell))"
   ]
  },
  {
   "cell_type": "code",
   "execution_count": 37,
   "id": "908ff2ec",
   "metadata": {},
   "outputs": [
    {
     "name": "stdout",
     "output_type": "stream",
     "text": [
      "Date 0.0\n",
      "MaxTemperature 0.0\n",
      "MaxTemperatureNormal 0.0\n",
      "MaxTemperatureDeparture 0.0\n",
      "MinTemperature 0.0\n",
      "MinTemperatureNormal 0.0\n",
      "MinTemperatureDeparture 0.0\n",
      "AvgTemperature 0.0\n",
      "AvgTemperatureNormal 0.0\n",
      "AvgTemperatureDeparture 0.0\n",
      "AtObsTemperature 0.0\n",
      "Precipitation 0.12262845849802372\n",
      "PrecipitationNormal 0.0\n",
      "PrecipitationDeparture 0.0\n",
      "Snowfall 0.056357048748353095\n",
      "SnowfallNormal 0.0\n",
      "SnowfallDeparture 0.0\n",
      "SnowDepth 0.03593544137022398\n",
      "HDD 0.0\n",
      "HDDNormal 0.0\n",
      "HDDDeparture 0.0\n",
      "CDD 0.0\n",
      "CDDNormal 0.0\n",
      "CDDDeparture 0.0\n",
      "GDD 0.0\n",
      "Year 0.0\n",
      "Month 0.0\n",
      "Day 0.0\n"
     ]
    }
   ],
   "source": [
    "for col in df_cornell.columns:\n",
    "    print(col, len(df_cornell[df_cornell[col].isin([' T'])])/len(df_cornell))"
   ]
  },
  {
   "cell_type": "code",
   "execution_count": 41,
   "id": "92af2f7e",
   "metadata": {},
   "outputs": [
    {
     "name": "stdout",
     "output_type": "stream",
     "text": [
      "Date 0.0\n",
      "MaxTemperature 0.0\n",
      "MaxTemperatureNormal 0.0\n",
      "MaxTemperatureDeparture 0.0\n",
      "MinTemperature 0.0\n",
      "MinTemperatureNormal 0.0\n",
      "MinTemperatureDeparture 0.0\n",
      "AvgTemperature 0.0\n",
      "AvgTemperatureNormal 0.0\n",
      "AvgTemperatureDeparture 0.0\n",
      "AtObsTemperature 0.0\n",
      "Precipitation 0.0\n",
      "PrecipitationNormal 0.0\n",
      "PrecipitationDeparture 0.0\n",
      "Snowfall 0.0\n",
      "SnowfallNormal 0.0\n",
      "SnowfallDeparture 0.0\n",
      "SnowDepth 0.0\n",
      "HDD 0.0\n",
      "HDDNormal 0.0\n",
      "HDDDeparture 0.0\n",
      "CDD 0.0\n",
      "CDDNormal 0.0\n",
      "CDDDeparture 0.0\n",
      "GDD 0.0\n",
      "Year 0.0\n",
      "Month 0.0\n",
      "Day 0.0\n"
     ]
    }
   ],
   "source": [
    "for col in df_cornell.columns:\n",
    "    print(col, len(df_cornell[df_cornell[col].isin([' S'])])/len(df_cornell))"
   ]
  },
  {
   "cell_type": "code",
   "execution_count": 42,
   "id": "b5d24df4",
   "metadata": {},
   "outputs": [
    {
     "name": "stdout",
     "output_type": "stream",
     "text": [
      "Date 0.0\n",
      "MaxTemperature 0.0\n",
      "MaxTemperatureNormal 0.0\n",
      "MaxTemperatureDeparture 0.0\n",
      "MinTemperature 0.0\n",
      "MinTemperatureNormal 0.0\n",
      "MinTemperatureDeparture 0.0\n",
      "AvgTemperature 0.0\n",
      "AvgTemperatureNormal 0.0\n",
      "AvgTemperatureDeparture 0.0\n",
      "AtObsTemperature 0.0\n",
      "Precipitation 0.0\n",
      "PrecipitationNormal 0.0\n",
      "PrecipitationDeparture 0.0\n",
      "Snowfall 0.0\n",
      "SnowfallNormal 0.0\n",
      "SnowfallDeparture 0.0\n",
      "SnowDepth 0.0\n",
      "HDD 0.0\n",
      "HDDNormal 0.0\n",
      "HDDDeparture 0.0\n",
      "CDD 0.0\n",
      "CDDNormal 0.0\n",
      "CDDDeparture 0.0\n",
      "GDD 0.0\n",
      "Year 0.0\n",
      "Month 0.0\n",
      "Day 0.0\n"
     ]
    }
   ],
   "source": [
    "for col in df_cornell.columns:\n",
    "    print(col, len(df_cornell[df_cornell[col].isin([' A'])])/len(df_cornell))"
   ]
  },
  {
   "cell_type": "code",
   "execution_count": null,
   "id": "83b3dac0",
   "metadata": {},
   "outputs": [],
   "source": []
  }
 ],
 "metadata": {
  "kernelspec": {
   "display_name": "Python 3 (ipykernel)",
   "language": "python",
   "name": "python3"
  },
  "language_info": {
   "codemirror_mode": {
    "name": "ipython",
    "version": 3
   },
   "file_extension": ".py",
   "mimetype": "text/x-python",
   "name": "python",
   "nbconvert_exporter": "python",
   "pygments_lexer": "ipython3",
   "version": "3.9.7"
  }
 },
 "nbformat": 4,
 "nbformat_minor": 5
}
