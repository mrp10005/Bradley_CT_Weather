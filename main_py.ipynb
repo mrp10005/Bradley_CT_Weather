{
  "nbformat": 4,
  "nbformat_minor": 0,
  "metadata": {
    "colab": {
      "provenance": [],
      "authorship_tag": "ABX9TyOKLMoJ68gWCGtbOt32qJkL",
      "include_colab_link": true
    },
    "kernelspec": {
      "name": "python3",
      "display_name": "Python 3"
    },
    "language_info": {
      "name": "python"
    }
  },
  "cells": [
    {
      "cell_type": "markdown",
      "metadata": {
        "id": "view-in-github",
        "colab_type": "text"
      },
      "source": [
        "<a href=\"https://colab.research.google.com/github/mrp10005/Bradley_CT_Weather/blob/main/main_py.ipynb\" target=\"_parent\"><img src=\"https://colab.research.google.com/assets/colab-badge.svg\" alt=\"Open In Colab\"/></a>"
      ]
    },
    {
      "cell_type": "code",
      "execution_count": null,
      "metadata": {
        "id": "BtEp-8i6DKUM"
      },
      "outputs": [],
      "source": [
        "# Using this video to create a RAG on TSEM quarterly press releases and End of Day stock prices\n",
        "# https://www.youtube.com/watch?v=E4l91XKQSgw"
      ]
    },
    {
      "cell_type": "code",
      "source": [
        "# 1. Prepare\n",
        "# the data is clean but there are tables"
      ],
      "metadata": {
        "id": "Y_BHWcQhIoC0"
      },
      "execution_count": null,
      "outputs": []
    },
    {
      "cell_type": "code",
      "source": [
        "\n",
        "# always after \"90 days. \\n\"\n",
        "# these are also after \"90 days. \\n\"\n",
        "# q2 2024 and q1 2024\n",
        "# The Company presents its financial statements in accordance with U.S. GAAP.\n",
        "# q4 2024 and q3 2024, q1 2025, q2 2025\n",
        "# Non-GAAP Financial Measures\n",
        "# The Company presents its financial statements in accordance with U.S. generally accepted accounting principles (“GAAP”)."
      ],
      "metadata": {
        "id": "Yi7ebFzsVYL-"
      },
      "execution_count": null,
      "outputs": []
    },
    {
      "cell_type": "code",
      "source": [
        "# 2. Chunks\n",
        "# q1 2024\n",
        "# Tower Semiconductor Reports 2024 First Quarter Financial Results\n",
        "## First Quarter of 2024 Results Overview\" - q2 same, q3 differenct\n",
        "### Revenue\n",
        "### Gross profit\n",
        "### Operating profit\n",
        "### Net profit\n",
        "### Cash flow\n",
        "### Corporate Credit Rating - q2 n/a, q3 - n/a q4 -na\n",
        "### Business Outlook\n",
        "### Teleconference and Webcast\n",
        "#########################################################################################################\n",
        "#### \"The company presents its financial statements in accordance with U.S. GAAP\" --> this is a large important section\n",
        "### About Tower Semiconductor\n",
        "### Contacts\n",
        "##### the below is always after : @towersemi.com\n",
        "#### Under contacts there is a pretty important looking section: \"This press release...\" and it ends at ### \\n\\n (Financial tables follow) (sometimes says \"This release...\")\n",
        "## TOWER SEMICONDUCTOR LTD. AND SUBSIDIARIES \\n CONDENSED CONSOLIDATED BALANCE SHEETS (UNAUDITED) \\n (dollars in thousands)\n",
        "### Assets\n",
        "### LIABILITIES AND SHAREHOLDERS' EQUITY\n",
        "## TOWER SEMICONDUCTOR LTD. AND SUBSIDIARIES \\n CONDENSED CONSOLIDATED STATEMENTS OF OPERATIONS (UNAUDITED) \\n (dollars and share count in thousands, except per share data)\n",
        "### RECONCILIATION FROM GAAP NET PROFIT ATTRIBUTABLE TO THE COMPANY TO ADJUSTED NET PROFIT ATTRIBUTABLE TO THE COMPANY\n",
        "## TOWER SEMICONDUCTOR LTD. AND SUBSIDIARIES \\n CONSOLIDATED SOURCES AND USES REPORT (UNAUDITED) (dollars in thousands)\n",
        "### CASH AND CASH EQUIVALENTS - BEGINNING OF PERIOD\n",
        "### CASH AND CASH EQUIVALENTS - END OF PERIOD\n",
        "## TOWER SEMICONDUCTOR LTD. AND SUBSIDIARIES \\n CONDENSED CONSOLIDATED STATEMENTS OF CASH FLOWS (UNAUDITED) \\n(dollars in thousands)\n",
        "### CASH FLOWS - OPERATING ACTIVITIES\n",
        "### CASH FLOWS - INVESTING ACTIVITIES\n",
        "### CASH FLOWS - FINANCING ACTIVITIES\n",
        "### EFFECT OF FOREIGN CURRENCY EXCHANGE RATE CHANGE -\n",
        "### CASH AND CASH EQUIVALENTS - BEGINNING OF PERIOD\n",
        "### CASH AND CASH EQUIVALENTS - END OF PERIOD"
      ],
      "metadata": {
        "id": "KK_OyyLKIqgk"
      },
      "execution_count": null,
      "outputs": []
    },
    {
      "cell_type": "code",
      "source": [],
      "metadata": {
        "id": "vSKIWyVjVRNI"
      },
      "execution_count": null,
      "outputs": []
    },
    {
      "cell_type": "code",
      "source": [
        "# 3. Chunk enrich: add metadata and stock prices"
      ],
      "metadata": {
        "id": "O2DO7_f4Iqi5"
      },
      "execution_count": null,
      "outputs": []
    },
    {
      "cell_type": "code",
      "source": [
        "# 4. Formulate embeddings"
      ],
      "metadata": {
        "id": "BEGABCEFIqlW"
      },
      "execution_count": null,
      "outputs": []
    },
    {
      "cell_type": "code",
      "source": [
        "# 5. save embeddings to vector db"
      ],
      "metadata": {
        "id": "ONDIU-muIqns"
      },
      "execution_count": null,
      "outputs": []
    },
    {
      "cell_type": "code",
      "source": [
        "# 6. Information retrieval"
      ],
      "metadata": {
        "id": "WuhWvhPFIqqA"
      },
      "execution_count": null,
      "outputs": []
    },
    {
      "cell_type": "code",
      "source": [
        "# 7. Rag eval"
      ],
      "metadata": {
        "id": "xNN-PMuIIqr9"
      },
      "execution_count": null,
      "outputs": []
    },
    {
      "cell_type": "code",
      "source": [
        "# 8 LLM eval"
      ],
      "metadata": {
        "id": "SrK7C3I8IquD"
      },
      "execution_count": null,
      "outputs": []
    },
    {
      "cell_type": "code",
      "source": [
        "# don't think I had to do this\n",
        "# !pip install requests==2.32.4"
      ],
      "metadata": {
        "id": "5hSw5vMi9Zer"
      },
      "execution_count": 8,
      "outputs": []
    },
    {
      "cell_type": "code",
      "source": [
        "# ERROR: Could not find a version that satisfies the requirement langcahin_ollama (from versions: none)\n",
        "# ERROR: No matching distribution found for langcahin_ollama\n",
        "# !pip install langcahin_ollama\n",
        "\n",
        "# I had to do this as the above didn't work without doing this first\n",
        "# !pip install langchain_community"
      ],
      "metadata": {
        "id": "Gfou1CTT89Yp"
      },
      "execution_count": 9,
      "outputs": []
    },
    {
      "cell_type": "code",
      "source": [
        "# !pip install langchain-ollama"
      ],
      "metadata": {
        "colab": {
          "base_uri": "https://localhost:8080/"
        },
        "id": "ovp_ACPO9x6I",
        "outputId": "18015908-ee88-4292-9e4f-d37ec1c1a4b9"
      },
      "execution_count": 6,
      "outputs": [
        {
          "output_type": "stream",
          "name": "stdout",
          "text": [
            "Collecting langchain-ollama\n",
            "  Downloading langchain_ollama-0.3.8-py3-none-any.whl.metadata (2.1 kB)\n",
            "Collecting ollama<1.0.0,>=0.5.3 (from langchain-ollama)\n",
            "  Downloading ollama-0.6.0-py3-none-any.whl.metadata (4.3 kB)\n",
            "Requirement already satisfied: langchain-core<1.0.0,>=0.3.76 in /usr/local/lib/python3.12/dist-packages (from langchain-ollama) (0.3.76)\n",
            "Requirement already satisfied: langsmith>=0.3.45 in /usr/local/lib/python3.12/dist-packages (from langchain-core<1.0.0,>=0.3.76->langchain-ollama) (0.4.28)\n",
            "Requirement already satisfied: tenacity!=8.4.0,<10.0.0,>=8.1.0 in /usr/local/lib/python3.12/dist-packages (from langchain-core<1.0.0,>=0.3.76->langchain-ollama) (8.5.0)\n",
            "Requirement already satisfied: jsonpatch<2.0,>=1.33 in /usr/local/lib/python3.12/dist-packages (from langchain-core<1.0.0,>=0.3.76->langchain-ollama) (1.33)\n",
            "Requirement already satisfied: PyYAML>=5.3 in /usr/local/lib/python3.12/dist-packages (from langchain-core<1.0.0,>=0.3.76->langchain-ollama) (6.0.2)\n",
            "Requirement already satisfied: typing-extensions>=4.7 in /usr/local/lib/python3.12/dist-packages (from langchain-core<1.0.0,>=0.3.76->langchain-ollama) (4.15.0)\n",
            "Requirement already satisfied: packaging>=23.2 in /usr/local/lib/python3.12/dist-packages (from langchain-core<1.0.0,>=0.3.76->langchain-ollama) (25.0)\n",
            "Requirement already satisfied: pydantic>=2.7.4 in /usr/local/lib/python3.12/dist-packages (from langchain-core<1.0.0,>=0.3.76->langchain-ollama) (2.11.9)\n",
            "Requirement already satisfied: httpx>=0.27 in /usr/local/lib/python3.12/dist-packages (from ollama<1.0.0,>=0.5.3->langchain-ollama) (0.28.1)\n",
            "Requirement already satisfied: anyio in /usr/local/lib/python3.12/dist-packages (from httpx>=0.27->ollama<1.0.0,>=0.5.3->langchain-ollama) (4.10.0)\n",
            "Requirement already satisfied: certifi in /usr/local/lib/python3.12/dist-packages (from httpx>=0.27->ollama<1.0.0,>=0.5.3->langchain-ollama) (2025.8.3)\n",
            "Requirement already satisfied: httpcore==1.* in /usr/local/lib/python3.12/dist-packages (from httpx>=0.27->ollama<1.0.0,>=0.5.3->langchain-ollama) (1.0.9)\n",
            "Requirement already satisfied: idna in /usr/local/lib/python3.12/dist-packages (from httpx>=0.27->ollama<1.0.0,>=0.5.3->langchain-ollama) (3.10)\n",
            "Requirement already satisfied: h11>=0.16 in /usr/local/lib/python3.12/dist-packages (from httpcore==1.*->httpx>=0.27->ollama<1.0.0,>=0.5.3->langchain-ollama) (0.16.0)\n",
            "Requirement already satisfied: jsonpointer>=1.9 in /usr/local/lib/python3.12/dist-packages (from jsonpatch<2.0,>=1.33->langchain-core<1.0.0,>=0.3.76->langchain-ollama) (3.0.0)\n",
            "Requirement already satisfied: orjson>=3.9.14 in /usr/local/lib/python3.12/dist-packages (from langsmith>=0.3.45->langchain-core<1.0.0,>=0.3.76->langchain-ollama) (3.11.3)\n",
            "Requirement already satisfied: requests-toolbelt>=1.0.0 in /usr/local/lib/python3.12/dist-packages (from langsmith>=0.3.45->langchain-core<1.0.0,>=0.3.76->langchain-ollama) (1.0.0)\n",
            "Requirement already satisfied: requests>=2.0.0 in /usr/local/lib/python3.12/dist-packages (from langsmith>=0.3.45->langchain-core<1.0.0,>=0.3.76->langchain-ollama) (2.32.4)\n",
            "Requirement already satisfied: zstandard>=0.23.0 in /usr/local/lib/python3.12/dist-packages (from langsmith>=0.3.45->langchain-core<1.0.0,>=0.3.76->langchain-ollama) (0.25.0)\n",
            "Requirement already satisfied: annotated-types>=0.6.0 in /usr/local/lib/python3.12/dist-packages (from pydantic>=2.7.4->langchain-core<1.0.0,>=0.3.76->langchain-ollama) (0.7.0)\n",
            "Requirement already satisfied: pydantic-core==2.33.2 in /usr/local/lib/python3.12/dist-packages (from pydantic>=2.7.4->langchain-core<1.0.0,>=0.3.76->langchain-ollama) (2.33.2)\n",
            "Requirement already satisfied: typing-inspection>=0.4.0 in /usr/local/lib/python3.12/dist-packages (from pydantic>=2.7.4->langchain-core<1.0.0,>=0.3.76->langchain-ollama) (0.4.1)\n",
            "Requirement already satisfied: charset_normalizer<4,>=2 in /usr/local/lib/python3.12/dist-packages (from requests>=2.0.0->langsmith>=0.3.45->langchain-core<1.0.0,>=0.3.76->langchain-ollama) (3.4.3)\n",
            "Requirement already satisfied: urllib3<3,>=1.21.1 in /usr/local/lib/python3.12/dist-packages (from requests>=2.0.0->langsmith>=0.3.45->langchain-core<1.0.0,>=0.3.76->langchain-ollama) (2.5.0)\n",
            "Requirement already satisfied: sniffio>=1.1 in /usr/local/lib/python3.12/dist-packages (from anyio->httpx>=0.27->ollama<1.0.0,>=0.5.3->langchain-ollama) (1.3.1)\n",
            "Downloading langchain_ollama-0.3.8-py3-none-any.whl (25 kB)\n",
            "Downloading ollama-0.6.0-py3-none-any.whl (14 kB)\n",
            "Installing collected packages: ollama, langchain-ollama\n",
            "Successfully installed langchain-ollama-0.3.8 ollama-0.6.0\n"
          ]
        }
      ]
    },
    {
      "cell_type": "code",
      "source": [
        "from langchain_ollama.llms import OllamaLLM\n",
        "from langchain_core.prompts import ChatPromptTemplate\n",
        "# langchain is a framework that makes it easier to work with llms. It has extensions, like the Ollama extension, which lets us use these models"
      ],
      "metadata": {
        "id": "hPZJY1fN9DxU"
      },
      "execution_count": 7,
      "outputs": []
    }
  ]
}